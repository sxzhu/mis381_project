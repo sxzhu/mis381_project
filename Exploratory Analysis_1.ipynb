{
 "cells": [
  {
   "cell_type": "code",
   "execution_count": 1,
   "metadata": {},
   "outputs": [
    {
     "name": "stdout",
     "output_type": "stream",
     "text": [
      "Populating the interactive namespace from numpy and matplotlib\n"
     ]
    }
   ],
   "source": [
    "from pandas import Series, DataFrame\n",
    "import pandas as pd\n",
    "import calendar\n",
    "%pylab inline"
   ]
  },
  {
   "cell_type": "markdown",
   "metadata": {},
   "source": [
    "# Setup"
   ]
  },
  {
   "cell_type": "code",
   "execution_count": 2,
   "metadata": {},
   "outputs": [
    {
     "data": {
      "text/html": [
       "<div>\n",
       "<style>\n",
       "    .dataframe thead tr:only-child th {\n",
       "        text-align: right;\n",
       "    }\n",
       "\n",
       "    .dataframe thead th {\n",
       "        text-align: left;\n",
       "    }\n",
       "\n",
       "    .dataframe tbody tr th {\n",
       "        vertical-align: top;\n",
       "    }\n",
       "</style>\n",
       "<table border=\"1\" class=\"dataframe\">\n",
       "  <thead>\n",
       "    <tr style=\"text-align: right;\">\n",
       "      <th></th>\n",
       "      <th>Clearance Date</th>\n",
       "      <th>Clearance Status</th>\n",
       "      <th>Council District</th>\n",
       "      <th>Census Tract</th>\n",
       "      <th>District</th>\n",
       "      <th>Highest Offense Description</th>\n",
       "      <th>Location</th>\n",
       "      <th>Zipcode</th>\n",
       "      <th>Primary Key</th>\n",
       "      <th>Report Date</th>\n",
       "      <th>X Coordinate</th>\n",
       "      <th>Y Coordinate</th>\n",
       "      <th>Offense Description</th>\n",
       "      <th>Date</th>\n",
       "      <th>Month</th>\n",
       "      <th>Year</th>\n",
       "    </tr>\n",
       "  </thead>\n",
       "  <tbody>\n",
       "    <tr>\n",
       "      <th>0</th>\n",
       "      <td>04/28/2014 12:00:00 AM</td>\n",
       "      <td>N</td>\n",
       "      <td>1</td>\n",
       "      <td>18.350000000000001</td>\n",
       "      <td>E</td>\n",
       "      <td>AGG ROBBERY/DEADLY WEAPON</td>\n",
       "      <td>12151 N IH 35 SVRD NB                         ...</td>\n",
       "      <td>78753</td>\n",
       "      <td>20141061920</td>\n",
       "      <td>04/17/2014 12:00:00 AM</td>\n",
       "      <td>3135985</td>\n",
       "      <td>10117220</td>\n",
       "      <td>Robbery</td>\n",
       "      <td>2014-04-17</td>\n",
       "      <td>Apr</td>\n",
       "      <td>2014</td>\n",
       "    </tr>\n",
       "    <tr>\n",
       "      <th>1</th>\n",
       "      <td>05/20/2014 12:00:00 AM</td>\n",
       "      <td>N</td>\n",
       "      <td>1</td>\n",
       "      <td>21.13</td>\n",
       "      <td>I</td>\n",
       "      <td>ROBBERY BY ASSAULT</td>\n",
       "      <td>3300 BLOCK ROCKHURST LN                       ...</td>\n",
       "      <td>78723</td>\n",
       "      <td>20141150937</td>\n",
       "      <td>04/25/2014 12:00:00 AM</td>\n",
       "      <td>3137985</td>\n",
       "      <td>10087946</td>\n",
       "      <td>Robbery</td>\n",
       "      <td>2014-04-25</td>\n",
       "      <td>Apr</td>\n",
       "      <td>2014</td>\n",
       "    </tr>\n",
       "    <tr>\n",
       "      <th>2</th>\n",
       "      <td>05/13/2014 12:00:00 AM</td>\n",
       "      <td>N</td>\n",
       "      <td>3</td>\n",
       "      <td>9.02</td>\n",
       "      <td>C</td>\n",
       "      <td>ROBBERY BY THREAT</td>\n",
       "      <td>E 7TH ST / CHICON ST                          ...</td>\n",
       "      <td>78702</td>\n",
       "      <td>20141310316</td>\n",
       "      <td>05/11/2014 12:00:00 AM</td>\n",
       "      <td>3120890</td>\n",
       "      <td>10068910</td>\n",
       "      <td>Robbery</td>\n",
       "      <td>2014-05-11</td>\n",
       "      <td>May</td>\n",
       "      <td>2014</td>\n",
       "    </tr>\n",
       "    <tr>\n",
       "      <th>3</th>\n",
       "      <td>03/24/2015 12:00:00 AM</td>\n",
       "      <td>C</td>\n",
       "      <td>1</td>\n",
       "      <td>21.04</td>\n",
       "      <td>I</td>\n",
       "      <td>AGG ROBBERY/DEADLY WEAPON</td>\n",
       "      <td>WHELESS LN / BERKMAN DR                       ...</td>\n",
       "      <td>78723</td>\n",
       "      <td>20141670098</td>\n",
       "      <td>06/16/2014 12:00:00 AM</td>\n",
       "      <td>3130566</td>\n",
       "      <td>10089446</td>\n",
       "      <td>Robbery</td>\n",
       "      <td>2014-06-16</td>\n",
       "      <td>Jun</td>\n",
       "      <td>2014</td>\n",
       "    </tr>\n",
       "    <tr>\n",
       "      <th>4</th>\n",
       "      <td>10/02/2014 12:00:00 AM</td>\n",
       "      <td>N</td>\n",
       "      <td>3</td>\n",
       "      <td>9.02</td>\n",
       "      <td>G</td>\n",
       "      <td>AGG ROBBERY/DEADLY WEAPON</td>\n",
       "      <td>WALLER ST / E 2ND ST                          ...</td>\n",
       "      <td>78702</td>\n",
       "      <td>20142070292</td>\n",
       "      <td>07/26/2014 12:00:00 AM</td>\n",
       "      <td>3117732</td>\n",
       "      <td>10068195</td>\n",
       "      <td>Robbery</td>\n",
       "      <td>2014-07-26</td>\n",
       "      <td>Jul</td>\n",
       "      <td>2014</td>\n",
       "    </tr>\n",
       "  </tbody>\n",
       "</table>\n",
       "</div>"
      ],
      "text/plain": [
       "           Clearance Date Clearance Status Council District  \\\n",
       "0  04/28/2014 12:00:00 AM                N                1   \n",
       "1  05/20/2014 12:00:00 AM                N                1   \n",
       "2  05/13/2014 12:00:00 AM                N                3   \n",
       "3  03/24/2015 12:00:00 AM                C                1   \n",
       "4  10/02/2014 12:00:00 AM                N                3   \n",
       "\n",
       "         Census Tract District     Highest Offense Description  \\\n",
       "0  18.350000000000001        E  AGG ROBBERY/DEADLY WEAPON        \n",
       "1               21.13        I  ROBBERY BY ASSAULT               \n",
       "2                9.02        C  ROBBERY BY THREAT                \n",
       "3               21.04        I  AGG ROBBERY/DEADLY WEAPON        \n",
       "4                9.02        G  AGG ROBBERY/DEADLY WEAPON        \n",
       "\n",
       "                                            Location Zipcode  Primary Key  \\\n",
       "0  12151 N IH 35 SVRD NB                         ...   78753  20141061920   \n",
       "1  3300 BLOCK ROCKHURST LN                       ...   78723  20141150937   \n",
       "2  E 7TH ST / CHICON ST                          ...   78702  20141310316   \n",
       "3  WHELESS LN / BERKMAN DR                       ...   78723  20141670098   \n",
       "4  WALLER ST / E 2ND ST                          ...   78702  20142070292   \n",
       "\n",
       "              Report Date X Coordinate Y Coordinate Offense Description  \\\n",
       "0  04/17/2014 12:00:00 AM      3135985     10117220             Robbery   \n",
       "1  04/25/2014 12:00:00 AM      3137985     10087946             Robbery   \n",
       "2  05/11/2014 12:00:00 AM      3120890     10068910             Robbery   \n",
       "3  06/16/2014 12:00:00 AM      3130566     10089446             Robbery   \n",
       "4  07/26/2014 12:00:00 AM      3117732     10068195             Robbery   \n",
       "\n",
       "        Date Month  Year  \n",
       "0 2014-04-17   Apr  2014  \n",
       "1 2014-04-25   Apr  2014  \n",
       "2 2014-05-11   May  2014  \n",
       "3 2014-06-16   Jun  2014  \n",
       "4 2014-07-26   Jul  2014  "
      ]
     },
     "execution_count": 2,
     "metadata": {},
     "output_type": "execute_result"
    }
   ],
   "source": [
    "#read data in, appended 2014/2015, removed GO from col names\n",
    "crime2014 = pd.read_csv(\"Austin_Crime_2014.csv\", dtype=unicode, encoding='utf-8')\n",
    "crime2014[:3]\n",
    "\n",
    "crime2015 = pd.read_csv(\"Austin_Crime_2015.csv\", dtype=unicode, encoding='utf-8')\n",
    "crime = crime2014.append(crime2015,ignore_index=True)\n",
    "\n",
    "crime = crime.rename(index=str, columns={\"Highest NIBRS/UCR Offense Description\": \"Offense Description\",\\\n",
    "                                 \"GO Highest Offense Desc\":\"Highest Offense Description\",\\\n",
    "                                 \"GO Location\":\"Location\",\"GO Report Date\":\"Report Date\",\\\n",
    "                                 \"GO Location Zip\":\"Zipcode\",\"GO District\":\"District\",\"GO Census Tract\":\"Census Tract\",\\\n",
    "                                 \"GO X Coordinate\":\"X Coordinate\",\"GO Y Coordinate\":\"Y Coordinate\",\\\n",
    "                                      \"GO Primary Key\":\"Primary Key\"})\n",
    "\n",
    "crime = crime.drop('Location_1', axis=1)\n",
    "crime['Date'] = pd.DatetimeIndex(crime['Report Date'])\n",
    "crime['Month'] = pd.DatetimeIndex(crime['Date']).month\n",
    "crime['Month'] = crime['Month'].apply(lambda x: calendar.month_abbr[x])\n",
    "crime['Year'] = pd.DatetimeIndex(crime['Report Date']).year\n",
    "\n",
    "crime.head()"
   ]
  },
  {
   "cell_type": "markdown",
   "metadata": {},
   "source": [
    "## Merge Crimes"
   ]
  },
  {
   "cell_type": "code",
   "execution_count": 3,
   "metadata": {},
   "outputs": [
    {
     "data": {
      "text/plain": [
       "Theft                       28274\n",
       "Theft: All Other Larceny    13539\n",
       "Burglary                    10597\n",
       "Theft: BOV                  10545\n",
       "Theft: Auto Parts            4437\n",
       "Theft: Shoplifting           4284\n",
       "Aggravated Assault           3803\n",
       "Robbery                      1809\n",
       "Rape                         1042\n",
       "Theft: Pocket Picking         448\n",
       "Theft: from Building          221\n",
       "Theft: Coin Op Machine        153\n",
       "Murder                         55\n",
       "Theft: Purse Snatching          7\n",
       "Name: Offense Description, dtype: int64"
      ]
     },
     "execution_count": 3,
     "metadata": {},
     "output_type": "execute_result"
    }
   ],
   "source": [
    "def merge_crimes(s):\n",
    "    \"\"\"Map some crimes together.\"\"\"\n",
    "    \n",
    "    # Create a map of misspellings to correct spelling\n",
    "    misspellings = {'Burglary / \\nBreaking & Entering':'Burglary',\n",
    "                    'Auto Theft':'Theft: Auto Parts',\n",
    "                    'Homicide: Murder & Nonnegligent Manslaughter':'Murder',\n",
    "                    'Agg Assault':'Aggravated Assault'}\n",
    "    \n",
    "    if s in misspellings:\n",
    "        return misspellings[s]\n",
    "    else:\n",
    "        return s\n",
    "    \n",
    "# Apply the function to the Series\n",
    "crime['Offense Description'] = crime['Offense Description'].map(merge_crimes)\n",
    "\n",
    "# Check that it worked\n",
    "mask = (crime['Offense Description'] == 'Agg Assault')\n",
    "crime['Offense Description'][mask]  # should be empty\n",
    "\n",
    "crime['Offense Description'].value_counts()"
   ]
  },
  {
   "cell_type": "markdown",
   "metadata": {},
   "source": [
    "## Crime by District"
   ]
  },
  {
   "cell_type": "code",
   "execution_count": 4,
   "metadata": {},
   "outputs": [
    {
     "data": {
      "text/plain": [
       "[<matplotlib.text.Text at 0x118a64dd0>, <matplotlib.text.Text at 0x11871a5d0>]"
      ]
     },
     "execution_count": 4,
     "metadata": {},
     "output_type": "execute_result"
    },
    {
     "data": {
      "image/png": "[encoded data removed]",
      "text/plain": [
       "<matplotlib.figure.Figure at 0x1134fa850>"
      ]
     },
     "metadata": {},
     "output_type": "display_data"
    }
   ],
   "source": [
    "crime_district = crime['District'].value_counts()\n",
    "crime_district.plot(kind='bar').set(xlabel=\"District\", ylabel=\"Number of Crimes\")"
   ]
  },
  {
   "cell_type": "markdown",
   "metadata": {},
   "source": [
    "## Crime by Zip Code\n",
    "\n",
    "- what zipcode had the most number of crimes? could we add this to a map of austin split by zipcode?\n",
    "- http://www.zipmap.net/Texas/Travis_County/Austin.htm"
   ]
  },
  {
   "cell_type": "code",
   "execution_count": 5,
   "metadata": {},
   "outputs": [
    {
     "data": {
      "text/plain": [
       "[<matplotlib.text.Text at 0x11c04c450>, <matplotlib.text.Text at 0x11c030a90>]"
      ]
     },
     "execution_count": 5,
     "metadata": {},
     "output_type": "execute_result"
    },
    {
     "data": {
      "image/png": "[encoded data removed]",
      "text/plain": [
       "<matplotlib.figure.Figure at 0x11bfcae10>"
      ]
     },
     "metadata": {},
     "output_type": "display_data"
    }
   ],
   "source": [
    "crime_zip = crime['Zipcode'].value_counts()\n",
    "crime_zip[:10].plot(kind='bar').set(xlabel=\"Zip Code\", ylabel=\"Number of Crimes\")"
   ]
  },
  {
   "cell_type": "markdown",
   "metadata": {},
   "source": [
    "## Frequency of Crimes 2014/2015\n",
    "\n",
    "- should we edit data? many different kinds of theft"
   ]
  },
  {
   "cell_type": "code",
   "execution_count": 6,
   "metadata": {},
   "outputs": [
    {
     "data": {
      "text/plain": [
       "<matplotlib.text.Text at 0x11c1494d0>"
      ]
     },
     "execution_count": 6,
     "metadata": {},
     "output_type": "execute_result"
    },
    {
     "data": {
      "image/png": "[encoded data removed]",
      "text/plain": [
       "<matplotlib.figure.Figure at 0x11c062090>"
      ]
     },
     "metadata": {},
     "output_type": "display_data"
    }
   ],
   "source": [
    "crime['Offense Description'].value_counts()\n",
    "\n",
    "crime['Highest Offense Description'].value_counts()[:10].plot(kind=\"bar\")\n",
    "xlabel('Type of Crime')\n",
    "ylabel('Frequency of Crime')"
   ]
  },
  {
   "cell_type": "markdown",
   "metadata": {},
   "source": [
    "## Crime by Year\n",
    "\n",
    "- similar counts"
   ]
  },
  {
   "cell_type": "code",
   "execution_count": 7,
   "metadata": {},
   "outputs": [
    {
     "data": {
      "text/plain": [
       "2014    40641\n",
       "2015    38573\n",
       "Name: Year, dtype: int64"
      ]
     },
     "execution_count": 7,
     "metadata": {},
     "output_type": "execute_result"
    },
    {
     "data": {
      "image/png": "[encoded data removed]",
      "text/plain": [
       "<matplotlib.figure.Figure at 0x11c20e290>"
      ]
     },
     "metadata": {},
     "output_type": "display_data"
    }
   ],
   "source": [
    "crime_year = crime['Year'].value_counts()\n",
    "crime_year.plot(kind='bar').set(xlabel=\"Year\", ylabel=\"Number of Crimes\")\n",
    "crime_year"
   ]
  },
  {
   "cell_type": "code",
   "execution_count": 8,
   "metadata": {},
   "outputs": [
    {
     "data": {
      "text/plain": [
       "<matplotlib.text.Text at 0x11c221150>"
      ]
     },
     "execution_count": 8,
     "metadata": {},
     "output_type": "execute_result"
    },
    {
     "data": {
      "image/png": "[encoded data removed]",
      "text/plain": [
       "<matplotlib.figure.Figure at 0x11c10f0d0>"
      ]
     },
     "metadata": {},
     "output_type": "display_data"
    }
   ],
   "source": [
    "#most common crime per zipcode, plotted number of zipcodes that had certain most common crime\n",
    "\n",
    "table = pd.crosstab(index=crime['Offense Description'],columns=crime['Zipcode'])\n",
    "table\n",
    "#print table.idxmax()\n",
    "#not interesting--all theft--must normalize\n",
    "\n",
    "violationFrequency = crime['Offense Description'].value_counts()\n",
    "most_common_crimes_per_zip = (table.T / violationFrequency).idxmax(axis=1) #series\n",
    "most_common_crimes_per_zip[:3]\n",
    "common=pd.DataFrame(index=crime['Zipcode'].value_counts().index,columns=['Most Common Crime'])\n",
    "#crime['Zipcode'].value_counts().index\n",
    "common['Most Common Crime'] = most_common_crimes_per_zip\n",
    "common['Most Common Crime'].value_counts().plot(kind='bar') #number of zipcodes that have these as the most common crimes\n",
    "xlabel('Most Common Crime')\n",
    "ylabel('Frequency of Crime to be Most Common')"
   ]
  },
  {
   "cell_type": "markdown",
   "metadata": {},
   "source": [
    "## Crime by Month"
   ]
  },
  {
   "cell_type": "code",
   "execution_count": 9,
   "metadata": {},
   "outputs": [
    {
     "data": {
      "text/html": [
       "<div>\n",
       "<style>\n",
       "    .dataframe thead tr:only-child th {\n",
       "        text-align: right;\n",
       "    }\n",
       "\n",
       "    .dataframe thead th {\n",
       "        text-align: left;\n",
       "    }\n",
       "\n",
       "    .dataframe tbody tr th {\n",
       "        vertical-align: top;\n",
       "    }\n",
       "</style>\n",
       "<table border=\"1\" class=\"dataframe\">\n",
       "  <thead>\n",
       "    <tr style=\"text-align: right;\">\n",
       "      <th></th>\n",
       "      <th>Most Common Crime</th>\n",
       "    </tr>\n",
       "  </thead>\n",
       "  <tbody>\n",
       "    <tr>\n",
       "      <th>Jan</th>\n",
       "      <td>Theft: Purse Snatching</td>\n",
       "    </tr>\n",
       "    <tr>\n",
       "      <th>Feb</th>\n",
       "      <td>Theft: Coin Op Machine</td>\n",
       "    </tr>\n",
       "    <tr>\n",
       "      <th>Mar</th>\n",
       "      <td>Theft: Coin Op Machine</td>\n",
       "    </tr>\n",
       "    <tr>\n",
       "      <th>Apr</th>\n",
       "      <td>Theft: Purse Snatching</td>\n",
       "    </tr>\n",
       "    <tr>\n",
       "      <th>May</th>\n",
       "      <td>Theft: Purse Snatching</td>\n",
       "    </tr>\n",
       "    <tr>\n",
       "      <th>Jun</th>\n",
       "      <td>Theft: Purse Snatching</td>\n",
       "    </tr>\n",
       "    <tr>\n",
       "      <th>Jul</th>\n",
       "      <td>Theft: Coin Op Machine</td>\n",
       "    </tr>\n",
       "    <tr>\n",
       "      <th>Aug</th>\n",
       "      <td>Theft: Coin Op Machine</td>\n",
       "    </tr>\n",
       "    <tr>\n",
       "      <th>Sep</th>\n",
       "      <td>Murder</td>\n",
       "    </tr>\n",
       "    <tr>\n",
       "      <th>Oct</th>\n",
       "      <td>Theft: Purse Snatching</td>\n",
       "    </tr>\n",
       "    <tr>\n",
       "      <th>Nov</th>\n",
       "      <td>Murder</td>\n",
       "    </tr>\n",
       "    <tr>\n",
       "      <th>Dec</th>\n",
       "      <td>Murder</td>\n",
       "    </tr>\n",
       "  </tbody>\n",
       "</table>\n",
       "</div>"
      ],
      "text/plain": [
       "          Most Common Crime\n",
       "Jan  Theft: Purse Snatching\n",
       "Feb  Theft: Coin Op Machine\n",
       "Mar  Theft: Coin Op Machine\n",
       "Apr  Theft: Purse Snatching\n",
       "May  Theft: Purse Snatching\n",
       "Jun  Theft: Purse Snatching\n",
       "Jul  Theft: Coin Op Machine\n",
       "Aug  Theft: Coin Op Machine\n",
       "Sep                  Murder\n",
       "Oct  Theft: Purse Snatching\n",
       "Nov                  Murder\n",
       "Dec                  Murder"
      ]
     },
     "execution_count": 9,
     "metadata": {},
     "output_type": "execute_result"
    }
   ],
   "source": [
    "#which crimes are most common in each month? normalized\n",
    "table = pd.crosstab(index=crime['Offense Description'],columns=crime['Month'])\n",
    "#print(table)\n",
    "#print table.idxmax()\n",
    "#not interesting--all theft--must normalize\n",
    "\n",
    "violationFrequency = crime['Offense Description'].value_counts()\n",
    "most_common_crimes_per_month = (table.T / violationFrequency).idxmax(axis=1) #series\n",
    "most_common_crimes_per_month\n",
    "\n",
    "common = pd.DataFrame(index=crime['Month'].value_counts().index,columns=['Most Common Crime'])\n",
    "# #crime['Zipcode'].value_counts().index\n",
    "common['Most Common Crime'] = most_common_crimes_per_month\n",
    "#common.index=pd.CategoricalIndex(common.index,\\\n",
    "#                                 categories=['January', 'February', 'March', 'April','May','June', 'July',\\\n",
    "#                                             'August','September', 'October', 'November', 'December'], \n",
    "#                               sorted=True)\n",
    "\n",
    "common = common.reindex(['Jan','Feb','Mar','Apr','May', 'Jun', 'Jul', 'Aug', 'Sep', 'Oct', 'Nov', 'Dec'])\n",
    "common\n",
    "\n",
    "#watch out for murders in November and December"
   ]
  },
  {
   "cell_type": "markdown",
   "metadata": {},
   "source": [
    "## Crime by Month 2014"
   ]
  },
  {
   "cell_type": "code",
   "execution_count": 10,
   "metadata": {},
   "outputs": [
    {
     "name": "stdout",
     "output_type": "stream",
     "text": [
      "Jan    3504\n",
      "Feb    2958\n",
      "Mar    3428\n",
      "Apr    3395\n",
      "May    3495\n",
      "Jun    3348\n",
      "Jul    3643\n",
      "Aug    3546\n",
      "Sep    3338\n",
      "Oct    3505\n",
      "Nov    3227\n",
      "Dec    3254\n",
      "Name: Month, dtype: int64\n"
     ]
    },
    {
     "data": {
      "text/plain": [
       "[<matplotlib.text.Text at 0x11ca953d0>, <matplotlib.text.Text at 0x11ca1f490>]"
      ]
     },
     "execution_count": 10,
     "metadata": {},
     "output_type": "execute_result"
    },
    {
     "data": {
      "image/png": "[encoded data removed]",
      "text/plain": [
       "<matplotlib.figure.Figure at 0x11c2375d0>"
      ]
     },
     "metadata": {},
     "output_type": "display_data"
    }
   ],
   "source": [
    "mask_2014 = crime['Year']==2014\n",
    "crime_2014 = crime[mask_2014]\n",
    "y2014_count = crime_2014['Month'].value_counts()\n",
    "y2014_count = y2014_count.reindex(['Jan','Feb','Mar','Apr','May', 'Jun', 'Jul', 'Aug', 'Sep', 'Oct', 'Nov', 'Dec'])\n",
    "print(y2014_count)\n",
    "y2014_count.plot(kind='bar').set(xlabel=\"Month in 2014\", ylabel=\"Number of Crimes\")"
   ]
  },
  {
   "cell_type": "markdown",
   "metadata": {},
   "source": [
    "## Crime by Month 2015\n",
    "\n",
    "- always a drop in February\n",
    "- always peaks in July"
   ]
  },
  {
   "cell_type": "code",
   "execution_count": 11,
   "metadata": {},
   "outputs": [
    {
     "name": "stdout",
     "output_type": "stream",
     "text": [
      "Jan    3067\n",
      "Feb    2873\n",
      "Mar    3203\n",
      "Apr    3190\n",
      "May    3349\n",
      "Jun    3288\n",
      "Jul    3524\n",
      "Aug    3346\n",
      "Sep    3166\n",
      "Oct    3080\n",
      "Nov    3168\n",
      "Dec    3319\n",
      "Name: Month, dtype: int64\n"
     ]
    },
    {
     "data": {
      "text/plain": [
       "[<matplotlib.text.Text at 0x11c53d8d0>, <matplotlib.text.Text at 0x11cb38510>]"
      ]
     },
     "execution_count": 11,
     "metadata": {},
     "output_type": "execute_result"
    },
    {
     "data": {
      "image/png": "[encoded data removed]",
      "text/plain": [
       "<matplotlib.figure.Figure at 0x11cb9bb50>"
      ]
     },
     "metadata": {},
     "output_type": "display_data"
    }
   ],
   "source": [
    "mask_2015 = crime['Year']==2015\n",
    "crime_2015 = crime[mask_2015]\n",
    "y2015_count = crime_2015['Month'].value_counts()\n",
    "y2015_count = y2015_count.reindex(['Jan','Feb','Mar','Apr','May', 'Jun', 'Jul', 'Aug', 'Sep', 'Oct', 'Nov', 'Dec'])\n",
    "print(y2015_count)\n",
    "y2015_count.plot(kind='bar').set(xlabel=\"Month in 2015\", ylabel=\"Number of Crimes\")"
   ]
  },
  {
   "cell_type": "markdown",
   "metadata": {},
   "source": [
    "## Clearance Frequencies"
   ]
  },
  {
   "cell_type": "code",
   "execution_count": 12,
   "metadata": {},
   "outputs": [
    {
     "data": {
      "text/plain": [
       "Offense Description\n",
       "Aggravated Assault          O\n",
       "Burglary                    N\n",
       "Murder                      C\n",
       "Rape                        O\n",
       "Robbery                     O\n",
       "Theft                       N\n",
       "Theft: All Other Larceny    N\n",
       "Theft: Auto Parts           O\n",
       "Theft: BOV                  N\n",
       "Theft: Coin Op Machine      N\n",
       "Theft: Pocket Picking       O\n",
       "Theft: Purse Snatching      N\n",
       "Theft: Shoplifting          C\n",
       "Theft: from Building        N\n",
       "dtype: object"
      ]
     },
     "execution_count": 12,
     "metadata": {},
     "output_type": "execute_result"
    }
   ],
   "source": [
    "crime['Clearance Status'].value_counts() #most are not cleared :/ \n",
    "#look at crime type and clearance status \n",
    "\n",
    "#for each crime, what is the most common clearance status after normalizing? \n",
    "table = pd.crosstab(index=crime['Clearance Status'],columns=crime['Offense Description'])\n",
    "\n",
    "violationFrequency = crime['Clearance Status'].value_counts()\n",
    "most_common_status_per_crime = (table.T / violationFrequency).idxmax(axis=1) #series\n",
    "most_common_status_per_crime\n",
    "#O=cleared by exception, C- cleared by arrest, N- not cleared"
   ]
  },
  {
   "cell_type": "code",
   "execution_count": 13,
   "metadata": {},
   "outputs": [
    {
     "data": {
      "text/plain": [
       "<matplotlib.axes._subplots.AxesSubplot at 0x11c20e290>"
      ]
     },
     "execution_count": 13,
     "metadata": {},
     "output_type": "execute_result"
    },
    {
     "data": {
      "image/png": "[encoded data removed]",
      "text/plain": [
       "<matplotlib.figure.Figure at 0x11c32dc90>"
      ]
     },
     "metadata": {},
     "output_type": "display_data"
    }
   ],
   "source": [
    "crime['Clearance Status'].value_counts().plot(kind='bar')\n",
    "#the large majority of crimes are not cleared. why?"
   ]
  },
  {
   "cell_type": "markdown",
   "metadata": {},
   "source": [
    "## Clearance Likelihood"
   ]
  },
  {
   "cell_type": "code",
   "execution_count": 14,
   "metadata": {},
   "outputs": [
    {
     "data": {
      "text/plain": [
       "Theft: Purse Snatching      1.000000\n",
       "Theft: from Building        0.968326\n",
       "Theft: BOV                  0.950972\n",
       "Theft: Coin Op Machine      0.934641\n",
       "Burglary                    0.872605\n",
       "Theft: Pocket Picking       0.841518\n",
       "Theft: All Other Larceny    0.839501\n",
       "Theft: Auto Parts           0.824656\n",
       "Theft                       0.815661\n",
       "Robbery                     0.617468\n",
       "Rape                        0.446257\n",
       "Aggravated Assault          0.347620\n",
       "Theft: Shoplifting          0.340570\n",
       "Murder                      0.090909\n",
       "Name: Offense Description, dtype: float64"
      ]
     },
     "execution_count": 14,
     "metadata": {},
     "output_type": "execute_result"
    }
   ],
   "source": [
    "#what crimes are most likely to not be cleared?\n",
    "mask=(crime['Clearance Status']=='N')\n",
    "crime[mask] #why do the not cleared have clearance dates? did they give up?\n",
    "prob_crime_type_not_cleared=crime[mask]['Offense Description'].value_counts()/crime['Offense Description'].value_counts()\n",
    "prob_crime_type_not_cleared.sort_values(ascending=False)\n",
    "#purse snatching has never been cleared???  high non-clearance rates. murder is low "
   ]
  },
  {
   "cell_type": "code",
   "execution_count": 15,
   "metadata": {},
   "outputs": [
    {
     "data": {
      "text/plain": [
       "Murder                      0.600000\n",
       "Theft: Shoplifting          0.563492\n",
       "Aggravated Assault          0.476203\n",
       "Robbery                     0.254837\n",
       "Rape                        0.226488\n",
       "Theft: Auto Parts           0.129141\n",
       "Theft                       0.116609\n",
       "Theft: All Other Larceny    0.094542\n",
       "Burglary                    0.083986\n",
       "Theft: Pocket Picking       0.069196\n",
       "Theft: Coin Op Machine      0.039216\n",
       "Theft: BOV                  0.022949\n",
       "Theft: from Building        0.004525\n",
       "Theft: Purse Snatching           NaN\n",
       "Name: Offense Description, dtype: float64"
      ]
     },
     "execution_count": 15,
     "metadata": {},
     "output_type": "execute_result"
    }
   ],
   "source": [
    "#what crime is the most likely to be cleared by arrest?\n",
    "prob_crime_type_cleared=crime[crime['Clearance Status']=='C']['Offense Description'].value_counts()\\\n",
    "                        /crime['Offense Description'].value_counts()\n",
    "prob_crime_type_cleared.sort_values(ascending=False)\n",
    "#Murder is the crime with the highest clearance rate- still only 60%. "
   ]
  },
  {
   "cell_type": "code",
   "execution_count": 16,
   "metadata": {},
   "outputs": [
    {
     "data": {
      "text/plain": [
       "Rape                        0.292706\n",
       "Aggravated Assault          0.141467\n",
       "Murder                      0.090909\n",
       "Theft: Pocket Picking       0.051339\n",
       "Robbery                     0.050304\n",
       "Theft: Auto Parts           0.036060\n",
       "Burglary                    0.024630\n",
       "Theft: All Other Larceny    0.023266\n",
       "Theft                       0.011106\n",
       "Theft: from Building        0.009050\n",
       "Theft: Coin Op Machine      0.006536\n",
       "Theft: Shoplifting          0.006536\n",
       "Theft: BOV                  0.002845\n",
       "Theft: Purse Snatching           NaN\n",
       "Name: Offense Description, dtype: float64"
      ]
     },
     "execution_count": 16,
     "metadata": {},
     "output_type": "execute_result"
    }
   ],
   "source": [
    "#most likley crime to be cleared by exception\n",
    "prob_crime_type_O=crime[crime['Clearance Status']=='O']['Offense Description'].value_counts()\\\n",
    "                        /crime['Offense Description'].value_counts()\n",
    "prob_crime_type_O.sort_values(ascending=False)"
   ]
  },
  {
   "cell_type": "code",
   "execution_count": 17,
   "metadata": {},
   "outputs": [
    {
     "data": {
      "text/html": [
       "<div>\n",
       "<style>\n",
       "    .dataframe thead tr:only-child th {\n",
       "        text-align: right;\n",
       "    }\n",
       "\n",
       "    .dataframe thead th {\n",
       "        text-align: left;\n",
       "    }\n",
       "\n",
       "    .dataframe tbody tr th {\n",
       "        vertical-align: top;\n",
       "    }\n",
       "</style>\n",
       "<table border=\"1\" class=\"dataframe\">\n",
       "  <thead>\n",
       "    <tr style=\"text-align: right;\">\n",
       "      <th></th>\n",
       "      <th>Clearance Date</th>\n",
       "      <th>Clearance Status</th>\n",
       "      <th>Council District</th>\n",
       "      <th>Census Tract</th>\n",
       "      <th>District</th>\n",
       "      <th>Highest Offense Description</th>\n",
       "      <th>Location</th>\n",
       "      <th>Zipcode</th>\n",
       "      <th>Primary Key</th>\n",
       "      <th>Report Date</th>\n",
       "      <th>X Coordinate</th>\n",
       "      <th>Y Coordinate</th>\n",
       "      <th>Offense Description</th>\n",
       "      <th>Date</th>\n",
       "      <th>Month</th>\n",
       "      <th>Year</th>\n",
       "      <th>Clearance Time</th>\n",
       "    </tr>\n",
       "  </thead>\n",
       "  <tbody>\n",
       "    <tr>\n",
       "      <th>0</th>\n",
       "      <td>2014-04-28</td>\n",
       "      <td>N</td>\n",
       "      <td>1</td>\n",
       "      <td>18.350000000000001</td>\n",
       "      <td>E</td>\n",
       "      <td>AGG ROBBERY/DEADLY WEAPON</td>\n",
       "      <td>12151 N IH 35 SVRD NB                         ...</td>\n",
       "      <td>78753</td>\n",
       "      <td>20141061920</td>\n",
       "      <td>2014-04-17</td>\n",
       "      <td>3135985</td>\n",
       "      <td>10117220</td>\n",
       "      <td>Robbery</td>\n",
       "      <td>2014-04-17</td>\n",
       "      <td>Apr</td>\n",
       "      <td>2014</td>\n",
       "      <td>11.0</td>\n",
       "    </tr>\n",
       "    <tr>\n",
       "      <th>1</th>\n",
       "      <td>2014-05-20</td>\n",
       "      <td>N</td>\n",
       "      <td>1</td>\n",
       "      <td>21.13</td>\n",
       "      <td>I</td>\n",
       "      <td>ROBBERY BY ASSAULT</td>\n",
       "      <td>3300 BLOCK ROCKHURST LN                       ...</td>\n",
       "      <td>78723</td>\n",
       "      <td>20141150937</td>\n",
       "      <td>2014-04-25</td>\n",
       "      <td>3137985</td>\n",
       "      <td>10087946</td>\n",
       "      <td>Robbery</td>\n",
       "      <td>2014-04-25</td>\n",
       "      <td>Apr</td>\n",
       "      <td>2014</td>\n",
       "      <td>25.0</td>\n",
       "    </tr>\n",
       "    <tr>\n",
       "      <th>2</th>\n",
       "      <td>2014-05-13</td>\n",
       "      <td>N</td>\n",
       "      <td>3</td>\n",
       "      <td>9.02</td>\n",
       "      <td>C</td>\n",
       "      <td>ROBBERY BY THREAT</td>\n",
       "      <td>E 7TH ST / CHICON ST                          ...</td>\n",
       "      <td>78702</td>\n",
       "      <td>20141310316</td>\n",
       "      <td>2014-05-11</td>\n",
       "      <td>3120890</td>\n",
       "      <td>10068910</td>\n",
       "      <td>Robbery</td>\n",
       "      <td>2014-05-11</td>\n",
       "      <td>May</td>\n",
       "      <td>2014</td>\n",
       "      <td>2.0</td>\n",
       "    </tr>\n",
       "    <tr>\n",
       "      <th>3</th>\n",
       "      <td>2015-03-24</td>\n",
       "      <td>C</td>\n",
       "      <td>1</td>\n",
       "      <td>21.04</td>\n",
       "      <td>I</td>\n",
       "      <td>AGG ROBBERY/DEADLY WEAPON</td>\n",
       "      <td>WHELESS LN / BERKMAN DR                       ...</td>\n",
       "      <td>78723</td>\n",
       "      <td>20141670098</td>\n",
       "      <td>2014-06-16</td>\n",
       "      <td>3130566</td>\n",
       "      <td>10089446</td>\n",
       "      <td>Robbery</td>\n",
       "      <td>2014-06-16</td>\n",
       "      <td>Jun</td>\n",
       "      <td>2014</td>\n",
       "      <td>281.0</td>\n",
       "    </tr>\n",
       "    <tr>\n",
       "      <th>4</th>\n",
       "      <td>2014-10-02</td>\n",
       "      <td>N</td>\n",
       "      <td>3</td>\n",
       "      <td>9.02</td>\n",
       "      <td>G</td>\n",
       "      <td>AGG ROBBERY/DEADLY WEAPON</td>\n",
       "      <td>WALLER ST / E 2ND ST                          ...</td>\n",
       "      <td>78702</td>\n",
       "      <td>20142070292</td>\n",
       "      <td>2014-07-26</td>\n",
       "      <td>3117732</td>\n",
       "      <td>10068195</td>\n",
       "      <td>Robbery</td>\n",
       "      <td>2014-07-26</td>\n",
       "      <td>Jul</td>\n",
       "      <td>2014</td>\n",
       "      <td>68.0</td>\n",
       "    </tr>\n",
       "  </tbody>\n",
       "</table>\n",
       "</div>"
      ],
      "text/plain": [
       "  Clearance Date Clearance Status Council District        Census Tract  \\\n",
       "0     2014-04-28                N                1  18.350000000000001   \n",
       "1     2014-05-20                N                1               21.13   \n",
       "2     2014-05-13                N                3                9.02   \n",
       "3     2015-03-24                C                1               21.04   \n",
       "4     2014-10-02                N                3                9.02   \n",
       "\n",
       "  District     Highest Offense Description  \\\n",
       "0        E  AGG ROBBERY/DEADLY WEAPON        \n",
       "1        I  ROBBERY BY ASSAULT               \n",
       "2        C  ROBBERY BY THREAT                \n",
       "3        I  AGG ROBBERY/DEADLY WEAPON        \n",
       "4        G  AGG ROBBERY/DEADLY WEAPON        \n",
       "\n",
       "                                            Location Zipcode  Primary Key  \\\n",
       "0  12151 N IH 35 SVRD NB                         ...   78753  20141061920   \n",
       "1  3300 BLOCK ROCKHURST LN                       ...   78723  20141150937   \n",
       "2  E 7TH ST / CHICON ST                          ...   78702  20141310316   \n",
       "3  WHELESS LN / BERKMAN DR                       ...   78723  20141670098   \n",
       "4  WALLER ST / E 2ND ST                          ...   78702  20142070292   \n",
       "\n",
       "  Report Date X Coordinate Y Coordinate Offense Description       Date Month  \\\n",
       "0  2014-04-17      3135985     10117220             Robbery 2014-04-17   Apr   \n",
       "1  2014-04-25      3137985     10087946             Robbery 2014-04-25   Apr   \n",
       "2  2014-05-11      3120890     10068910             Robbery 2014-05-11   May   \n",
       "3  2014-06-16      3130566     10089446             Robbery 2014-06-16   Jun   \n",
       "4  2014-07-26      3117732     10068195             Robbery 2014-07-26   Jul   \n",
       "\n",
       "   Year  Clearance Time  \n",
       "0  2014            11.0  \n",
       "1  2014            25.0  \n",
       "2  2014             2.0  \n",
       "3  2014           281.0  \n",
       "4  2014            68.0  "
      ]
     },
     "execution_count": 17,
     "metadata": {},
     "output_type": "execute_result"
    }
   ],
   "source": [
    "#adds column for number of days it took to clear\n",
    "crime['Report Date']=pd.to_datetime(crime['Report Date'])\n",
    "crime['Clearance Date']=pd.to_datetime(crime['Clearance Date'])\n",
    "crime['Clearance Time']=crime['Clearance Date']-crime['Report Date']\n",
    "\n",
    "crime['Clearance Time']=crime['Clearance Time'].dt.days #converted it to int\n",
    "crime.head()"
   ]
  },
  {
   "cell_type": "code",
   "execution_count": 18,
   "metadata": {},
   "outputs": [
    {
     "data": {
      "text/html": [
       "<div>\n",
       "<style>\n",
       "    .dataframe thead tr:only-child th {\n",
       "        text-align: right;\n",
       "    }\n",
       "\n",
       "    .dataframe thead th {\n",
       "        text-align: left;\n",
       "    }\n",
       "\n",
       "    .dataframe tbody tr th {\n",
       "        vertical-align: top;\n",
       "    }\n",
       "</style>\n",
       "<table border=\"1\" class=\"dataframe\">\n",
       "  <thead>\n",
       "    <tr style=\"text-align: right;\">\n",
       "      <th></th>\n",
       "      <th>Clearance Time</th>\n",
       "    </tr>\n",
       "    <tr>\n",
       "      <th>Offense Description</th>\n",
       "      <th></th>\n",
       "    </tr>\n",
       "  </thead>\n",
       "  <tbody>\n",
       "    <tr>\n",
       "      <th>Theft: BOV</th>\n",
       "      <td>8.272233</td>\n",
       "    </tr>\n",
       "    <tr>\n",
       "      <th>Theft: Coin Op Machine</th>\n",
       "      <td>10.353333</td>\n",
       "    </tr>\n",
       "    <tr>\n",
       "      <th>Theft: Purse Snatching</th>\n",
       "      <td>12.428571</td>\n",
       "    </tr>\n",
       "    <tr>\n",
       "      <th>Theft: Auto Parts</th>\n",
       "      <td>14.927368</td>\n",
       "    </tr>\n",
       "    <tr>\n",
       "      <th>Theft</th>\n",
       "      <td>15.228808</td>\n",
       "    </tr>\n",
       "    <tr>\n",
       "      <th>Theft: Pocket Picking</th>\n",
       "      <td>18.071926</td>\n",
       "    </tr>\n",
       "    <tr>\n",
       "      <th>Theft: All Other Larceny</th>\n",
       "      <td>18.499421</td>\n",
       "    </tr>\n",
       "    <tr>\n",
       "      <th>Theft: Shoplifting</th>\n",
       "      <td>19.222507</td>\n",
       "    </tr>\n",
       "    <tr>\n",
       "      <th>Aggravated Assault</th>\n",
       "      <td>19.431762</td>\n",
       "    </tr>\n",
       "    <tr>\n",
       "      <th>Theft: from Building</th>\n",
       "      <td>19.585253</td>\n",
       "    </tr>\n",
       "    <tr>\n",
       "      <th>Burglary</th>\n",
       "      <td>22.249471</td>\n",
       "    </tr>\n",
       "    <tr>\n",
       "      <th>Murder</th>\n",
       "      <td>30.744186</td>\n",
       "    </tr>\n",
       "    <tr>\n",
       "      <th>Robbery</th>\n",
       "      <td>46.037148</td>\n",
       "    </tr>\n",
       "    <tr>\n",
       "      <th>Rape</th>\n",
       "      <td>57.172962</td>\n",
       "    </tr>\n",
       "  </tbody>\n",
       "</table>\n",
       "</div>"
      ],
      "text/plain": [
       "                          Clearance Time\n",
       "Offense Description                     \n",
       "Theft: BOV                      8.272233\n",
       "Theft: Coin Op Machine         10.353333\n",
       "Theft: Purse Snatching         12.428571\n",
       "Theft: Auto Parts              14.927368\n",
       "Theft                          15.228808\n",
       "Theft: Pocket Picking          18.071926\n",
       "Theft: All Other Larceny       18.499421\n",
       "Theft: Shoplifting             19.222507\n",
       "Aggravated Assault             19.431762\n",
       "Theft: from Building           19.585253\n",
       "Burglary                       22.249471\n",
       "Murder                         30.744186\n",
       "Robbery                        46.037148\n",
       "Rape                           57.172962"
      ]
     },
     "execution_count": 18,
     "metadata": {},
     "output_type": "execute_result"
    }
   ],
   "source": [
    "mean_crime_clearance_time = crime.groupby(['Offense Description'])[['Clearance Time']].mean()\n",
    "mean_crime_clearance_time.sort_values('Clearance Time')\n",
    "#includes all crimes-- O and N and C"
   ]
  },
  {
   "cell_type": "code",
   "execution_count": 19,
   "metadata": {},
   "outputs": [
    {
     "data": {
      "text/html": [
       "<div>\n",
       "<style>\n",
       "    .dataframe thead tr:only-child th {\n",
       "        text-align: right;\n",
       "    }\n",
       "\n",
       "    .dataframe thead th {\n",
       "        text-align: left;\n",
       "    }\n",
       "\n",
       "    .dataframe tbody tr th {\n",
       "        vertical-align: top;\n",
       "    }\n",
       "</style>\n",
       "<table border=\"1\" class=\"dataframe\">\n",
       "  <thead>\n",
       "    <tr style=\"text-align: right;\">\n",
       "      <th></th>\n",
       "      <th>Clearance Time</th>\n",
       "    </tr>\n",
       "    <tr>\n",
       "      <th>Offense Description</th>\n",
       "      <th></th>\n",
       "    </tr>\n",
       "  </thead>\n",
       "  <tbody>\n",
       "    <tr>\n",
       "      <th>Aggravated Assault</th>\n",
       "      <td>14.636441</td>\n",
       "    </tr>\n",
       "    <tr>\n",
       "      <th>Theft: Shoplifting</th>\n",
       "      <td>14.659705</td>\n",
       "    </tr>\n",
       "    <tr>\n",
       "      <th>Theft: Coin Op Machine</th>\n",
       "      <td>15.571429</td>\n",
       "    </tr>\n",
       "    <tr>\n",
       "      <th>Theft</th>\n",
       "      <td>15.589864</td>\n",
       "    </tr>\n",
       "    <tr>\n",
       "      <th>Theft: Pocket Picking</th>\n",
       "      <td>17.592593</td>\n",
       "    </tr>\n",
       "    <tr>\n",
       "      <th>Theft: BOV</th>\n",
       "      <td>20.485294</td>\n",
       "    </tr>\n",
       "    <tr>\n",
       "      <th>Theft: from Building</th>\n",
       "      <td>21.666667</td>\n",
       "    </tr>\n",
       "    <tr>\n",
       "      <th>Theft: All Other Larceny</th>\n",
       "      <td>24.755486</td>\n",
       "    </tr>\n",
       "    <tr>\n",
       "      <th>Theft: Auto Parts</th>\n",
       "      <td>25.892224</td>\n",
       "    </tr>\n",
       "    <tr>\n",
       "      <th>Murder</th>\n",
       "      <td>27.973684</td>\n",
       "    </tr>\n",
       "    <tr>\n",
       "      <th>Burglary</th>\n",
       "      <td>36.865334</td>\n",
       "    </tr>\n",
       "    <tr>\n",
       "      <th>Robbery</th>\n",
       "      <td>42.831522</td>\n",
       "    </tr>\n",
       "    <tr>\n",
       "      <th>Rape</th>\n",
       "      <td>59.489834</td>\n",
       "    </tr>\n",
       "  </tbody>\n",
       "</table>\n",
       "</div>"
      ],
      "text/plain": [
       "                          Clearance Time\n",
       "Offense Description                     \n",
       "Aggravated Assault             14.636441\n",
       "Theft: Shoplifting             14.659705\n",
       "Theft: Coin Op Machine         15.571429\n",
       "Theft                          15.589864\n",
       "Theft: Pocket Picking          17.592593\n",
       "Theft: BOV                     20.485294\n",
       "Theft: from Building           21.666667\n",
       "Theft: All Other Larceny       24.755486\n",
       "Theft: Auto Parts              25.892224\n",
       "Murder                         27.973684\n",
       "Burglary                       36.865334\n",
       "Robbery                        42.831522\n",
       "Rape                           59.489834"
      ]
     },
     "execution_count": 19,
     "metadata": {},
     "output_type": "execute_result"
    }
   ],
   "source": [
    "#avg clearance time for exception and arrest\n",
    "mask=(crime['Clearance Status']=='N')\n",
    "mean_crime_clearance_time = crime[~mask].groupby(['Offense Description'])[['Clearance Time']].mean()\n",
    "mean_crime_clearance_time.sort_values('Clearance Time')\n",
    "#are there any kinds of clearance standards to compare this to? to see how effective APD is in comparison"
   ]
  },
  {
   "cell_type": "markdown",
   "metadata": {},
   "source": [
    "# Heavy Student Populated Areas\n",
    "- mostly theft, 1 murder"
   ]
  },
  {
   "cell_type": "code",
   "execution_count": 35,
   "metadata": {},
   "outputs": [
    {
     "name": "stderr",
     "output_type": "stream",
     "text": [
      "/Users/shirley/anaconda/lib/python2.7/site-packages/ipykernel_launcher.py:21: SettingWithCopyWarning: \n",
      "A value is trying to be set on a copy of a slice from a DataFrame.\n",
      "Try using .loc[row_indexer,col_indexer] = value instead\n",
      "\n",
      "See the caveats in the documentation: http://pandas.pydata.org/pandas-docs/stable/indexing.html#indexing-view-versus-copy\n"
     ]
    },
    {
     "name": "stdout",
     "output_type": "stream",
     "text": [
      "Total crime count: 8491\n",
      "\n",
      "\n",
      "Theft                 7243\n",
      "Burglary               598\n",
      "Aggravated Assault     300\n",
      "Robbery                206\n",
      "Rape                   141\n",
      "Murder                   3\n",
      "Name: Offense Description, dtype: int64\n"
     ]
    },
    {
     "data": {
      "image/png": "[encoded data removed]",
      "text/plain": [
       "<matplotlib.figure.Figure at 0x11ca5d7d0>"
      ]
     },
     "metadata": {},
     "output_type": "display_data"
    }
   ],
   "source": [
    "crime_wc = crime['Zipcode']==\"78705\"\n",
    "crime_ut = crime['Zipcode']==\"78712\"\n",
    "crime_hyde = crime['Zipcode']==\"78751\"\n",
    "crime_dt = crime['Zipcode']==\"78701\"\n",
    "area_mask = crime_wc | crime_ut | crime_hyde | crime_dt\n",
    "\n",
    "#print(area_mask)\n",
    "\n",
    "crime_student = crime[area_mask]\n",
    "\n",
    "\n",
    "def merge_theft(s):\n",
    "    \"\"\"Map some crimes together.\"\"\"\n",
    "    \n",
    "    if (s[:5]=='Theft'):\n",
    "        return s[:5]\n",
    "    else:\n",
    "        return s\n",
    "    \n",
    "# Apply the function to the Series\n",
    "crime_student['Offense Description'] = crime['Offense Description'].map(merge_theft)\n",
    "\n",
    "\n",
    "#df2 = crime_student.groupby(['Zipcode', 'Offense Description'])['Zipcode'].count().unstack('Offense Description').fillna(0)\n",
    "#df2[['Theft','Burglary']].plot(kind='bar', stacked=True)\n",
    "\n",
    "pylab.rcParams['figure.figsize'] = (10, 8)\n",
    "\n",
    "test5 = crime_student.groupby(['Zipcode', 'Offense Description'])['Zipcode'].count().unstack('Offense Description').fillna(0)\n",
    "test5.plot(kind='bar', stacked=True)\n",
    "\n",
    "\n",
    "# total crime count\n",
    "print \"Total crime count:\", crime_student['Offense Description'].count()\n",
    "\n",
    "# crime split into offenses\n",
    "crime_student_vc = crime_student['Offense Description'].value_counts()\n",
    "print \"\\n\"\n",
    "print(crime_student_vc)\n",
    "#crime_student_vc.plot(kind='bar')\n"
   ]
  },
  {
   "cell_type": "markdown",
   "metadata": {
    "collapsed": true
   },
   "source": [
    "# UT Campus\n",
    "- only 15 counts in 2 years\n",
    "- all theft or robbery"
   ]
  },
  {
   "cell_type": "code",
   "execution_count": null,
   "metadata": {},
   "outputs": [],
   "source": [
    "crime_wc = crime[crime['Zipcode']==\"78712\"]\n",
    "\n",
    "# total crime count\n",
    "print \"Total crime count:\", crime_wc['Offense Description'].count()\n",
    "\n",
    "# crime split into offenses\n",
    "crime_wc_vc = crime_wc['Offense Description'].value_counts()\n",
    "print \"\\n\"\n",
    "print(crime_wc_vc)\n",
    "crime_wc_vc.plot(kind='bar')\n"
   ]
  },
  {
   "cell_type": "markdown",
   "metadata": {},
   "source": [
    "# Hyde Park\n",
    "- still mostly theft\n",
    "- areas near campus are largely safer than other areas in austin"
   ]
  },
  {
   "cell_type": "code",
   "execution_count": null,
   "metadata": {},
   "outputs": [],
   "source": [
    "crime_wc = crime[crime['Zipcode']==\"78751\"]\n",
    "\n",
    "# total crime count\n",
    "print \"Total crime count:\", crime_wc['Offense Description'].count()\n",
    "\n",
    "# crime split into offenses\n",
    "crime_wc_vc = crime_wc['Offense Description'].value_counts()\n",
    "print \"\\n\"\n",
    "print(crime_wc_vc)\n",
    "crime_wc_vc.plot(kind='bar')\n"
   ]
  },
  {
   "cell_type": "markdown",
   "metadata": {},
   "source": [
    "# Downtown\n",
    "- much higher crime count\n",
    "- more assault and rape, though still largely theft"
   ]
  },
  {
   "cell_type": "code",
   "execution_count": null,
   "metadata": {},
   "outputs": [],
   "source": [
    "crime_wc = crime[crime['Zipcode']==\"78701\"]\n",
    "\n",
    "# total crime count\n",
    "print \"Total crime count:\", crime_wc['Offense Description'].count()\n",
    "\n",
    "# crime split into offenses\n",
    "crime_wc_vc = crime_wc['Offense Description'].value_counts()\n",
    "print \"\\n\"\n",
    "print(crime_wc_vc)\n",
    "crime_wc_vc.plot(kind='bar')\n"
   ]
  },
  {
   "cell_type": "code",
   "execution_count": null,
   "metadata": {
    "collapsed": true
   },
   "outputs": [],
   "source": []
  }
 ],
 "metadata": {
  "kernelspec": {
   "display_name": "Python 2",
   "language": "python",
   "name": "python2"
  },
  "language_info": {
   "codemirror_mode": {
    "name": "ipython",
    "version": 2
   },
   "file_extension": ".py",
   "mimetype": "text/x-python",
   "name": "python",
   "nbconvert_exporter": "python",
   "pygments_lexer": "ipython2",
   "version": "2.7.13"
  }
 },
 "nbformat": 4,
 "nbformat_minor": 2
}
