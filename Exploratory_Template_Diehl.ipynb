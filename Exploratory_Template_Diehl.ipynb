{
 "cells": [
  {
   "cell_type": "code",
   "execution_count": 3,
   "metadata": {},
   "outputs": [
    {
     "name": "stdout",
     "output_type": "stream",
     "text": [
      "Populating the interactive namespace from numpy and matplotlib\n"
     ]
    }
   ],
   "source": [
    "from pandas import Series, DataFrame\n",
    "import pandas as pd\n",
    "import calendar\n",
    "%pylab inline"
   ]
  },
  {
   "cell_type": "markdown",
   "metadata": {},
   "source": [
    "# Setup"
   ]
  },
  {
   "cell_type": "code",
   "execution_count": 4,
   "metadata": {},
   "outputs": [
    {
     "data": {
      "text/html": [
       "<div>\n",
       "<style>\n",
       "    .dataframe thead tr:only-child th {\n",
       "        text-align: right;\n",
       "    }\n",
       "\n",
       "    .dataframe thead th {\n",
       "        text-align: left;\n",
       "    }\n",
       "\n",
       "    .dataframe tbody tr th {\n",
       "        vertical-align: top;\n",
       "    }\n",
       "</style>\n",
       "<table border=\"1\" class=\"dataframe\">\n",
       "  <thead>\n",
       "    <tr style=\"text-align: right;\">\n",
       "      <th></th>\n",
       "      <th>Clearance Date</th>\n",
       "      <th>Clearance Status</th>\n",
       "      <th>Council District</th>\n",
       "      <th>Census Tract</th>\n",
       "      <th>District</th>\n",
       "      <th>Detailed Offense Description</th>\n",
       "      <th>Location</th>\n",
       "      <th>Zipcode</th>\n",
       "      <th>Primary Key</th>\n",
       "      <th>Report Date</th>\n",
       "      <th>X Coordinate</th>\n",
       "      <th>Y Coordinate</th>\n",
       "      <th>General Offense Description</th>\n",
       "      <th>Date</th>\n",
       "      <th>Month</th>\n",
       "      <th>Year</th>\n",
       "    </tr>\n",
       "  </thead>\n",
       "  <tbody>\n",
       "    <tr>\n",
       "      <th>0</th>\n",
       "      <td>04/28/2014 12:00:00 AM</td>\n",
       "      <td>N</td>\n",
       "      <td>1</td>\n",
       "      <td>18.350000000000001</td>\n",
       "      <td>E</td>\n",
       "      <td>AGG ROBBERY/DEADLY WEAPON</td>\n",
       "      <td>12151 N IH 35 SVRD NB                         ...</td>\n",
       "      <td>78753</td>\n",
       "      <td>20141061920</td>\n",
       "      <td>04/17/2014 12:00:00 AM</td>\n",
       "      <td>3135985</td>\n",
       "      <td>10117220</td>\n",
       "      <td>Robbery</td>\n",
       "      <td>2014-04-17</td>\n",
       "      <td>Apr</td>\n",
       "      <td>2014</td>\n",
       "    </tr>\n",
       "    <tr>\n",
       "      <th>1</th>\n",
       "      <td>05/20/2014 12:00:00 AM</td>\n",
       "      <td>N</td>\n",
       "      <td>1</td>\n",
       "      <td>21.13</td>\n",
       "      <td>I</td>\n",
       "      <td>ROBBERY BY ASSAULT</td>\n",
       "      <td>3300 BLOCK ROCKHURST LN                       ...</td>\n",
       "      <td>78723</td>\n",
       "      <td>20141150937</td>\n",
       "      <td>04/25/2014 12:00:00 AM</td>\n",
       "      <td>3137985</td>\n",
       "      <td>10087946</td>\n",
       "      <td>Robbery</td>\n",
       "      <td>2014-04-25</td>\n",
       "      <td>Apr</td>\n",
       "      <td>2014</td>\n",
       "    </tr>\n",
       "    <tr>\n",
       "      <th>2</th>\n",
       "      <td>05/13/2014 12:00:00 AM</td>\n",
       "      <td>N</td>\n",
       "      <td>3</td>\n",
       "      <td>9.02</td>\n",
       "      <td>C</td>\n",
       "      <td>ROBBERY BY THREAT</td>\n",
       "      <td>E 7TH ST / CHICON ST                          ...</td>\n",
       "      <td>78702</td>\n",
       "      <td>20141310316</td>\n",
       "      <td>05/11/2014 12:00:00 AM</td>\n",
       "      <td>3120890</td>\n",
       "      <td>10068910</td>\n",
       "      <td>Robbery</td>\n",
       "      <td>2014-05-11</td>\n",
       "      <td>May</td>\n",
       "      <td>2014</td>\n",
       "    </tr>\n",
       "    <tr>\n",
       "      <th>3</th>\n",
       "      <td>03/24/2015 12:00:00 AM</td>\n",
       "      <td>C</td>\n",
       "      <td>1</td>\n",
       "      <td>21.04</td>\n",
       "      <td>I</td>\n",
       "      <td>AGG ROBBERY/DEADLY WEAPON</td>\n",
       "      <td>WHELESS LN / BERKMAN DR                       ...</td>\n",
       "      <td>78723</td>\n",
       "      <td>20141670098</td>\n",
       "      <td>06/16/2014 12:00:00 AM</td>\n",
       "      <td>3130566</td>\n",
       "      <td>10089446</td>\n",
       "      <td>Robbery</td>\n",
       "      <td>2014-06-16</td>\n",
       "      <td>Jun</td>\n",
       "      <td>2014</td>\n",
       "    </tr>\n",
       "    <tr>\n",
       "      <th>4</th>\n",
       "      <td>10/02/2014 12:00:00 AM</td>\n",
       "      <td>N</td>\n",
       "      <td>3</td>\n",
       "      <td>9.02</td>\n",
       "      <td>G</td>\n",
       "      <td>AGG ROBBERY/DEADLY WEAPON</td>\n",
       "      <td>WALLER ST / E 2ND ST                          ...</td>\n",
       "      <td>78702</td>\n",
       "      <td>20142070292</td>\n",
       "      <td>07/26/2014 12:00:00 AM</td>\n",
       "      <td>3117732</td>\n",
       "      <td>10068195</td>\n",
       "      <td>Robbery</td>\n",
       "      <td>2014-07-26</td>\n",
       "      <td>Jul</td>\n",
       "      <td>2014</td>\n",
       "    </tr>\n",
       "  </tbody>\n",
       "</table>\n",
       "</div>"
      ],
      "text/plain": [
       "           Clearance Date Clearance Status Council District  \\\n",
       "0  04/28/2014 12:00:00 AM                N                1   \n",
       "1  05/20/2014 12:00:00 AM                N                1   \n",
       "2  05/13/2014 12:00:00 AM                N                3   \n",
       "3  03/24/2015 12:00:00 AM                C                1   \n",
       "4  10/02/2014 12:00:00 AM                N                3   \n",
       "\n",
       "         Census Tract District    Detailed Offense Description  \\\n",
       "0  18.350000000000001        E  AGG ROBBERY/DEADLY WEAPON        \n",
       "1               21.13        I  ROBBERY BY ASSAULT               \n",
       "2                9.02        C  ROBBERY BY THREAT                \n",
       "3               21.04        I  AGG ROBBERY/DEADLY WEAPON        \n",
       "4                9.02        G  AGG ROBBERY/DEADLY WEAPON        \n",
       "\n",
       "                                            Location Zipcode  Primary Key  \\\n",
       "0  12151 N IH 35 SVRD NB                         ...   78753  20141061920   \n",
       "1  3300 BLOCK ROCKHURST LN                       ...   78723  20141150937   \n",
       "2  E 7TH ST / CHICON ST                          ...   78702  20141310316   \n",
       "3  WHELESS LN / BERKMAN DR                       ...   78723  20141670098   \n",
       "4  WALLER ST / E 2ND ST                          ...   78702  20142070292   \n",
       "\n",
       "              Report Date X Coordinate Y Coordinate  \\\n",
       "0  04/17/2014 12:00:00 AM      3135985     10117220   \n",
       "1  04/25/2014 12:00:00 AM      3137985     10087946   \n",
       "2  05/11/2014 12:00:00 AM      3120890     10068910   \n",
       "3  06/16/2014 12:00:00 AM      3130566     10089446   \n",
       "4  07/26/2014 12:00:00 AM      3117732     10068195   \n",
       "\n",
       "  General Offense Description       Date Month  Year  \n",
       "0                     Robbery 2014-04-17   Apr  2014  \n",
       "1                     Robbery 2014-04-25   Apr  2014  \n",
       "2                     Robbery 2014-05-11   May  2014  \n",
       "3                     Robbery 2014-06-16   Jun  2014  \n",
       "4                     Robbery 2014-07-26   Jul  2014  "
      ]
     },
     "execution_count": 4,
     "metadata": {},
     "output_type": "execute_result"
    }
   ],
   "source": [
    "#read data in, appended 2014/2015, removed GO from col names\n",
    "crime2014 = pd.read_csv(\"https://raw.githubusercontent.com/sxzhu/mis381_project/master/data/Austin_Crime_2014.csv\", dtype=unicode, encoding='utf-8')\n",
    "crime2014[:3]\n",
    "\n",
    "crime2015 = pd.read_csv(\"https://raw.githubusercontent.com/sxzhu/mis381_project/master/data/Austin_Crime_2015.csv\", dtype=unicode, encoding='utf-8')\n",
    "crime = crime2014.append(crime2015,ignore_index=True)\n",
    "\n",
    "crime = crime.rename(index=str, columns={\"Highest NIBRS/UCR Offense Description\": \"General Offense Description\",\\\n",
    "                                 \"GO Highest Offense Desc\":\"Detailed Offense Description\",\\\n",
    "                                 \"GO Location\":\"Location\",\"GO Report Date\":\"Report Date\",\\\n",
    "                                 \"GO Location Zip\":\"Zipcode\",\"GO District\":\"District\",\"GO Census Tract\":\"Census Tract\",\\\n",
    "                                 \"GO X Coordinate\":\"X Coordinate\",\"GO Y Coordinate\":\"Y Coordinate\",\\\n",
    "                                      \"GO Primary Key\":\"Primary Key\"})\n",
    "\n",
    "crime = crime.drop('Location_1', axis=1)\n",
    "crime['Date'] = pd.DatetimeIndex(crime['Report Date'])\n",
    "crime['Month'] = pd.DatetimeIndex(crime['Date']).month\n",
    "crime['Month'] = crime['Month'].apply(lambda x: calendar.month_abbr[x])\n",
    "crime['Year'] = pd.DatetimeIndex(crime['Report Date']).year\n",
    "\n",
    "crime.head()"
   ]
  },
  {
   "cell_type": "markdown",
   "metadata": {},
   "source": [
    "## Merge Crimes"
   ]
  },
  {
   "cell_type": "code",
   "execution_count": 5,
   "metadata": {},
   "outputs": [
    {
     "data": {
      "text/plain": [
       "Theft                               61908\n",
       "Burglary / \\nBreaking & Entering     5670\n",
       "Burglary                             4927\n",
       "Aggravated Assault                   3803\n",
       "Robbery                              1809\n",
       "Rape                                 1042\n",
       "Murder                                 55\n",
       "Name: General Offense Description, dtype: int64"
      ]
     },
     "execution_count": 5,
     "metadata": {},
     "output_type": "execute_result"
    }
   ],
   "source": [
    "def merge_crimes(s):\n",
    "    \"\"\"Map some crimes together.\"\"\"\n",
    "    \n",
    "    # Create a map of misspellings to correct spelling\n",
    "    misspellings = {'Burglary / \\r\\nBreaking & Entering':'Burglary',\n",
    "                    'Auto Theft':'Theft: Auto Parts',\n",
    "                    'Homicide: Murder & Nonnegligent Manslaughter':'Murder',\n",
    "                    'Agg Assault':'Aggravated Assault'}\n",
    "    \n",
    "    if s in misspellings:\n",
    "        return misspellings[s]\n",
    "    else:\n",
    "        return s\n",
    "    \n",
    "# Apply the function to the Series\n",
    "crime['General Offense Description'] = crime['General Offense Description'].map(merge_crimes)\n",
    "\n",
    "def merge_theft(s):\n",
    "    \"\"\"Map some crimes together.\"\"\"\n",
    "    \n",
    "    if (s[:5]=='Theft'):\n",
    "        return s[:5]\n",
    "    else:\n",
    "        return s\n",
    "    \n",
    "# Apply the function to the Series\n",
    "crime['General Offense Description'] = crime['General Offense Description'].map(merge_theft)\n",
    "\n",
    "# Check that it worked\n",
    "# mask = (crime['General Offense Description'] == 'Agg Assault')\n",
    "# crime['General Offense Description'][mask]  # should be empty\n",
    "\n",
    "crime['General Offense Description'].value_counts()"
   ]
  },
  {
   "cell_type": "markdown",
   "metadata": {},
   "source": [
    "# Final Dataframe"
   ]
  },
  {
   "cell_type": "code",
   "execution_count": 6,
   "metadata": {},
   "outputs": [
    {
     "data": {
      "text/html": [
       "<div>\n",
       "<style>\n",
       "    .dataframe thead tr:only-child th {\n",
       "        text-align: right;\n",
       "    }\n",
       "\n",
       "    .dataframe thead th {\n",
       "        text-align: left;\n",
       "    }\n",
       "\n",
       "    .dataframe tbody tr th {\n",
       "        vertical-align: top;\n",
       "    }\n",
       "</style>\n",
       "<table border=\"1\" class=\"dataframe\">\n",
       "  <thead>\n",
       "    <tr style=\"text-align: right;\">\n",
       "      <th></th>\n",
       "      <th>Clearance Date</th>\n",
       "      <th>Clearance Status</th>\n",
       "      <th>Council District</th>\n",
       "      <th>Census Tract</th>\n",
       "      <th>District</th>\n",
       "      <th>Detailed Offense Description</th>\n",
       "      <th>Location</th>\n",
       "      <th>Zipcode</th>\n",
       "      <th>Primary Key</th>\n",
       "      <th>Report Date</th>\n",
       "      <th>X Coordinate</th>\n",
       "      <th>Y Coordinate</th>\n",
       "      <th>General Offense Description</th>\n",
       "      <th>Date</th>\n",
       "      <th>Month</th>\n",
       "      <th>Year</th>\n",
       "    </tr>\n",
       "  </thead>\n",
       "  <tbody>\n",
       "    <tr>\n",
       "      <th>0</th>\n",
       "      <td>04/28/2014 12:00:00 AM</td>\n",
       "      <td>N</td>\n",
       "      <td>1</td>\n",
       "      <td>18.350000000000001</td>\n",
       "      <td>E</td>\n",
       "      <td>AGG ROBBERY/DEADLY WEAPON</td>\n",
       "      <td>12151 N IH 35 SVRD NB                         ...</td>\n",
       "      <td>78753</td>\n",
       "      <td>20141061920</td>\n",
       "      <td>04/17/2014 12:00:00 AM</td>\n",
       "      <td>3135985</td>\n",
       "      <td>10117220</td>\n",
       "      <td>Robbery</td>\n",
       "      <td>2014-04-17</td>\n",
       "      <td>Apr</td>\n",
       "      <td>2014</td>\n",
       "    </tr>\n",
       "    <tr>\n",
       "      <th>1</th>\n",
       "      <td>05/20/2014 12:00:00 AM</td>\n",
       "      <td>N</td>\n",
       "      <td>1</td>\n",
       "      <td>21.13</td>\n",
       "      <td>I</td>\n",
       "      <td>ROBBERY BY ASSAULT</td>\n",
       "      <td>3300 BLOCK ROCKHURST LN                       ...</td>\n",
       "      <td>78723</td>\n",
       "      <td>20141150937</td>\n",
       "      <td>04/25/2014 12:00:00 AM</td>\n",
       "      <td>3137985</td>\n",
       "      <td>10087946</td>\n",
       "      <td>Robbery</td>\n",
       "      <td>2014-04-25</td>\n",
       "      <td>Apr</td>\n",
       "      <td>2014</td>\n",
       "    </tr>\n",
       "    <tr>\n",
       "      <th>2</th>\n",
       "      <td>05/13/2014 12:00:00 AM</td>\n",
       "      <td>N</td>\n",
       "      <td>3</td>\n",
       "      <td>9.02</td>\n",
       "      <td>C</td>\n",
       "      <td>ROBBERY BY THREAT</td>\n",
       "      <td>E 7TH ST / CHICON ST                          ...</td>\n",
       "      <td>78702</td>\n",
       "      <td>20141310316</td>\n",
       "      <td>05/11/2014 12:00:00 AM</td>\n",
       "      <td>3120890</td>\n",
       "      <td>10068910</td>\n",
       "      <td>Robbery</td>\n",
       "      <td>2014-05-11</td>\n",
       "      <td>May</td>\n",
       "      <td>2014</td>\n",
       "    </tr>\n",
       "    <tr>\n",
       "      <th>3</th>\n",
       "      <td>03/24/2015 12:00:00 AM</td>\n",
       "      <td>C</td>\n",
       "      <td>1</td>\n",
       "      <td>21.04</td>\n",
       "      <td>I</td>\n",
       "      <td>AGG ROBBERY/DEADLY WEAPON</td>\n",
       "      <td>WHELESS LN / BERKMAN DR                       ...</td>\n",
       "      <td>78723</td>\n",
       "      <td>20141670098</td>\n",
       "      <td>06/16/2014 12:00:00 AM</td>\n",
       "      <td>3130566</td>\n",
       "      <td>10089446</td>\n",
       "      <td>Robbery</td>\n",
       "      <td>2014-06-16</td>\n",
       "      <td>Jun</td>\n",
       "      <td>2014</td>\n",
       "    </tr>\n",
       "    <tr>\n",
       "      <th>4</th>\n",
       "      <td>10/02/2014 12:00:00 AM</td>\n",
       "      <td>N</td>\n",
       "      <td>3</td>\n",
       "      <td>9.02</td>\n",
       "      <td>G</td>\n",
       "      <td>AGG ROBBERY/DEADLY WEAPON</td>\n",
       "      <td>WALLER ST / E 2ND ST                          ...</td>\n",
       "      <td>78702</td>\n",
       "      <td>20142070292</td>\n",
       "      <td>07/26/2014 12:00:00 AM</td>\n",
       "      <td>3117732</td>\n",
       "      <td>10068195</td>\n",
       "      <td>Robbery</td>\n",
       "      <td>2014-07-26</td>\n",
       "      <td>Jul</td>\n",
       "      <td>2014</td>\n",
       "    </tr>\n",
       "  </tbody>\n",
       "</table>\n",
       "</div>"
      ],
      "text/plain": [
       "           Clearance Date Clearance Status Council District  \\\n",
       "0  04/28/2014 12:00:00 AM                N                1   \n",
       "1  05/20/2014 12:00:00 AM                N                1   \n",
       "2  05/13/2014 12:00:00 AM                N                3   \n",
       "3  03/24/2015 12:00:00 AM                C                1   \n",
       "4  10/02/2014 12:00:00 AM                N                3   \n",
       "\n",
       "         Census Tract District    Detailed Offense Description  \\\n",
       "0  18.350000000000001        E  AGG ROBBERY/DEADLY WEAPON        \n",
       "1               21.13        I  ROBBERY BY ASSAULT               \n",
       "2                9.02        C  ROBBERY BY THREAT                \n",
       "3               21.04        I  AGG ROBBERY/DEADLY WEAPON        \n",
       "4                9.02        G  AGG ROBBERY/DEADLY WEAPON        \n",
       "\n",
       "                                            Location Zipcode  Primary Key  \\\n",
       "0  12151 N IH 35 SVRD NB                         ...   78753  20141061920   \n",
       "1  3300 BLOCK ROCKHURST LN                       ...   78723  20141150937   \n",
       "2  E 7TH ST / CHICON ST                          ...   78702  20141310316   \n",
       "3  WHELESS LN / BERKMAN DR                       ...   78723  20141670098   \n",
       "4  WALLER ST / E 2ND ST                          ...   78702  20142070292   \n",
       "\n",
       "              Report Date X Coordinate Y Coordinate  \\\n",
       "0  04/17/2014 12:00:00 AM      3135985     10117220   \n",
       "1  04/25/2014 12:00:00 AM      3137985     10087946   \n",
       "2  05/11/2014 12:00:00 AM      3120890     10068910   \n",
       "3  06/16/2014 12:00:00 AM      3130566     10089446   \n",
       "4  07/26/2014 12:00:00 AM      3117732     10068195   \n",
       "\n",
       "  General Offense Description       Date Month  Year  \n",
       "0                     Robbery 2014-04-17   Apr  2014  \n",
       "1                     Robbery 2014-04-25   Apr  2014  \n",
       "2                     Robbery 2014-05-11   May  2014  \n",
       "3                     Robbery 2014-06-16   Jun  2014  \n",
       "4                     Robbery 2014-07-26   Jul  2014  "
      ]
     },
     "execution_count": 6,
     "metadata": {},
     "output_type": "execute_result"
    }
   ],
   "source": [
    "crime.head()"
   ]
  },
  {
   "cell_type": "markdown",
   "metadata": {},
   "source": [
    "## Example Stacked Graph"
   ]
  },
  {
   "cell_type": "code",
   "execution_count": 7,
   "metadata": {},
   "outputs": [
    {
     "name": "stdout",
     "output_type": "stream",
     "text": [
      "Total crime count: 8491\n",
      "\n",
      "\n",
      "Theft                               7243\n",
      "Burglary / \\nBreaking & Entering     316\n",
      "Aggravated Assault                   300\n",
      "Burglary                             282\n",
      "Robbery                              206\n",
      "Rape                                 141\n",
      "Murder                                 3\n",
      "Name: General Offense Description, dtype: int64\n"
     ]
    },
    {
     "data": {
      "image/png": "[encoded data removed]",
      "text/plain": [
       "<matplotlib.figure.Figure at 0x10fbf6410>"
      ]
     },
     "metadata": {},
     "output_type": "display_data"
    }
   ],
   "source": [
    "crime_wc = crime['Zipcode']==\"78705\"\n",
    "crime_ut = crime['Zipcode']==\"78712\"\n",
    "crime_hyde = crime['Zipcode']==\"78751\"\n",
    "crime_dt = crime['Zipcode']==\"78701\"\n",
    "area_mask = crime_wc | crime_ut | crime_hyde | crime_dt\n",
    "\n",
    "#print(area_mask)\n",
    "\n",
    "crime_student = crime[area_mask]\n",
    "\n",
    "pylab.rcParams['figure.figsize'] = (10, 8)\n",
    "\n",
    "test5 = crime_student.groupby(['Zipcode', 'General Offense Description'])['Zipcode'].count().unstack('General Offense Description').fillna(0)\n",
    "test5.plot(kind='bar', stacked=True)\n",
    "\n",
    "\n",
    "# total crime count\n",
    "print \"Total crime count:\", crime_student['General Offense Description'].count()\n",
    "\n",
    "# crime split into offenses\n",
    "crime_student_vc = crime_student['General Offense Description'].value_counts()\n",
    "print \"\\n\"\n",
    "print(crime_student_vc)\n",
    "#crime_student_vc.plot(kind='bar')\n"
   ]
  },
  {
   "cell_type": "code",
   "execution_count": null,
   "metadata": {
    "collapsed": true
   },
   "outputs": [],
   "source": []
  },
  {
   "cell_type": "code",
   "execution_count": 8,
   "metadata": {},
   "outputs": [
    {
     "data": {
      "text/html": [
       "<div>\n",
       "<style>\n",
       "    .dataframe thead tr:only-child th {\n",
       "        text-align: right;\n",
       "    }\n",
       "\n",
       "    .dataframe thead th {\n",
       "        text-align: left;\n",
       "    }\n",
       "\n",
       "    .dataframe tbody tr th {\n",
       "        vertical-align: top;\n",
       "    }\n",
       "</style>\n",
       "<table border=\"1\" class=\"dataframe\">\n",
       "  <thead>\n",
       "    <tr style=\"text-align: right;\">\n",
       "      <th></th>\n",
       "      <th>Clearance Date</th>\n",
       "      <th>Clearance Status</th>\n",
       "      <th>Council District</th>\n",
       "      <th>Census Tract</th>\n",
       "      <th>District</th>\n",
       "      <th>Detailed Offense Description</th>\n",
       "      <th>Location</th>\n",
       "      <th>Zipcode</th>\n",
       "      <th>Primary Key</th>\n",
       "      <th>Report Date</th>\n",
       "      <th>X Coordinate</th>\n",
       "      <th>Y Coordinate</th>\n",
       "      <th>General Offense Description</th>\n",
       "      <th>Date</th>\n",
       "      <th>Month</th>\n",
       "      <th>Year</th>\n",
       "    </tr>\n",
       "  </thead>\n",
       "  <tbody>\n",
       "    <tr>\n",
       "      <th>0</th>\n",
       "      <td>04/28/2014 12:00:00 AM</td>\n",
       "      <td>N</td>\n",
       "      <td>1</td>\n",
       "      <td>18.350000000000001</td>\n",
       "      <td>E</td>\n",
       "      <td>AGG ROBBERY/DEADLY WEAPON</td>\n",
       "      <td>12151 N IH 35 SVRD NB                         ...</td>\n",
       "      <td>78753</td>\n",
       "      <td>20141061920</td>\n",
       "      <td>04/17/2014 12:00:00 AM</td>\n",
       "      <td>3135985</td>\n",
       "      <td>10117220</td>\n",
       "      <td>Robbery</td>\n",
       "      <td>2014-04-17</td>\n",
       "      <td>Apr</td>\n",
       "      <td>2014</td>\n",
       "    </tr>\n",
       "    <tr>\n",
       "      <th>1</th>\n",
       "      <td>05/20/2014 12:00:00 AM</td>\n",
       "      <td>N</td>\n",
       "      <td>1</td>\n",
       "      <td>21.13</td>\n",
       "      <td>I</td>\n",
       "      <td>ROBBERY BY ASSAULT</td>\n",
       "      <td>3300 BLOCK ROCKHURST LN                       ...</td>\n",
       "      <td>78723</td>\n",
       "      <td>20141150937</td>\n",
       "      <td>04/25/2014 12:00:00 AM</td>\n",
       "      <td>3137985</td>\n",
       "      <td>10087946</td>\n",
       "      <td>Robbery</td>\n",
       "      <td>2014-04-25</td>\n",
       "      <td>Apr</td>\n",
       "      <td>2014</td>\n",
       "    </tr>\n",
       "    <tr>\n",
       "      <th>2</th>\n",
       "      <td>05/13/2014 12:00:00 AM</td>\n",
       "      <td>N</td>\n",
       "      <td>3</td>\n",
       "      <td>9.02</td>\n",
       "      <td>C</td>\n",
       "      <td>ROBBERY BY THREAT</td>\n",
       "      <td>E 7TH ST / CHICON ST                          ...</td>\n",
       "      <td>78702</td>\n",
       "      <td>20141310316</td>\n",
       "      <td>05/11/2014 12:00:00 AM</td>\n",
       "      <td>3120890</td>\n",
       "      <td>10068910</td>\n",
       "      <td>Robbery</td>\n",
       "      <td>2014-05-11</td>\n",
       "      <td>May</td>\n",
       "      <td>2014</td>\n",
       "    </tr>\n",
       "  </tbody>\n",
       "</table>\n",
       "</div>"
      ],
      "text/plain": [
       "           Clearance Date Clearance Status Council District  \\\n",
       "0  04/28/2014 12:00:00 AM                N                1   \n",
       "1  05/20/2014 12:00:00 AM                N                1   \n",
       "2  05/13/2014 12:00:00 AM                N                3   \n",
       "\n",
       "         Census Tract District    Detailed Offense Description  \\\n",
       "0  18.350000000000001        E  AGG ROBBERY/DEADLY WEAPON        \n",
       "1               21.13        I  ROBBERY BY ASSAULT               \n",
       "2                9.02        C  ROBBERY BY THREAT                \n",
       "\n",
       "                                            Location Zipcode  Primary Key  \\\n",
       "0  12151 N IH 35 SVRD NB                         ...   78753  20141061920   \n",
       "1  3300 BLOCK ROCKHURST LN                       ...   78723  20141150937   \n",
       "2  E 7TH ST / CHICON ST                          ...   78702  20141310316   \n",
       "\n",
       "              Report Date X Coordinate Y Coordinate  \\\n",
       "0  04/17/2014 12:00:00 AM      3135985     10117220   \n",
       "1  04/25/2014 12:00:00 AM      3137985     10087946   \n",
       "2  05/11/2014 12:00:00 AM      3120890     10068910   \n",
       "\n",
       "  General Offense Description       Date Month  Year  \n",
       "0                     Robbery 2014-04-17   Apr  2014  \n",
       "1                     Robbery 2014-04-25   Apr  2014  \n",
       "2                     Robbery 2014-05-11   May  2014  "
      ]
     },
     "execution_count": 8,
     "metadata": {},
     "output_type": "execute_result"
    }
   ],
   "source": [
    "crime[:3]"
   ]
  },
  {
   "cell_type": "markdown",
   "metadata": {},
   "source": [
    "### Converting NaN values in Clearance Status column to be Not Cleared "
   ]
  },
  {
   "cell_type": "code",
   "execution_count": 9,
   "metadata": {},
   "outputs": [
    {
     "data": {
      "text/plain": [
       "0"
      ]
     },
     "execution_count": 9,
     "metadata": {},
     "output_type": "execute_result"
    }
   ],
   "source": [
    "crime[crime['General Offense Description']=='Murder']#['Clearance Status'] \n",
    "#there are missing values in the original DF--should we make these not cleared?\n",
    "crime[crime['Clearance Status'].isnull()]['General Offense Description'].value_counts() \n",
    "#What should we do about the null clearance status??? Let's make them Not Cleared\n",
    "crime['Clearance Status']=crime['Clearance Status'].fillna('N')\n",
    "sum(crime['Clearance Status'].isnull())"
   ]
  },
  {
   "cell_type": "markdown",
   "metadata": {},
   "source": [
    "### Converting dates to datetime and adding new Clearance Time column"
   ]
  },
  {
   "cell_type": "code",
   "execution_count": 10,
   "metadata": {},
   "outputs": [
    {
     "data": {
      "text/html": [
       "<div>\n",
       "<style>\n",
       "    .dataframe thead tr:only-child th {\n",
       "        text-align: right;\n",
       "    }\n",
       "\n",
       "    .dataframe thead th {\n",
       "        text-align: left;\n",
       "    }\n",
       "\n",
       "    .dataframe tbody tr th {\n",
       "        vertical-align: top;\n",
       "    }\n",
       "</style>\n",
       "<table border=\"1\" class=\"dataframe\">\n",
       "  <thead>\n",
       "    <tr style=\"text-align: right;\">\n",
       "      <th></th>\n",
       "      <th>Clearance Date</th>\n",
       "      <th>Clearance Status</th>\n",
       "      <th>Council District</th>\n",
       "      <th>Census Tract</th>\n",
       "      <th>District</th>\n",
       "      <th>Detailed Offense Description</th>\n",
       "      <th>Location</th>\n",
       "      <th>Zipcode</th>\n",
       "      <th>Primary Key</th>\n",
       "      <th>Report Date</th>\n",
       "      <th>X Coordinate</th>\n",
       "      <th>Y Coordinate</th>\n",
       "      <th>General Offense Description</th>\n",
       "      <th>Date</th>\n",
       "      <th>Month</th>\n",
       "      <th>Year</th>\n",
       "      <th>Clearance Time</th>\n",
       "    </tr>\n",
       "  </thead>\n",
       "  <tbody>\n",
       "    <tr>\n",
       "      <th>0</th>\n",
       "      <td>2014-04-28</td>\n",
       "      <td>N</td>\n",
       "      <td>1</td>\n",
       "      <td>18.350000000000001</td>\n",
       "      <td>E</td>\n",
       "      <td>AGG ROBBERY/DEADLY WEAPON</td>\n",
       "      <td>12151 N IH 35 SVRD NB                         ...</td>\n",
       "      <td>78753</td>\n",
       "      <td>20141061920</td>\n",
       "      <td>2014-04-17</td>\n",
       "      <td>3135985</td>\n",
       "      <td>10117220</td>\n",
       "      <td>Robbery</td>\n",
       "      <td>2014-04-17</td>\n",
       "      <td>Apr</td>\n",
       "      <td>2014</td>\n",
       "      <td>11.0</td>\n",
       "    </tr>\n",
       "    <tr>\n",
       "      <th>1</th>\n",
       "      <td>2014-05-20</td>\n",
       "      <td>N</td>\n",
       "      <td>1</td>\n",
       "      <td>21.13</td>\n",
       "      <td>I</td>\n",
       "      <td>ROBBERY BY ASSAULT</td>\n",
       "      <td>3300 BLOCK ROCKHURST LN                       ...</td>\n",
       "      <td>78723</td>\n",
       "      <td>20141150937</td>\n",
       "      <td>2014-04-25</td>\n",
       "      <td>3137985</td>\n",
       "      <td>10087946</td>\n",
       "      <td>Robbery</td>\n",
       "      <td>2014-04-25</td>\n",
       "      <td>Apr</td>\n",
       "      <td>2014</td>\n",
       "      <td>25.0</td>\n",
       "    </tr>\n",
       "    <tr>\n",
       "      <th>2</th>\n",
       "      <td>2014-05-13</td>\n",
       "      <td>N</td>\n",
       "      <td>3</td>\n",
       "      <td>9.02</td>\n",
       "      <td>C</td>\n",
       "      <td>ROBBERY BY THREAT</td>\n",
       "      <td>E 7TH ST / CHICON ST                          ...</td>\n",
       "      <td>78702</td>\n",
       "      <td>20141310316</td>\n",
       "      <td>2014-05-11</td>\n",
       "      <td>3120890</td>\n",
       "      <td>10068910</td>\n",
       "      <td>Robbery</td>\n",
       "      <td>2014-05-11</td>\n",
       "      <td>May</td>\n",
       "      <td>2014</td>\n",
       "      <td>2.0</td>\n",
       "    </tr>\n",
       "  </tbody>\n",
       "</table>\n",
       "</div>"
      ],
      "text/plain": [
       "  Clearance Date Clearance Status Council District        Census Tract  \\\n",
       "0     2014-04-28                N                1  18.350000000000001   \n",
       "1     2014-05-20                N                1               21.13   \n",
       "2     2014-05-13                N                3                9.02   \n",
       "\n",
       "  District    Detailed Offense Description  \\\n",
       "0        E  AGG ROBBERY/DEADLY WEAPON        \n",
       "1        I  ROBBERY BY ASSAULT               \n",
       "2        C  ROBBERY BY THREAT                \n",
       "\n",
       "                                            Location Zipcode  Primary Key  \\\n",
       "0  12151 N IH 35 SVRD NB                         ...   78753  20141061920   \n",
       "1  3300 BLOCK ROCKHURST LN                       ...   78723  20141150937   \n",
       "2  E 7TH ST / CHICON ST                          ...   78702  20141310316   \n",
       "\n",
       "  Report Date X Coordinate Y Coordinate General Offense Description  \\\n",
       "0  2014-04-17      3135985     10117220                     Robbery   \n",
       "1  2014-04-25      3137985     10087946                     Robbery   \n",
       "2  2014-05-11      3120890     10068910                     Robbery   \n",
       "\n",
       "        Date Month  Year  Clearance Time  \n",
       "0 2014-04-17   Apr  2014            11.0  \n",
       "1 2014-04-25   Apr  2014            25.0  \n",
       "2 2014-05-11   May  2014             2.0  "
      ]
     },
     "execution_count": 10,
     "metadata": {},
     "output_type": "execute_result"
    }
   ],
   "source": [
    "crime['Report Date']=pd.to_datetime(crime['Report Date'])\n",
    "crime['Clearance Date']=pd.to_datetime(crime['Clearance Date'])\n",
    "crime['Clearance Time']=crime['Clearance Date']-crime['Report Date']\n",
    "crime['Clearance Time']=crime['Clearance Time'].dt.days #converted it to int\n",
    "crime[:3]"
   ]
  },
  {
   "cell_type": "markdown",
   "metadata": {},
   "source": [
    "### Clearance Time histogram"
   ]
  },
  {
   "cell_type": "code",
   "execution_count": 11,
   "metadata": {},
   "outputs": [
    {
     "data": {
      "text/plain": [
       "0"
      ]
     },
     "execution_count": 11,
     "metadata": {},
     "output_type": "execute_result"
    }
   ],
   "source": [
    "crime[crime['Clearance Time'].isnull()]['General Offense Description'] #there are nulls in clearance time also- fill in with avg\n",
    "crime['Clearance Time']=crime['Clearance Time'].fillna(mean)\n",
    "sum(crime['Clearance Time'].isnull())"
   ]
  },
  {
   "cell_type": "code",
   "execution_count": 12,
   "metadata": {
    "collapsed": true,
    "scrolled": false
   },
   "outputs": [],
   "source": [
    "#IGNORE\n",
    "# # crime.hist(column='Clearance Time',by='General Offense Description', bins=15, stacked=True)\n",
    "# # #.set(xlabel='Days to Clear',ylabel='Number of Crimes',title='Days to Clear Based on Crime')\n",
    "# # crime.hist(column='Clearance Time', bins=30)\n",
    "# # #crime['Clearance Time']=crime['']\n",
    "\n",
    "# # #pivot=pd.pivot(crime, index=['General Offense Description'],columns=['Clearance Status'])\n",
    "# stuff = crime.groupby(['General Offense Description', 'Clearance Time'])['General Offense Description'].count()\n",
    "# x=stuff.unstack().T / stuff.unstack().sum(axis=1) \n",
    "# #hist(stacked=True)\n",
    "# #graph of percent of crimes clearaed on certain days (line)\n",
    "\n",
    "# #stuff.unstack().T.plot(xlim=(0,100)) #number of crimes cleared on certain days\n",
    "# #want percentages\n",
    "\n",
    "# #x.apply(cumsum).plot(xlim=(0,100))\n",
    "# x.apply(cumsum)\n",
    "# x.apply(cumsum).fillna(method='ffill').plot(xlim=(0,100)).set(xlabel='Clearance Time',\\\n",
    "#                                                               ylabel='Cumulative Percent of Crimes Cleared',\\\n",
    "#                                                              title='Cumulative Percent of Crimes Cleared based on Time')\n"
   ]
  },
  {
   "cell_type": "code",
   "execution_count": 13,
   "metadata": {},
   "outputs": [
    {
     "data": {
      "text/plain": [
       "[<matplotlib.text.Text at 0x1190e0050>,\n",
       " <matplotlib.text.Text at 0x1190d5050>,\n",
       " <matplotlib.text.Text at 0x1108054d0>]"
      ]
     },
     "execution_count": 13,
     "metadata": {},
     "output_type": "execute_result"
    },
    {
     "data": {
      "image/png": "[encoded data removed]",
      "text/plain": [
       "<matplotlib.figure.Figure at 0x1190cc210>"
      ]
     },
     "metadata": {},
     "output_type": "display_data"
    }
   ],
   "source": [
    "clear_time_based_on_crime = crime.groupby(['General Offense Description', 'Clearance Time'])['General Offense Description'].count()\n",
    "CT_crime_unstack=clear_time_based_on_crime.unstack().T / clear_time_based_on_crime.unstack().sum(axis=1) \n",
    "\n",
    "\n",
    "CT_crime_unstack.apply(cumsum) #makes values in table cumulative--shows % cleared at this time\n",
    "CT_crime_unstack.apply(cumsum).fillna(method='ffill').plot(xlim=(0,150),colormap='Spectral').set(xlabel='Clearance Time',\\\n",
    "                                                              ylabel='Cumulative Percent of Crimes Cleared',\\\n",
    "                                                             title='Cumulative Percent of Crimes Cleared based on Time')\n",
    "CT_crime_unstack.apply(cumsum)"
   ]
  },
  {
   "cell_type": "code",
   "execution_count": 25,
   "metadata": {},
   "outputs": [
    {
     "data": {
      "text/html": [
       "<div>\n",
       "<style>\n",
       "    .dataframe thead tr:only-child th {\n",
       "        text-align: right;\n",
       "    }\n",
       "\n",
       "    .dataframe thead th {\n",
       "        text-align: left;\n",
       "    }\n",
       "\n",
       "    .dataframe tbody tr th {\n",
       "        vertical-align: top;\n",
       "    }\n",
       "</style>\n",
       "<table border=\"1\" class=\"dataframe\">\n",
       "  <thead>\n",
       "    <tr style=\"text-align: right;\">\n",
       "      <th>General Offense Description</th>\n",
       "      <th>Aggravated Assault</th>\n",
       "      <th>Burglary</th>\n",
       "      <th>Burglary / \n",
       "Breaking &amp; Entering</th>\n",
       "      <th>Murder</th>\n",
       "      <th>Rape</th>\n",
       "      <th>Robbery</th>\n",
       "      <th>Theft</th>\n",
       "    </tr>\n",
       "    <tr>\n",
       "      <th>Clearance Time</th>\n",
       "      <th></th>\n",
       "      <th></th>\n",
       "      <th></th>\n",
       "      <th></th>\n",
       "      <th></th>\n",
       "      <th></th>\n",
       "      <th></th>\n",
       "    </tr>\n",
       "  </thead>\n",
       "  <tbody>\n",
       "    <tr>\n",
       "      <th>59.0</th>\n",
       "      <td>0.964666</td>\n",
       "      <td>0.767956</td>\n",
       "      <td>0.807566</td>\n",
       "      <td>NaN</td>\n",
       "      <td>0.580407</td>\n",
       "      <td>0.735507</td>\n",
       "      <td>0.922106</td>\n",
       "    </tr>\n",
       "    <tr>\n",
       "      <th>60.0</th>\n",
       "      <td>0.966369</td>\n",
       "      <td>0.769797</td>\n",
       "      <td>0.810855</td>\n",
       "      <td>NaN</td>\n",
       "      <td>0.582255</td>\n",
       "      <td>0.742754</td>\n",
       "      <td>0.923253</td>\n",
       "    </tr>\n",
       "  </tbody>\n",
       "</table>\n",
       "</div>"
      ],
      "text/plain": [
       "General Offense Description  Aggravated Assault  Burglary  \\\n",
       "Clearance Time                                              \n",
       "59.0                                   0.964666  0.767956   \n",
       "60.0                                   0.966369  0.769797   \n",
       "\n",
       "General Offense Description  Burglary / \\nBreaking & Entering  Murder  \\\n",
       "Clearance Time                                                          \n",
       "59.0                                                 0.807566     NaN   \n",
       "60.0                                                 0.810855     NaN   \n",
       "\n",
       "General Offense Description      Rape   Robbery     Theft  \n",
       "Clearance Time                                             \n",
       "59.0                         0.580407  0.735507  0.922106  \n",
       "60.0                         0.582255  0.742754  0.923253  "
      ]
     },
     "execution_count": 25,
     "metadata": {},
     "output_type": "execute_result"
    },
    {
     "data": {
      "image/png": "[encoded data removed]",
      "text/plain": [
       "<matplotlib.figure.Figure at 0x1155eaf50>"
      ]
     },
     "metadata": {},
     "output_type": "display_data"
    }
   ],
   "source": [
    "mask=(crime['Clearance Status']=='N')\n",
    "crime_C_or_O=crime[~mask]\n",
    "\n",
    "clear_time_based_on_crime = crime_C_or_O.groupby(['General Offense Description', 'Clearance Time'])['General Offense Description'].count()\n",
    "CT_crime_unstack=clear_time_based_on_crime.unstack().T / clear_time_based_on_crime.unstack().sum(axis=1) \n",
    "\n",
    "\n",
    "CT_crime_unstack.apply(cumsum) #makes values in table cumulative--shows % cleared at this time\n",
    "CT_crime_unstack.apply(cumsum).fillna(method='ffill').plot(xlim=(0,150),colormap='Spectral').set(xlabel='Clearance Time',\\\n",
    "                                                              ylabel='Cumulative Percent of Crimes Cleared',\\\n",
    "                                                             title='Cumulative Percent of Crimes Cleared based on Time')\n",
    "CT_crime_unstack.apply(cumsum)[59:60]"
   ]
  },
  {
   "cell_type": "code",
   "execution_count": 15,
   "metadata": {},
   "outputs": [
    {
     "name": "stderr",
     "output_type": "stream",
     "text": [
      "/Users/daniellediehl/anaconda/lib/python2.7/site-packages/ipykernel_launcher.py:3: SettingWithCopyWarning: \n",
      "A value is trying to be set on a copy of a slice from a DataFrame.\n",
      "Try using .loc[row_indexer,col_indexer] = value instead\n",
      "\n",
      "See the caveats in the documentation: http://pandas.pydata.org/pandas-docs/stable/indexing.html#indexing-view-versus-copy\n",
      "  This is separate from the ipykernel package so we can avoid doing imports until\n"
     ]
    },
    {
     "data": {
      "text/html": [
       "<div>\n",
       "<style>\n",
       "    .dataframe thead tr:only-child th {\n",
       "        text-align: right;\n",
       "    }\n",
       "\n",
       "    .dataframe thead th {\n",
       "        text-align: left;\n",
       "    }\n",
       "\n",
       "    .dataframe tbody tr th {\n",
       "        vertical-align: top;\n",
       "    }\n",
       "</style>\n",
       "<table border=\"1\" class=\"dataframe\">\n",
       "  <thead>\n",
       "    <tr style=\"text-align: right;\">\n",
       "      <th></th>\n",
       "      <th>Clearance Time</th>\n",
       "    </tr>\n",
       "    <tr>\n",
       "      <th>General Offense Description</th>\n",
       "      <th></th>\n",
       "    </tr>\n",
       "  </thead>\n",
       "  <tbody>\n",
       "    <tr>\n",
       "      <th>Aggravated Assault</th>\n",
       "      <td>14.636441</td>\n",
       "    </tr>\n",
       "    <tr>\n",
       "      <th>Theft</th>\n",
       "      <td>18.039922</td>\n",
       "    </tr>\n",
       "    <tr>\n",
       "      <th>Murder</th>\n",
       "      <td>27.973684</td>\n",
       "    </tr>\n",
       "    <tr>\n",
       "      <th>Burglary</th>\n",
       "      <td>36.856354</td>\n",
       "    </tr>\n",
       "    <tr>\n",
       "      <th>Burglary / \\nBreaking &amp; Entering</th>\n",
       "      <td>36.873355</td>\n",
       "    </tr>\n",
       "    <tr>\n",
       "      <th>Robbery</th>\n",
       "      <td>42.831522</td>\n",
       "    </tr>\n",
       "    <tr>\n",
       "      <th>Rape</th>\n",
       "      <td>59.489834</td>\n",
       "    </tr>\n",
       "  </tbody>\n",
       "</table>\n",
       "</div>"
      ],
      "text/plain": [
       "                                  Clearance Time\n",
       "General Offense Description                     \n",
       "Aggravated Assault                     14.636441\n",
       "Theft                                  18.039922\n",
       "Murder                                 27.973684\n",
       "Burglary                               36.856354\n",
       "Burglary / \\nBreaking & Entering       36.873355\n",
       "Robbery                                42.831522\n",
       "Rape                                   59.489834"
      ]
     },
     "execution_count": 15,
     "metadata": {},
     "output_type": "execute_result"
    }
   ],
   "source": [
    "\n",
    "# crime_C_or_O.groupby(['General Offense Description'])['Clearance Time'].mean()\n",
    "crime_C_or_O['Clearance Time']=crime_C_or_O['Clearance Time'].astype(int)\n",
    "mean_crime_clearance_time = crime_C_or_O.groupby(['General Offense Description'])[['Clearance Time']].mean()\n",
    "mean_crime_clearance_time.sort_values('Clearance Time')"
   ]
  },
  {
   "cell_type": "code",
   "execution_count": 16,
   "metadata": {
    "scrolled": false
   },
   "outputs": [
    {
     "ename": "DataError",
     "evalue": "No numeric types to aggregate",
     "output_type": "error",
     "traceback": [
      "\u001b[0;31m---------------------------------------------------------------------------\u001b[0m",
      "\u001b[0;31mDataError\u001b[0m                                 Traceback (most recent call last)",
      "\u001b[0;32m<ipython-input-16-5b5c2607358f>\u001b[0m in \u001b[0;36m<module>\u001b[0;34m()\u001b[0m\n\u001b[1;32m      1\u001b[0m \u001b[0;31m#does clearance rate mean separated by N/O/C or time for different crimes?\u001b[0m\u001b[0;34m\u001b[0m\u001b[0;34m\u001b[0m\u001b[0m\n\u001b[0;32m----> 2\u001b[0;31m \u001b[0mcrime\u001b[0m\u001b[0;34m.\u001b[0m\u001b[0mgroupby\u001b[0m\u001b[0;34m(\u001b[0m\u001b[0;34m[\u001b[0m\u001b[0;34m'General Offense Description'\u001b[0m\u001b[0;34m]\u001b[0m\u001b[0;34m)\u001b[0m\u001b[0;34m[\u001b[0m\u001b[0;34m'Clearance Time'\u001b[0m\u001b[0;34m]\u001b[0m\u001b[0;34m.\u001b[0m\u001b[0mmean\u001b[0m\u001b[0;34m(\u001b[0m\u001b[0;34m)\u001b[0m\u001b[0;34m.\u001b[0m\u001b[0mplot\u001b[0m\u001b[0;34m(\u001b[0m\u001b[0mkind\u001b[0m\u001b[0;34m=\u001b[0m\u001b[0;34m'bar'\u001b[0m\u001b[0;34m)\u001b[0m\u001b[0;34m.\u001b[0m\u001b[0mset\u001b[0m\u001b[0;34m(\u001b[0m\u001b[0mxlabel\u001b[0m\u001b[0;34m=\u001b[0m\u001b[0;34m'Crime Type'\u001b[0m\u001b[0;34m,\u001b[0m \u001b[0mylabel\u001b[0m\u001b[0;34m=\u001b[0m\u001b[0;34m'Days to Clear'\u001b[0m\u001b[0;34m)\u001b[0m\u001b[0;34m\u001b[0m\u001b[0m\n\u001b[0m",
      "\u001b[0;32m/Users/daniellediehl/anaconda/lib/python2.7/site-packages/pandas/core/groupby.pyc\u001b[0m in \u001b[0;36mmean\u001b[0;34m(self, *args, **kwargs)\u001b[0m\n\u001b[1;32m   1035\u001b[0m         \u001b[0mnv\u001b[0m\u001b[0;34m.\u001b[0m\u001b[0mvalidate_groupby_func\u001b[0m\u001b[0;34m(\u001b[0m\u001b[0;34m'mean'\u001b[0m\u001b[0;34m,\u001b[0m \u001b[0margs\u001b[0m\u001b[0;34m,\u001b[0m \u001b[0mkwargs\u001b[0m\u001b[0;34m,\u001b[0m \u001b[0;34m[\u001b[0m\u001b[0;34m'numeric_only'\u001b[0m\u001b[0;34m]\u001b[0m\u001b[0;34m)\u001b[0m\u001b[0;34m\u001b[0m\u001b[0m\n\u001b[1;32m   1036\u001b[0m         \u001b[0;32mtry\u001b[0m\u001b[0;34m:\u001b[0m\u001b[0;34m\u001b[0m\u001b[0m\n\u001b[0;32m-> 1037\u001b[0;31m             \u001b[0;32mreturn\u001b[0m \u001b[0mself\u001b[0m\u001b[0;34m.\u001b[0m\u001b[0m_cython_agg_general\u001b[0m\u001b[0;34m(\u001b[0m\u001b[0;34m'mean'\u001b[0m\u001b[0;34m,\u001b[0m \u001b[0;34m**\u001b[0m\u001b[0mkwargs\u001b[0m\u001b[0;34m)\u001b[0m\u001b[0;34m\u001b[0m\u001b[0m\n\u001b[0m\u001b[1;32m   1038\u001b[0m         \u001b[0;32mexcept\u001b[0m \u001b[0mGroupByError\u001b[0m\u001b[0;34m:\u001b[0m\u001b[0;34m\u001b[0m\u001b[0m\n\u001b[1;32m   1039\u001b[0m             \u001b[0;32mraise\u001b[0m\u001b[0;34m\u001b[0m\u001b[0m\n",
      "\u001b[0;32m/Users/daniellediehl/anaconda/lib/python2.7/site-packages/pandas/core/groupby.pyc\u001b[0m in \u001b[0;36m_cython_agg_general\u001b[0;34m(self, how, alt, numeric_only)\u001b[0m\n\u001b[1;32m    834\u001b[0m \u001b[0;34m\u001b[0m\u001b[0m\n\u001b[1;32m    835\u001b[0m         \u001b[0;32mif\u001b[0m \u001b[0mlen\u001b[0m\u001b[0;34m(\u001b[0m\u001b[0moutput\u001b[0m\u001b[0;34m)\u001b[0m \u001b[0;34m==\u001b[0m \u001b[0;36m0\u001b[0m\u001b[0;34m:\u001b[0m\u001b[0;34m\u001b[0m\u001b[0m\n\u001b[0;32m--> 836\u001b[0;31m             \u001b[0;32mraise\u001b[0m \u001b[0mDataError\u001b[0m\u001b[0;34m(\u001b[0m\u001b[0;34m'No numeric types to aggregate'\u001b[0m\u001b[0;34m)\u001b[0m\u001b[0;34m\u001b[0m\u001b[0m\n\u001b[0m\u001b[1;32m    837\u001b[0m \u001b[0;34m\u001b[0m\u001b[0m\n\u001b[1;32m    838\u001b[0m         \u001b[0;32mreturn\u001b[0m \u001b[0mself\u001b[0m\u001b[0;34m.\u001b[0m\u001b[0m_wrap_aggregated_output\u001b[0m\u001b[0;34m(\u001b[0m\u001b[0moutput\u001b[0m\u001b[0;34m,\u001b[0m \u001b[0mnames\u001b[0m\u001b[0;34m)\u001b[0m\u001b[0;34m\u001b[0m\u001b[0m\n",
      "\u001b[0;31mDataError\u001b[0m: No numeric types to aggregate"
     ]
    }
   ],
   "source": [
    "#does clearance rate mean separated by N/O/C or time for different crimes? \n",
    "crime.groupby(['General Offense Description'])['Clearance Time'].mean().plot(kind='bar').set(xlabel='Crime Type', ylabel='Days to Clear')"
   ]
  },
  {
   "cell_type": "code",
   "execution_count": null,
   "metadata": {
    "collapsed": true
   },
   "outputs": [],
   "source": []
  },
  {
   "cell_type": "code",
   "execution_count": null,
   "metadata": {
    "collapsed": true
   },
   "outputs": [],
   "source": []
  },
  {
   "cell_type": "code",
   "execution_count": null,
   "metadata": {
    "collapsed": true
   },
   "outputs": [],
   "source": []
  },
  {
   "cell_type": "code",
   "execution_count": null,
   "metadata": {
    "collapsed": true
   },
   "outputs": [],
   "source": []
  },
  {
   "cell_type": "code",
   "execution_count": null,
   "metadata": {
    "collapsed": true
   },
   "outputs": [],
   "source": []
  },
  {
   "cell_type": "code",
   "execution_count": null,
   "metadata": {},
   "outputs": [],
   "source": [
    "clearance_status_based_on_crime = crime.groupby(['General Offense Description', 'Clearance Status'])['General Offense Description'].count()\n",
    "\n",
    "CS_crime_unstack=clearance_status_based_on_crime.unstack() \n",
    "\n",
    "CS_crime_unstack['Total']= CS_crime_unstack.sum(axis=1) #summing rows and adding to new col in df\n",
    "CS_crime_unstack['C']=CS_crime_unstack['C']/CS_crime_unstack['Total']\n",
    "CS_crime_unstack['N']=CS_crime_unstack['N']/CS_crime_unstack['Total']\n",
    "CS_crime_unstack['O']=CS_crime_unstack['O']/CS_crime_unstack['Total']\n",
    "del CS_crime_unstack['Total']\n",
    "CS_crime_unstack.plot(kind='bar').set(xlabel='Crime Type',ylabel='Percent of Crime Type',title='Clearance Status of Crime Types') \n",
    "#plots percent of each crime type that are cleared by arrest/exception/not cleared"
   ]
  },
  {
   "cell_type": "code",
   "execution_count": null,
   "metadata": {},
   "outputs": [],
   "source": [
    "crime[:3]"
   ]
  },
  {
   "cell_type": "code",
   "execution_count": null,
   "metadata": {},
   "outputs": [],
   "source": [
    "crime['Clearance Time']=crime['Clearance Time'].astype(int)\n",
    "crime.groupby(['District','General Offense Description'])['Clearance Time'].mean()"
   ]
  },
  {
   "cell_type": "code",
   "execution_count": null,
   "metadata": {},
   "outputs": [],
   "source": [
    "crime['Detailed Offense Description'].value_counts()"
   ]
  },
  {
   "cell_type": "code",
   "execution_count": null,
   "metadata": {},
   "outputs": [],
   "source": [
    "crime"
   ]
  }
 ],
 "metadata": {
  "kernelspec": {
   "display_name": "Python 2",
   "language": "python",
   "name": "python2"
  },
  "language_info": {
   "codemirror_mode": {
    "name": "ipython",
    "version": 2
   },
   "file_extension": ".py",
   "mimetype": "text/x-python",
   "name": "python",
   "nbconvert_exporter": "python",
   "pygments_lexer": "ipython2",
   "version": "2.7.13"
  }
 },
 "nbformat": 4,
 "nbformat_minor": 2
}
