{
 "cells": [
  {
   "cell_type": "code",
   "execution_count": 1,
   "metadata": {},
   "outputs": [
    {
     "name": "stdout",
     "output_type": "stream",
     "text": [
      "Populating the interactive namespace from numpy and matplotlib\n"
     ]
    }
   ],
   "source": [
    "from pandas import Series, DataFrame\n",
    "import pandas as pd\n",
    "import calendar\n",
    "%pylab inline"
   ]
  },
  {
   "cell_type": "markdown",
   "metadata": {},
   "source": [
    "# Setup"
   ]
  },
  {
   "cell_type": "code",
   "execution_count": 2,
   "metadata": {},
   "outputs": [
    {
     "data": {
      "text/html": [
       "<div>\n",
       "<style>\n",
       "    .dataframe thead tr:only-child th {\n",
       "        text-align: right;\n",
       "    }\n",
       "\n",
       "    .dataframe thead th {\n",
       "        text-align: left;\n",
       "    }\n",
       "\n",
       "    .dataframe tbody tr th {\n",
       "        vertical-align: top;\n",
       "    }\n",
       "</style>\n",
       "<table border=\"1\" class=\"dataframe\">\n",
       "  <thead>\n",
       "    <tr style=\"text-align: right;\">\n",
       "      <th></th>\n",
       "      <th>Clearance Date</th>\n",
       "      <th>Clearance Status</th>\n",
       "      <th>Council District</th>\n",
       "      <th>Census Tract</th>\n",
       "      <th>District</th>\n",
       "      <th>Detailed Offense Description</th>\n",
       "      <th>Location</th>\n",
       "      <th>Zipcode</th>\n",
       "      <th>Primary Key</th>\n",
       "      <th>Report Date</th>\n",
       "      <th>X Coordinate</th>\n",
       "      <th>Y Coordinate</th>\n",
       "      <th>General Offense Description</th>\n",
       "      <th>Date</th>\n",
       "      <th>Month</th>\n",
       "      <th>Year</th>\n",
       "    </tr>\n",
       "  </thead>\n",
       "  <tbody>\n",
       "    <tr>\n",
       "      <th>0</th>\n",
       "      <td>04/28/2014 12:00:00 AM</td>\n",
       "      <td>N</td>\n",
       "      <td>1</td>\n",
       "      <td>18.350000000000001</td>\n",
       "      <td>E</td>\n",
       "      <td>AGG ROBBERY/DEADLY WEAPON</td>\n",
       "      <td>12151 N IH 35 SVRD NB                         ...</td>\n",
       "      <td>78753</td>\n",
       "      <td>20141061920</td>\n",
       "      <td>04/17/2014 12:00:00 AM</td>\n",
       "      <td>3135985</td>\n",
       "      <td>10117220</td>\n",
       "      <td>Robbery</td>\n",
       "      <td>2014-04-17</td>\n",
       "      <td>Apr</td>\n",
       "      <td>2014</td>\n",
       "    </tr>\n",
       "    <tr>\n",
       "      <th>1</th>\n",
       "      <td>05/20/2014 12:00:00 AM</td>\n",
       "      <td>N</td>\n",
       "      <td>1</td>\n",
       "      <td>21.13</td>\n",
       "      <td>I</td>\n",
       "      <td>ROBBERY BY ASSAULT</td>\n",
       "      <td>3300 BLOCK ROCKHURST LN                       ...</td>\n",
       "      <td>78723</td>\n",
       "      <td>20141150937</td>\n",
       "      <td>04/25/2014 12:00:00 AM</td>\n",
       "      <td>3137985</td>\n",
       "      <td>10087946</td>\n",
       "      <td>Robbery</td>\n",
       "      <td>2014-04-25</td>\n",
       "      <td>Apr</td>\n",
       "      <td>2014</td>\n",
       "    </tr>\n",
       "    <tr>\n",
       "      <th>2</th>\n",
       "      <td>05/13/2014 12:00:00 AM</td>\n",
       "      <td>N</td>\n",
       "      <td>3</td>\n",
       "      <td>9.02</td>\n",
       "      <td>C</td>\n",
       "      <td>ROBBERY BY THREAT</td>\n",
       "      <td>E 7TH ST / CHICON ST                          ...</td>\n",
       "      <td>78702</td>\n",
       "      <td>20141310316</td>\n",
       "      <td>05/11/2014 12:00:00 AM</td>\n",
       "      <td>3120890</td>\n",
       "      <td>10068910</td>\n",
       "      <td>Robbery</td>\n",
       "      <td>2014-05-11</td>\n",
       "      <td>May</td>\n",
       "      <td>2014</td>\n",
       "    </tr>\n",
       "    <tr>\n",
       "      <th>3</th>\n",
       "      <td>03/24/2015 12:00:00 AM</td>\n",
       "      <td>C</td>\n",
       "      <td>1</td>\n",
       "      <td>21.04</td>\n",
       "      <td>I</td>\n",
       "      <td>AGG ROBBERY/DEADLY WEAPON</td>\n",
       "      <td>WHELESS LN / BERKMAN DR                       ...</td>\n",
       "      <td>78723</td>\n",
       "      <td>20141670098</td>\n",
       "      <td>06/16/2014 12:00:00 AM</td>\n",
       "      <td>3130566</td>\n",
       "      <td>10089446</td>\n",
       "      <td>Robbery</td>\n",
       "      <td>2014-06-16</td>\n",
       "      <td>Jun</td>\n",
       "      <td>2014</td>\n",
       "    </tr>\n",
       "    <tr>\n",
       "      <th>4</th>\n",
       "      <td>10/02/2014 12:00:00 AM</td>\n",
       "      <td>N</td>\n",
       "      <td>3</td>\n",
       "      <td>9.02</td>\n",
       "      <td>G</td>\n",
       "      <td>AGG ROBBERY/DEADLY WEAPON</td>\n",
       "      <td>WALLER ST / E 2ND ST                          ...</td>\n",
       "      <td>78702</td>\n",
       "      <td>20142070292</td>\n",
       "      <td>07/26/2014 12:00:00 AM</td>\n",
       "      <td>3117732</td>\n",
       "      <td>10068195</td>\n",
       "      <td>Robbery</td>\n",
       "      <td>2014-07-26</td>\n",
       "      <td>Jul</td>\n",
       "      <td>2014</td>\n",
       "    </tr>\n",
       "  </tbody>\n",
       "</table>\n",
       "</div>"
      ],
      "text/plain": [
       "           Clearance Date Clearance Status Council District  \\\n",
       "0  04/28/2014 12:00:00 AM                N                1   \n",
       "1  05/20/2014 12:00:00 AM                N                1   \n",
       "2  05/13/2014 12:00:00 AM                N                3   \n",
       "3  03/24/2015 12:00:00 AM                C                1   \n",
       "4  10/02/2014 12:00:00 AM                N                3   \n",
       "\n",
       "         Census Tract District    Detailed Offense Description  \\\n",
       "0  18.350000000000001        E  AGG ROBBERY/DEADLY WEAPON        \n",
       "1               21.13        I  ROBBERY BY ASSAULT               \n",
       "2                9.02        C  ROBBERY BY THREAT                \n",
       "3               21.04        I  AGG ROBBERY/DEADLY WEAPON        \n",
       "4                9.02        G  AGG ROBBERY/DEADLY WEAPON        \n",
       "\n",
       "                                            Location Zipcode  Primary Key  \\\n",
       "0  12151 N IH 35 SVRD NB                         ...   78753  20141061920   \n",
       "1  3300 BLOCK ROCKHURST LN                       ...   78723  20141150937   \n",
       "2  E 7TH ST / CHICON ST                          ...   78702  20141310316   \n",
       "3  WHELESS LN / BERKMAN DR                       ...   78723  20141670098   \n",
       "4  WALLER ST / E 2ND ST                          ...   78702  20142070292   \n",
       "\n",
       "              Report Date X Coordinate Y Coordinate  \\\n",
       "0  04/17/2014 12:00:00 AM      3135985     10117220   \n",
       "1  04/25/2014 12:00:00 AM      3137985     10087946   \n",
       "2  05/11/2014 12:00:00 AM      3120890     10068910   \n",
       "3  06/16/2014 12:00:00 AM      3130566     10089446   \n",
       "4  07/26/2014 12:00:00 AM      3117732     10068195   \n",
       "\n",
       "  General Offense Description       Date Month  Year  \n",
       "0                     Robbery 2014-04-17   Apr  2014  \n",
       "1                     Robbery 2014-04-25   Apr  2014  \n",
       "2                     Robbery 2014-05-11   May  2014  \n",
       "3                     Robbery 2014-06-16   Jun  2014  \n",
       "4                     Robbery 2014-07-26   Jul  2014  "
      ]
     },
     "execution_count": 2,
     "metadata": {},
     "output_type": "execute_result"
    }
   ],
   "source": [
    "#read data in, appended 2014/2015, removed GO from col names\n",
    "crime2014 = pd.read_csv(\"Austin_Crime_2014.csv\", dtype=unicode, encoding='utf-8')\n",
    "crime2014[:3]\n",
    "\n",
    "crime2015 = pd.read_csv(\"Austin_Crime_2015.csv\", dtype=unicode, encoding='utf-8')\n",
    "crime = crime2014.append(crime2015,ignore_index=True)\n",
    "\n",
    "crime = crime.rename(index=str, columns={\"Highest NIBRS/UCR Offense Description\": \"General Offense Description\",\\\n",
    "                                 \"GO Highest Offense Desc\":\"Detailed Offense Description\",\\\n",
    "                                 \"GO Location\":\"Location\",\"GO Report Date\":\"Report Date\",\\\n",
    "                                 \"GO Location Zip\":\"Zipcode\",\"GO District\":\"District\",\"GO Census Tract\":\"Census Tract\",\\\n",
    "                                 \"GO X Coordinate\":\"X Coordinate\",\"GO Y Coordinate\":\"Y Coordinate\",\\\n",
    "                                      \"GO Primary Key\":\"Primary Key\"})\n",
    "\n",
    "crime = crime.drop('Location_1', axis=1)\n",
    "crime['Date'] = pd.DatetimeIndex(crime['Report Date'])\n",
    "crime['Month'] = pd.DatetimeIndex(crime['Date']).month\n",
    "crime['Month'] = crime['Month'].apply(lambda x: calendar.month_abbr[x])\n",
    "crime['Year'] = pd.DatetimeIndex(crime['Report Date']).year\n",
    "\n",
    "crime.head()"
   ]
  },
  {
   "cell_type": "markdown",
   "metadata": {},
   "source": [
    "## Merge Crimes"
   ]
  },
  {
   "cell_type": "code",
   "execution_count": 46,
   "metadata": {},
   "outputs": [
    {
     "data": {
      "text/plain": [
       "Theft                 61908\n",
       "Burglary              10597\n",
       "Aggravated Assault     3803\n",
       "Robbery                1809\n",
       "Rape                   1042\n",
       "Murder                   55\n",
       "Name: General Offense Description, dtype: int64"
      ]
     },
     "execution_count": 46,
     "metadata": {},
     "output_type": "execute_result"
    }
   ],
   "source": [
    "def merge_crimes(s):\n",
    "    \"\"\"Map some crimes together.\"\"\"\n",
    "    \n",
    "    # Create a map of misspellings to correct spelling\n",
    "    misspellings = {'Burglary / \\r\\nBreaking & Entering':'Burglary',\n",
    "                    'Auto Theft':'Theft: Auto Parts',\n",
    "                    'Homicide: Murder & Nonnegligent Manslaughter':'Murder',\n",
    "                    'Agg Assault':'Aggravated Assault'}\n",
    "    \n",
    "    if s in misspellings:\n",
    "        return misspellings[s]\n",
    "    else:\n",
    "        return s\n",
    "    \n",
    "# Apply the function to the Series\n",
    "crime['General Offense Description'] = crime['General Offense Description'].map(merge_crimes)\n",
    "\n",
    "def merge_theft(s):\n",
    "    \"\"\"Map some crimes together.\"\"\"\n",
    "    \n",
    "    if (s[:5]=='Theft'):\n",
    "        return s[:5]\n",
    "    else:\n",
    "        return s\n",
    "    \n",
    "# Apply the function to the Series\n",
    "crime['General Offense Description'] = crime['General Offense Description'].map(merge_theft)\n",
    "\n",
    "# Check that it worked\n",
    "# mask = (crime['General Offense Description'] == 'Agg Assault')\n",
    "# crime['General Offense Description'][mask]  # should be empty\n",
    "\n",
    "crime['General Offense Description'].value_counts()"
   ]
  },
  {
   "cell_type": "markdown",
   "metadata": {},
   "source": [
    "# Final Dataframe"
   ]
  },
  {
   "cell_type": "code",
   "execution_count": 4,
   "metadata": {},
   "outputs": [
    {
     "data": {
      "text/html": [
       "<div>\n",
       "<style>\n",
       "    .dataframe thead tr:only-child th {\n",
       "        text-align: right;\n",
       "    }\n",
       "\n",
       "    .dataframe thead th {\n",
       "        text-align: left;\n",
       "    }\n",
       "\n",
       "    .dataframe tbody tr th {\n",
       "        vertical-align: top;\n",
       "    }\n",
       "</style>\n",
       "<table border=\"1\" class=\"dataframe\">\n",
       "  <thead>\n",
       "    <tr style=\"text-align: right;\">\n",
       "      <th></th>\n",
       "      <th>Clearance Date</th>\n",
       "      <th>Clearance Status</th>\n",
       "      <th>Council District</th>\n",
       "      <th>Census Tract</th>\n",
       "      <th>District</th>\n",
       "      <th>Detailed Offense Description</th>\n",
       "      <th>Location</th>\n",
       "      <th>Zipcode</th>\n",
       "      <th>Primary Key</th>\n",
       "      <th>Report Date</th>\n",
       "      <th>X Coordinate</th>\n",
       "      <th>Y Coordinate</th>\n",
       "      <th>General Offense Description</th>\n",
       "      <th>Date</th>\n",
       "      <th>Month</th>\n",
       "      <th>Year</th>\n",
       "    </tr>\n",
       "  </thead>\n",
       "  <tbody>\n",
       "    <tr>\n",
       "      <th>0</th>\n",
       "      <td>04/28/2014 12:00:00 AM</td>\n",
       "      <td>N</td>\n",
       "      <td>1</td>\n",
       "      <td>18.350000000000001</td>\n",
       "      <td>E</td>\n",
       "      <td>AGG ROBBERY/DEADLY WEAPON</td>\n",
       "      <td>12151 N IH 35 SVRD NB                         ...</td>\n",
       "      <td>78753</td>\n",
       "      <td>20141061920</td>\n",
       "      <td>04/17/2014 12:00:00 AM</td>\n",
       "      <td>3135985</td>\n",
       "      <td>10117220</td>\n",
       "      <td>Robbery</td>\n",
       "      <td>2014-04-17</td>\n",
       "      <td>Apr</td>\n",
       "      <td>2014</td>\n",
       "    </tr>\n",
       "    <tr>\n",
       "      <th>1</th>\n",
       "      <td>05/20/2014 12:00:00 AM</td>\n",
       "      <td>N</td>\n",
       "      <td>1</td>\n",
       "      <td>21.13</td>\n",
       "      <td>I</td>\n",
       "      <td>ROBBERY BY ASSAULT</td>\n",
       "      <td>3300 BLOCK ROCKHURST LN                       ...</td>\n",
       "      <td>78723</td>\n",
       "      <td>20141150937</td>\n",
       "      <td>04/25/2014 12:00:00 AM</td>\n",
       "      <td>3137985</td>\n",
       "      <td>10087946</td>\n",
       "      <td>Robbery</td>\n",
       "      <td>2014-04-25</td>\n",
       "      <td>Apr</td>\n",
       "      <td>2014</td>\n",
       "    </tr>\n",
       "    <tr>\n",
       "      <th>2</th>\n",
       "      <td>05/13/2014 12:00:00 AM</td>\n",
       "      <td>N</td>\n",
       "      <td>3</td>\n",
       "      <td>9.02</td>\n",
       "      <td>C</td>\n",
       "      <td>ROBBERY BY THREAT</td>\n",
       "      <td>E 7TH ST / CHICON ST                          ...</td>\n",
       "      <td>78702</td>\n",
       "      <td>20141310316</td>\n",
       "      <td>05/11/2014 12:00:00 AM</td>\n",
       "      <td>3120890</td>\n",
       "      <td>10068910</td>\n",
       "      <td>Robbery</td>\n",
       "      <td>2014-05-11</td>\n",
       "      <td>May</td>\n",
       "      <td>2014</td>\n",
       "    </tr>\n",
       "    <tr>\n",
       "      <th>3</th>\n",
       "      <td>03/24/2015 12:00:00 AM</td>\n",
       "      <td>C</td>\n",
       "      <td>1</td>\n",
       "      <td>21.04</td>\n",
       "      <td>I</td>\n",
       "      <td>AGG ROBBERY/DEADLY WEAPON</td>\n",
       "      <td>WHELESS LN / BERKMAN DR                       ...</td>\n",
       "      <td>78723</td>\n",
       "      <td>20141670098</td>\n",
       "      <td>06/16/2014 12:00:00 AM</td>\n",
       "      <td>3130566</td>\n",
       "      <td>10089446</td>\n",
       "      <td>Robbery</td>\n",
       "      <td>2014-06-16</td>\n",
       "      <td>Jun</td>\n",
       "      <td>2014</td>\n",
       "    </tr>\n",
       "    <tr>\n",
       "      <th>4</th>\n",
       "      <td>10/02/2014 12:00:00 AM</td>\n",
       "      <td>N</td>\n",
       "      <td>3</td>\n",
       "      <td>9.02</td>\n",
       "      <td>G</td>\n",
       "      <td>AGG ROBBERY/DEADLY WEAPON</td>\n",
       "      <td>WALLER ST / E 2ND ST                          ...</td>\n",
       "      <td>78702</td>\n",
       "      <td>20142070292</td>\n",
       "      <td>07/26/2014 12:00:00 AM</td>\n",
       "      <td>3117732</td>\n",
       "      <td>10068195</td>\n",
       "      <td>Robbery</td>\n",
       "      <td>2014-07-26</td>\n",
       "      <td>Jul</td>\n",
       "      <td>2014</td>\n",
       "    </tr>\n",
       "  </tbody>\n",
       "</table>\n",
       "</div>"
      ],
      "text/plain": [
       "           Clearance Date Clearance Status Council District  \\\n",
       "0  04/28/2014 12:00:00 AM                N                1   \n",
       "1  05/20/2014 12:00:00 AM                N                1   \n",
       "2  05/13/2014 12:00:00 AM                N                3   \n",
       "3  03/24/2015 12:00:00 AM                C                1   \n",
       "4  10/02/2014 12:00:00 AM                N                3   \n",
       "\n",
       "         Census Tract District    Detailed Offense Description  \\\n",
       "0  18.350000000000001        E  AGG ROBBERY/DEADLY WEAPON        \n",
       "1               21.13        I  ROBBERY BY ASSAULT               \n",
       "2                9.02        C  ROBBERY BY THREAT                \n",
       "3               21.04        I  AGG ROBBERY/DEADLY WEAPON        \n",
       "4                9.02        G  AGG ROBBERY/DEADLY WEAPON        \n",
       "\n",
       "                                            Location Zipcode  Primary Key  \\\n",
       "0  12151 N IH 35 SVRD NB                         ...   78753  20141061920   \n",
       "1  3300 BLOCK ROCKHURST LN                       ...   78723  20141150937   \n",
       "2  E 7TH ST / CHICON ST                          ...   78702  20141310316   \n",
       "3  WHELESS LN / BERKMAN DR                       ...   78723  20141670098   \n",
       "4  WALLER ST / E 2ND ST                          ...   78702  20142070292   \n",
       "\n",
       "              Report Date X Coordinate Y Coordinate  \\\n",
       "0  04/17/2014 12:00:00 AM      3135985     10117220   \n",
       "1  04/25/2014 12:00:00 AM      3137985     10087946   \n",
       "2  05/11/2014 12:00:00 AM      3120890     10068910   \n",
       "3  06/16/2014 12:00:00 AM      3130566     10089446   \n",
       "4  07/26/2014 12:00:00 AM      3117732     10068195   \n",
       "\n",
       "  General Offense Description       Date Month  Year  \n",
       "0                     Robbery 2014-04-17   Apr  2014  \n",
       "1                     Robbery 2014-04-25   Apr  2014  \n",
       "2                     Robbery 2014-05-11   May  2014  \n",
       "3                     Robbery 2014-06-16   Jun  2014  \n",
       "4                     Robbery 2014-07-26   Jul  2014  "
      ]
     },
     "execution_count": 4,
     "metadata": {},
     "output_type": "execute_result"
    }
   ],
   "source": [
    "crime.head()"
   ]
  },
  {
   "cell_type": "markdown",
   "metadata": {},
   "source": [
    "## Example Stacked Graph"
   ]
  },
  {
   "cell_type": "code",
   "execution_count": 6,
   "metadata": {},
   "outputs": [
    {
     "name": "stdout",
     "output_type": "stream",
     "text": [
      "Total crime count: 8491\n",
      "\n",
      "\n",
      "Theft                                 7243\n",
      "Burglary / \\r\\nBreaking & Entering     316\n",
      "Aggravated Assault                     300\n",
      "Burglary                               282\n",
      "Robbery                                206\n",
      "Rape                                   141\n",
      "Murder                                   3\n",
      "Name: General Offense Description, dtype: int64\n"
     ]
    },
    {
     "data": {
      "image/png": "[encoded data removed]",
      "text/plain": [
       "<matplotlib.figure.Figure at 0xd3152b0>"
      ]
     },
     "metadata": {},
     "output_type": "display_data"
    }
   ],
   "source": [
    "crime_wc = crime['Zipcode']==\"78705\"\n",
    "crime_ut = crime['Zipcode']==\"78712\"\n",
    "crime_hyde = crime['Zipcode']==\"78751\"\n",
    "crime_dt = crime['Zipcode']==\"78701\"\n",
    "area_mask = crime_wc | crime_ut | crime_hyde | crime_dt\n",
    "\n",
    "#print(area_mask)\n",
    "\n",
    "crime_student = crime[area_mask]\n",
    "\n",
    "pylab.rcParams['figure.figsize'] = (10, 8)\n",
    "\n",
    "test5 = crime_student.groupby(['Zipcode', 'General Offense Description'])['Zipcode'].count().unstack('General Offense Description').fillna(0)\n",
    "test5.plot(kind='bar', stacked=True)\n",
    "\n",
    "\n",
    "# total crime count\n",
    "print \"Total crime count:\", crime_student['General Offense Description'].count()\n",
    "\n",
    "# crime split into offenses\n",
    "crime_student_vc = crime_student['General Offense Description'].value_counts()\n",
    "print \"\\n\"\n",
    "print(crime_student_vc)\n",
    "#crime_student_vc.plot(kind='bar')\n"
   ]
  },
  {
   "cell_type": "code",
   "execution_count": 7,
   "metadata": {},
   "outputs": [
    {
     "data": {
      "text/html": [
       "<div>\n",
       "<style>\n",
       "    .dataframe thead tr:only-child th {\n",
       "        text-align: right;\n",
       "    }\n",
       "\n",
       "    .dataframe thead th {\n",
       "        text-align: left;\n",
       "    }\n",
       "\n",
       "    .dataframe tbody tr th {\n",
       "        vertical-align: top;\n",
       "    }\n",
       "</style>\n",
       "<table border=\"1\" class=\"dataframe\">\n",
       "  <thead>\n",
       "    <tr style=\"text-align: right;\">\n",
       "      <th></th>\n",
       "      <th>Clearance Date</th>\n",
       "      <th>Clearance Status</th>\n",
       "      <th>Council District</th>\n",
       "      <th>Census Tract</th>\n",
       "      <th>District</th>\n",
       "      <th>Detailed Offense Description</th>\n",
       "      <th>Location</th>\n",
       "      <th>Zipcode</th>\n",
       "      <th>Primary Key</th>\n",
       "      <th>Report Date</th>\n",
       "      <th>X Coordinate</th>\n",
       "      <th>Y Coordinate</th>\n",
       "      <th>General Offense Description</th>\n",
       "      <th>Date</th>\n",
       "      <th>Month</th>\n",
       "      <th>Year</th>\n",
       "    </tr>\n",
       "  </thead>\n",
       "  <tbody>\n",
       "    <tr>\n",
       "      <th>0</th>\n",
       "      <td>04/28/2014 12:00:00 AM</td>\n",
       "      <td>N</td>\n",
       "      <td>1</td>\n",
       "      <td>18.350000000000001</td>\n",
       "      <td>E</td>\n",
       "      <td>AGG ROBBERY/DEADLY WEAPON</td>\n",
       "      <td>12151 N IH 35 SVRD NB                         ...</td>\n",
       "      <td>78753</td>\n",
       "      <td>20141061920</td>\n",
       "      <td>04/17/2014 12:00:00 AM</td>\n",
       "      <td>3135985</td>\n",
       "      <td>10117220</td>\n",
       "      <td>Robbery</td>\n",
       "      <td>2014-04-17</td>\n",
       "      <td>Apr</td>\n",
       "      <td>2014</td>\n",
       "    </tr>\n",
       "    <tr>\n",
       "      <th>1</th>\n",
       "      <td>05/20/2014 12:00:00 AM</td>\n",
       "      <td>N</td>\n",
       "      <td>1</td>\n",
       "      <td>21.13</td>\n",
       "      <td>I</td>\n",
       "      <td>ROBBERY BY ASSAULT</td>\n",
       "      <td>3300 BLOCK ROCKHURST LN                       ...</td>\n",
       "      <td>78723</td>\n",
       "      <td>20141150937</td>\n",
       "      <td>04/25/2014 12:00:00 AM</td>\n",
       "      <td>3137985</td>\n",
       "      <td>10087946</td>\n",
       "      <td>Robbery</td>\n",
       "      <td>2014-04-25</td>\n",
       "      <td>Apr</td>\n",
       "      <td>2014</td>\n",
       "    </tr>\n",
       "    <tr>\n",
       "      <th>2</th>\n",
       "      <td>05/13/2014 12:00:00 AM</td>\n",
       "      <td>N</td>\n",
       "      <td>3</td>\n",
       "      <td>9.02</td>\n",
       "      <td>C</td>\n",
       "      <td>ROBBERY BY THREAT</td>\n",
       "      <td>E 7TH ST / CHICON ST                          ...</td>\n",
       "      <td>78702</td>\n",
       "      <td>20141310316</td>\n",
       "      <td>05/11/2014 12:00:00 AM</td>\n",
       "      <td>3120890</td>\n",
       "      <td>10068910</td>\n",
       "      <td>Robbery</td>\n",
       "      <td>2014-05-11</td>\n",
       "      <td>May</td>\n",
       "      <td>2014</td>\n",
       "    </tr>\n",
       "  </tbody>\n",
       "</table>\n",
       "</div>"
      ],
      "text/plain": [
       "           Clearance Date Clearance Status Council District  \\\n",
       "0  04/28/2014 12:00:00 AM                N                1   \n",
       "1  05/20/2014 12:00:00 AM                N                1   \n",
       "2  05/13/2014 12:00:00 AM                N                3   \n",
       "\n",
       "         Census Tract District    Detailed Offense Description  \\\n",
       "0  18.350000000000001        E  AGG ROBBERY/DEADLY WEAPON        \n",
       "1               21.13        I  ROBBERY BY ASSAULT               \n",
       "2                9.02        C  ROBBERY BY THREAT                \n",
       "\n",
       "                                            Location Zipcode  Primary Key  \\\n",
       "0  12151 N IH 35 SVRD NB                         ...   78753  20141061920   \n",
       "1  3300 BLOCK ROCKHURST LN                       ...   78723  20141150937   \n",
       "2  E 7TH ST / CHICON ST                          ...   78702  20141310316   \n",
       "\n",
       "              Report Date X Coordinate Y Coordinate  \\\n",
       "0  04/17/2014 12:00:00 AM      3135985     10117220   \n",
       "1  04/25/2014 12:00:00 AM      3137985     10087946   \n",
       "2  05/11/2014 12:00:00 AM      3120890     10068910   \n",
       "\n",
       "  General Offense Description       Date Month  Year  \n",
       "0                     Robbery 2014-04-17   Apr  2014  \n",
       "1                     Robbery 2014-04-25   Apr  2014  \n",
       "2                     Robbery 2014-05-11   May  2014  "
      ]
     },
     "execution_count": 7,
     "metadata": {},
     "output_type": "execute_result"
    }
   ],
   "source": [
    "crime[:3]"
   ]
  },
  {
   "cell_type": "markdown",
   "metadata": {},
   "source": [
    "### Converting NaN values in Clearance Status column to be Not Cleared "
   ]
  },
  {
   "cell_type": "code",
   "execution_count": 163,
   "metadata": {},
   "outputs": [
    {
     "data": {
      "text/plain": [
       "0"
      ]
     },
     "execution_count": 163,
     "metadata": {},
     "output_type": "execute_result"
    }
   ],
   "source": [
    "crime[crime['General Offense Description']=='Murder']#['Clearance Status'] \n",
    "#there are missing values in the original DF--should we make these not cleared?\n",
    "crime[crime['Clearance Status'].isnull()]['General Offense Description'].value_counts() \n",
    "#What should we do about the null clearance status??? Let's make them Not Cleared\n",
    "crime['Clearance Status']=crime['Clearance Status'].fillna('N')\n",
    "sum(crime['Clearance Status'].isnull())"
   ]
  },
  {
   "cell_type": "markdown",
   "metadata": {},
   "source": [
    "### Converting dates to datetime and adding new Clearance Time column"
   ]
  },
  {
   "cell_type": "code",
   "execution_count": 14,
   "metadata": {},
   "outputs": [
    {
     "data": {
      "text/html": [
       "<div>\n",
       "<style>\n",
       "    .dataframe thead tr:only-child th {\n",
       "        text-align: right;\n",
       "    }\n",
       "\n",
       "    .dataframe thead th {\n",
       "        text-align: left;\n",
       "    }\n",
       "\n",
       "    .dataframe tbody tr th {\n",
       "        vertical-align: top;\n",
       "    }\n",
       "</style>\n",
       "<table border=\"1\" class=\"dataframe\">\n",
       "  <thead>\n",
       "    <tr style=\"text-align: right;\">\n",
       "      <th></th>\n",
       "      <th>Clearance Date</th>\n",
       "      <th>Clearance Status</th>\n",
       "      <th>Council District</th>\n",
       "      <th>Census Tract</th>\n",
       "      <th>District</th>\n",
       "      <th>Detailed Offense Description</th>\n",
       "      <th>Location</th>\n",
       "      <th>Zipcode</th>\n",
       "      <th>Primary Key</th>\n",
       "      <th>Report Date</th>\n",
       "      <th>X Coordinate</th>\n",
       "      <th>Y Coordinate</th>\n",
       "      <th>General Offense Description</th>\n",
       "      <th>Date</th>\n",
       "      <th>Month</th>\n",
       "      <th>Year</th>\n",
       "      <th>Clearance Time</th>\n",
       "    </tr>\n",
       "  </thead>\n",
       "  <tbody>\n",
       "    <tr>\n",
       "      <th>0</th>\n",
       "      <td>2014-04-28</td>\n",
       "      <td>N</td>\n",
       "      <td>1</td>\n",
       "      <td>18.350000000000001</td>\n",
       "      <td>E</td>\n",
       "      <td>AGG ROBBERY/DEADLY WEAPON</td>\n",
       "      <td>12151 N IH 35 SVRD NB                         ...</td>\n",
       "      <td>78753</td>\n",
       "      <td>20141061920</td>\n",
       "      <td>2014-04-17</td>\n",
       "      <td>3135985</td>\n",
       "      <td>10117220</td>\n",
       "      <td>Robbery</td>\n",
       "      <td>2014-04-17</td>\n",
       "      <td>Apr</td>\n",
       "      <td>2014</td>\n",
       "      <td>11.0</td>\n",
       "    </tr>\n",
       "    <tr>\n",
       "      <th>1</th>\n",
       "      <td>2014-05-20</td>\n",
       "      <td>N</td>\n",
       "      <td>1</td>\n",
       "      <td>21.13</td>\n",
       "      <td>I</td>\n",
       "      <td>ROBBERY BY ASSAULT</td>\n",
       "      <td>3300 BLOCK ROCKHURST LN                       ...</td>\n",
       "      <td>78723</td>\n",
       "      <td>20141150937</td>\n",
       "      <td>2014-04-25</td>\n",
       "      <td>3137985</td>\n",
       "      <td>10087946</td>\n",
       "      <td>Robbery</td>\n",
       "      <td>2014-04-25</td>\n",
       "      <td>Apr</td>\n",
       "      <td>2014</td>\n",
       "      <td>25.0</td>\n",
       "    </tr>\n",
       "    <tr>\n",
       "      <th>2</th>\n",
       "      <td>2014-05-13</td>\n",
       "      <td>N</td>\n",
       "      <td>3</td>\n",
       "      <td>9.02</td>\n",
       "      <td>C</td>\n",
       "      <td>ROBBERY BY THREAT</td>\n",
       "      <td>E 7TH ST / CHICON ST                          ...</td>\n",
       "      <td>78702</td>\n",
       "      <td>20141310316</td>\n",
       "      <td>2014-05-11</td>\n",
       "      <td>3120890</td>\n",
       "      <td>10068910</td>\n",
       "      <td>Robbery</td>\n",
       "      <td>2014-05-11</td>\n",
       "      <td>May</td>\n",
       "      <td>2014</td>\n",
       "      <td>2.0</td>\n",
       "    </tr>\n",
       "  </tbody>\n",
       "</table>\n",
       "</div>"
      ],
      "text/plain": [
       "  Clearance Date Clearance Status Council District        Census Tract  \\\n",
       "0     2014-04-28                N                1  18.350000000000001   \n",
       "1     2014-05-20                N                1               21.13   \n",
       "2     2014-05-13                N                3                9.02   \n",
       "\n",
       "  District    Detailed Offense Description  \\\n",
       "0        E  AGG ROBBERY/DEADLY WEAPON        \n",
       "1        I  ROBBERY BY ASSAULT               \n",
       "2        C  ROBBERY BY THREAT                \n",
       "\n",
       "                                            Location Zipcode  Primary Key  \\\n",
       "0  12151 N IH 35 SVRD NB                         ...   78753  20141061920   \n",
       "1  3300 BLOCK ROCKHURST LN                       ...   78723  20141150937   \n",
       "2  E 7TH ST / CHICON ST                          ...   78702  20141310316   \n",
       "\n",
       "  Report Date X Coordinate Y Coordinate General Offense Description  \\\n",
       "0  2014-04-17      3135985     10117220                     Robbery   \n",
       "1  2014-04-25      3137985     10087946                     Robbery   \n",
       "2  2014-05-11      3120890     10068910                     Robbery   \n",
       "\n",
       "        Date Month  Year  Clearance Time  \n",
       "0 2014-04-17   Apr  2014            11.0  \n",
       "1 2014-04-25   Apr  2014            25.0  \n",
       "2 2014-05-11   May  2014             2.0  "
      ]
     },
     "execution_count": 14,
     "metadata": {},
     "output_type": "execute_result"
    }
   ],
   "source": [
    "crime['Report Date']=pd.to_datetime(crime['Report Date'])\n",
    "crime['Clearance Date']=pd.to_datetime(crime['Clearance Date'])\n",
    "crime['Clearance Time']=crime['Clearance Date']-crime['Report Date']\n",
    "crime['Clearance Time']=crime['Clearance Time'].dt.days #converted it to int\n",
    "crime[:3]"
   ]
  },
  {
   "cell_type": "markdown",
   "metadata": {},
   "source": [
    "### Clearance Time histogram"
   ]
  },
  {
   "cell_type": "code",
   "execution_count": 235,
   "metadata": {},
   "outputs": [
    {
     "data": {
      "text/plain": [
       "0"
      ]
     },
     "execution_count": 235,
     "metadata": {},
     "output_type": "execute_result"
    }
   ],
   "source": [
    "crime[crime['Clearance Time'].isnull()]['General Offense Description'] #there are nulls in clearance time also- fill in with avg\n",
    "crime['Clearance Time']=crime['Clearance Time'].fillna(mean)\n",
    "sum(crime['Clearance Time'].isnull())"
   ]
  },
  {
   "cell_type": "code",
   "execution_count": 251,
   "metadata": {
    "scrolled": false
   },
   "outputs": [
    {
     "data": {
      "text/plain": [
       "[<matplotlib.text.Text at 0x469fb160>,\n",
       " <matplotlib.text.Text at 0x47468358>,\n",
       " <matplotlib.text.Text at 0x47dcd470>]"
      ]
     },
     "execution_count": 251,
     "metadata": {},
     "output_type": "execute_result"
    },
    {
     "data": {
      "image/png": "[encoded data removed]",
      "text/plain": [
       "<matplotlib.figure.Figure at 0x44af75f8>"
      ]
     },
     "metadata": {},
     "output_type": "display_data"
    }
   ],
   "source": [
    "# crime.hist(column='Clearance Time',by='General Offense Description', bins=15, stacked=True)\n",
    "# #.set(xlabel='Days to Clear',ylabel='Number of Crimes',title='Days to Clear Based on Crime')\n",
    "# crime.hist(column='Clearance Time', bins=30)\n",
    "# #crime['Clearance Time']=crime['']\n",
    "\n",
    "# #pivot=pd.pivot(crime, index=['General Offense Description'],columns=['Clearance Status'])\n",
    "# stuff = crime.groupby(['General Offense Description', 'Clearance Time'])['General Offense Description'].count()\n",
    "x=stuff.unstack().T / stuff.unstack().sum(axis=1) \n",
    "#hist(stacked=True)\n",
    "#graph of percent of crimes clearaed on certain days (line)\n",
    "\n",
    "#stuff.unstack().T.plot(xlim=(0,100)) #number of crimes cleared on certain days\n",
    "#want percentages\n",
    "\n",
    "#x.apply(cumsum).plot(xlim=(0,100))\n",
    "x.apply(cumsum)\n",
    "x.apply(cumsum).fillna(method='ffill').plot(xlim=(0,100)).set(xlabel='Clearance Time',\\\n",
    "                                                              ylabel='Cumulative Percent of Crimes Cleared',\\\n",
    "                                                             title='Cumulative Percent of Crimes Cleared based on Time')\n"
   ]
  },
  {
   "cell_type": "code",
   "execution_count": 165,
   "metadata": {
    "scrolled": false
   },
   "outputs": [
    {
     "data": {
      "text/plain": [
       "[<matplotlib.text.Text at 0x1a470710>, <matplotlib.text.Text at 0xd164c50>]"
      ]
     },
     "execution_count": 165,
     "metadata": {},
     "output_type": "execute_result"
    },
    {
     "data": {
      "image/png": "[encoded data removed]",
      "text/plain": [
       "<matplotlib.figure.Figure at 0x1afb5a90>"
      ]
     },
     "metadata": {},
     "output_type": "display_data"
    }
   ],
   "source": [
    "#does clearance rate mean separated by N/O/C or time for different crimes? \n",
    "crime.groupby(['General Offense Description'])['Clearance Time'].mean().plot(kind='bar').set(xlabel='Crime Type', ylabel='Days to Clear')"
   ]
  },
  {
   "cell_type": "code",
   "execution_count": 166,
   "metadata": {},
   "outputs": [
    {
     "data": {
      "text/plain": [
       "Theft                 61908\n",
       "Burglary              10597\n",
       "Aggravated Assault     3803\n",
       "Robbery                1809\n",
       "Rape                   1042\n",
       "Murder                   55\n",
       "Name: General Offense Description, dtype: int64"
      ]
     },
     "execution_count": 166,
     "metadata": {},
     "output_type": "execute_result"
    }
   ],
   "source": [
    "crime['General Offense Description'].value_counts()"
   ]
  },
  {
   "cell_type": "code",
   "execution_count": 167,
   "metadata": {},
   "outputs": [
    {
     "data": {
      "text/plain": [
       "<matplotlib.axes._subplots.AxesSubplot at 0x1a416860>"
      ]
     },
     "execution_count": 167,
     "metadata": {},
     "output_type": "execute_result"
    },
    {
     "data": {
      "image/png": "[encoded data removed]",
      "text/plain": [
       "<matplotlib.figure.Figure at 0x19ed6860>"
      ]
     },
     "metadata": {},
     "output_type": "display_data"
    }
   ],
   "source": [
    "#do the distributions of crimes differ depending on clearance status?\n",
    "crime[crime['Clearance Status']=='N']['General Offense Description'].value_counts().plot(kind='bar')\n",
    "crime[crime['Clearance Status']=='O']['General Offense Description'].value_counts().plot(kind='bar')"
   ]
  },
  {
   "cell_type": "code",
   "execution_count": null,
   "metadata": {},
   "outputs": [],
   "source": []
  },
  {
   "cell_type": "code",
   "execution_count": null,
   "metadata": {},
   "outputs": [],
   "source": []
  },
  {
   "cell_type": "code",
   "execution_count": null,
   "metadata": {
    "collapsed": true
   },
   "outputs": [],
   "source": []
  },
  {
   "cell_type": "code",
   "execution_count": 170,
   "metadata": {},
   "outputs": [
    {
     "data": {
      "text/plain": [
       "[<matplotlib.text.Text at 0x1d17d240>,\n",
       " <matplotlib.text.Text at 0x1b136be0>,\n",
       " <matplotlib.text.Text at 0x1ba22dd8>]"
      ]
     },
     "execution_count": 170,
     "metadata": {},
     "output_type": "execute_result"
    },
    {
     "data": {
      "image/png": "[encoded data removed]",
      "text/plain": [
       "<matplotlib.figure.Figure at 0x189aff28>"
      ]
     },
     "metadata": {},
     "output_type": "display_data"
    }
   ],
   "source": [
    "stuff = crime.groupby(['General Offense Description', 'Clearance Status'])['General Offense Description'].count()\n",
    "\n",
    "stuff2=stuff.unstack() \n",
    "\n",
    "stuff2['Total']= stuff2.sum(axis=1) #summing rows and adding to new col in df\n",
    "stuff2['C']=stuff2['C']/stuff2['Total']\n",
    "stuff2['N']=stuff2['N']/stuff2['Total']\n",
    "stuff2['O']=stuff2['O']/stuff2['Total']\n",
    "del stuff2['Total']\n",
    "stuff2.plot(kind='bar').set(xlabel='Crime Type',ylabel='Percent of Crime Type',title='Clearance Status of Crime Types') \n",
    "#plots percent of each crime type that are cleared by arrest/exception/not cleared"
   ]
  },
  {
   "cell_type": "code",
   "execution_count": null,
   "metadata": {
    "collapsed": true
   },
   "outputs": [],
   "source": []
  }
 ],
 "metadata": {
  "kernelspec": {
   "display_name": "Python 2",
   "language": "python",
   "name": "python2"
  },
  "language_info": {
   "codemirror_mode": {
    "name": "ipython",
    "version": 2
   },
   "file_extension": ".py",
   "mimetype": "text/x-python",
   "name": "python",
   "nbconvert_exporter": "python",
   "pygments_lexer": "ipython2",
   "version": "2.7.13"
  }
 },
 "nbformat": 4,
 "nbformat_minor": 2
}
