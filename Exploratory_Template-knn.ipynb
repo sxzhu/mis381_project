{
 "cells": [
  {
   "cell_type": "code",
   "execution_count": 13,
   "metadata": {},
   "outputs": [
    {
     "name": "stdout",
     "output_type": "stream",
     "text": [
      "Populating the interactive namespace from numpy and matplotlib\n"
     ]
    }
   ],
   "source": [
    "from pandas import Series, DataFrame\n",
    "import pandas as pd\n",
    "import calendar\n",
    "from patsy import dmatrices\n",
    "%pylab inline"
   ]
  },
  {
   "cell_type": "markdown",
   "metadata": {},
   "source": [
    "# Setup"
   ]
  },
  {
   "cell_type": "code",
   "execution_count": 2,
   "metadata": {
    "collapsed": true
   },
   "outputs": [],
   "source": [
    "#read data in, appended 2014/2015, removed GO from col names\n",
    "crime2014 = pd.read_csv(\"https://raw.githubusercontent.com/sxzhu/mis381_project/master/Austin_Crime_2014.csv\", dtype=unicode, encoding='utf-8')\n",
    "crime2014[:3]\n",
    "\n",
    "crime2015 = pd.read_csv(\"https://raw.githubusercontent.com/sxzhu/mis381_project/master/Austin_Crime_2015.csv\", dtype=unicode, encoding='utf-8')\n",
    "crime = crime2014.append(crime2015,ignore_index=True)\n",
    "\n",
    "crime = crime.rename(index=str, columns={\"Highest NIBRS/UCR Offense Description\": \"General Offense Description\",\\\n",
    "                                 \"GO Highest Offense Desc\":\"Detailed Offense Description\",\\\n",
    "                                 \"GO Location\":\"Location\",\"GO Report Date\":\"Report Date\",\\\n",
    "                                 \"GO Location Zip\":\"Zipcode\",\"GO District\":\"District\",\"GO Census Tract\":\"Census Tract\",\\\n",
    "                                 \"GO X Coordinate\":\"X Coordinate\",\"GO Y Coordinate\":\"Y Coordinate\",\\\n",
    "                                      \"GO Primary Key\":\"Primary Key\"})\n",
    "\n",
    "crime = crime.drop('Location_1', axis=1)\n",
    "crime['Date'] = pd.DatetimeIndex(crime['Report Date'])\n",
    "crime['Month'] = pd.DatetimeIndex(crime['Date']).month\n",
    "crime['Month'] = crime['Month'].apply(lambda x: calendar.month_abbr[x])\n",
    "crime['Year'] = pd.DatetimeIndex(crime['Report Date']).year"
   ]
  },
  {
   "cell_type": "markdown",
   "metadata": {},
   "source": [
    "## Merge Crimes"
   ]
  },
  {
   "cell_type": "code",
   "execution_count": 3,
   "metadata": {},
   "outputs": [
    {
     "data": {
      "text/plain": [
       "Theft                 61908\n",
       "Burglary              10597\n",
       "Aggravated Assault     3803\n",
       "Robbery                1809\n",
       "Rape                   1042\n",
       "Murder                   55\n",
       "Name: General Offense Description, dtype: int64"
      ]
     },
     "execution_count": 3,
     "metadata": {},
     "output_type": "execute_result"
    }
   ],
   "source": [
    "def merge_crimes(s):\n",
    "    \"\"\"Map some crimes together.\"\"\"\n",
    "    \n",
    "    # Create a map of misspellings to correct spelling\n",
    "    misspellings = {'Burglary / \\nBreaking & Entering':'Burglary',\n",
    "                    'Auto Theft':'Theft: Auto Parts',\n",
    "                    'Homicide: Murder & Nonnegligent Manslaughter':'Murder',\n",
    "                    'Agg Assault':'Aggravated Assault'}\n",
    "    \n",
    "    if s in misspellings:\n",
    "        return misspellings[s]\n",
    "    else:\n",
    "        return s\n",
    "    \n",
    "# Apply the function to the Series\n",
    "crime['General Offense Description'] = crime['General Offense Description'].map(merge_crimes)\n",
    "\n",
    "def merge_theft(s):\n",
    "    \"\"\"Map some crimes together.\"\"\"\n",
    "    \n",
    "    if (s[:5]=='Theft'):\n",
    "        return s[:5]\n",
    "    else:\n",
    "        return s\n",
    "    \n",
    "# Apply the function to the Series\n",
    "crime['General Offense Description'] = crime['General Offense Description'].map(merge_theft)\n",
    "\n",
    "# Check that it worked\n",
    "# mask = (crime['General Offense Description'] == 'Agg Assault')\n",
    "# crime['General Offense Description'][mask]  # should be empty\n",
    "\n",
    "crime['General Offense Description'].value_counts()"
   ]
  },
  {
   "cell_type": "code",
   "execution_count": 5,
   "metadata": {
    "collapsed": true
   },
   "outputs": [],
   "source": [
    "#Add the 'Streetname' column to both dataframes, keeping only the street name information\n",
    "# removes leading numbers, leading hyphenated or / numbers, trailing 'NB', 'SB', 'EB', 'WB', trailing 'SVRD', and leading 'N', 'S', 'E', 'W'\n",
    "\n",
    "crime['Streetname'] = crime['Location'].str.rsplit('\\n', -1).str[0].str.replace('^[/\\s\\d-]+/?\\d*\\s+', '').str.replace('^BLOCK\\s+', '').str.replace('\\s[NSEW]B\\s*$', '').str.replace('\\sSVRD\\s*$', '').str.replace('^\\s*[NSEW]\\s+', '').str.rstrip()\n",
    "crime['PrimaryStreet'] = crime['Streetname'].str.rsplit(' / ', -1).str[0]\n",
    "crime['SecondaryStreet'] = crime['Streetname'].str.rsplit(' / ', -1).str[1]"
   ]
  },
  {
   "cell_type": "markdown",
   "metadata": {},
   "source": [
    "# Final Dataframe"
   ]
  },
  {
   "cell_type": "code",
   "execution_count": 6,
   "metadata": {},
   "outputs": [
    {
     "data": {
      "text/html": [
       "<div>\n",
       "<style>\n",
       "    .dataframe thead tr:only-child th {\n",
       "        text-align: right;\n",
       "    }\n",
       "\n",
       "    .dataframe thead th {\n",
       "        text-align: left;\n",
       "    }\n",
       "\n",
       "    .dataframe tbody tr th {\n",
       "        vertical-align: top;\n",
       "    }\n",
       "</style>\n",
       "<table border=\"1\" class=\"dataframe\">\n",
       "  <thead>\n",
       "    <tr style=\"text-align: right;\">\n",
       "      <th></th>\n",
       "      <th>Clearance Date</th>\n",
       "      <th>Clearance Status</th>\n",
       "      <th>Council District</th>\n",
       "      <th>Census Tract</th>\n",
       "      <th>District</th>\n",
       "      <th>Detailed Offense Description</th>\n",
       "      <th>Location</th>\n",
       "      <th>Zipcode</th>\n",
       "      <th>Primary Key</th>\n",
       "      <th>Report Date</th>\n",
       "      <th>X Coordinate</th>\n",
       "      <th>Y Coordinate</th>\n",
       "      <th>General Offense Description</th>\n",
       "      <th>Date</th>\n",
       "      <th>Month</th>\n",
       "      <th>Year</th>\n",
       "      <th>Streetname</th>\n",
       "      <th>PrimaryStreet</th>\n",
       "      <th>SecondaryStreet</th>\n",
       "    </tr>\n",
       "  </thead>\n",
       "  <tbody>\n",
       "    <tr>\n",
       "      <th>0</th>\n",
       "      <td>04/28/2014 12:00:00 AM</td>\n",
       "      <td>N</td>\n",
       "      <td>1</td>\n",
       "      <td>18.350000000000001</td>\n",
       "      <td>E</td>\n",
       "      <td>AGG ROBBERY/DEADLY WEAPON</td>\n",
       "      <td>12151 N IH 35 SVRD NB                         ...</td>\n",
       "      <td>78753</td>\n",
       "      <td>20141061920</td>\n",
       "      <td>04/17/2014 12:00:00 AM</td>\n",
       "      <td>3135985</td>\n",
       "      <td>10117220</td>\n",
       "      <td>Robbery</td>\n",
       "      <td>2014-04-17</td>\n",
       "      <td>Apr</td>\n",
       "      <td>2014</td>\n",
       "      <td>IH 35</td>\n",
       "      <td>IH 35</td>\n",
       "      <td>NaN</td>\n",
       "    </tr>\n",
       "    <tr>\n",
       "      <th>1</th>\n",
       "      <td>05/20/2014 12:00:00 AM</td>\n",
       "      <td>N</td>\n",
       "      <td>1</td>\n",
       "      <td>21.13</td>\n",
       "      <td>I</td>\n",
       "      <td>ROBBERY BY ASSAULT</td>\n",
       "      <td>3300 BLOCK ROCKHURST LN                       ...</td>\n",
       "      <td>78723</td>\n",
       "      <td>20141150937</td>\n",
       "      <td>04/25/2014 12:00:00 AM</td>\n",
       "      <td>3137985</td>\n",
       "      <td>10087946</td>\n",
       "      <td>Robbery</td>\n",
       "      <td>2014-04-25</td>\n",
       "      <td>Apr</td>\n",
       "      <td>2014</td>\n",
       "      <td>ROCKHURST LN</td>\n",
       "      <td>ROCKHURST LN</td>\n",
       "      <td>NaN</td>\n",
       "    </tr>\n",
       "    <tr>\n",
       "      <th>2</th>\n",
       "      <td>05/13/2014 12:00:00 AM</td>\n",
       "      <td>N</td>\n",
       "      <td>3</td>\n",
       "      <td>9.02</td>\n",
       "      <td>C</td>\n",
       "      <td>ROBBERY BY THREAT</td>\n",
       "      <td>E 7TH ST / CHICON ST                          ...</td>\n",
       "      <td>78702</td>\n",
       "      <td>20141310316</td>\n",
       "      <td>05/11/2014 12:00:00 AM</td>\n",
       "      <td>3120890</td>\n",
       "      <td>10068910</td>\n",
       "      <td>Robbery</td>\n",
       "      <td>2014-05-11</td>\n",
       "      <td>May</td>\n",
       "      <td>2014</td>\n",
       "      <td>7TH ST / CHICON ST</td>\n",
       "      <td>7TH ST</td>\n",
       "      <td>CHICON ST</td>\n",
       "    </tr>\n",
       "    <tr>\n",
       "      <th>3</th>\n",
       "      <td>03/24/2015 12:00:00 AM</td>\n",
       "      <td>C</td>\n",
       "      <td>1</td>\n",
       "      <td>21.04</td>\n",
       "      <td>I</td>\n",
       "      <td>AGG ROBBERY/DEADLY WEAPON</td>\n",
       "      <td>WHELESS LN / BERKMAN DR                       ...</td>\n",
       "      <td>78723</td>\n",
       "      <td>20141670098</td>\n",
       "      <td>06/16/2014 12:00:00 AM</td>\n",
       "      <td>3130566</td>\n",
       "      <td>10089446</td>\n",
       "      <td>Robbery</td>\n",
       "      <td>2014-06-16</td>\n",
       "      <td>Jun</td>\n",
       "      <td>2014</td>\n",
       "      <td>WHELESS LN / BERKMAN DR</td>\n",
       "      <td>WHELESS LN</td>\n",
       "      <td>BERKMAN DR</td>\n",
       "    </tr>\n",
       "    <tr>\n",
       "      <th>4</th>\n",
       "      <td>10/02/2014 12:00:00 AM</td>\n",
       "      <td>N</td>\n",
       "      <td>3</td>\n",
       "      <td>9.02</td>\n",
       "      <td>G</td>\n",
       "      <td>AGG ROBBERY/DEADLY WEAPON</td>\n",
       "      <td>WALLER ST / E 2ND ST                          ...</td>\n",
       "      <td>78702</td>\n",
       "      <td>20142070292</td>\n",
       "      <td>07/26/2014 12:00:00 AM</td>\n",
       "      <td>3117732</td>\n",
       "      <td>10068195</td>\n",
       "      <td>Robbery</td>\n",
       "      <td>2014-07-26</td>\n",
       "      <td>Jul</td>\n",
       "      <td>2014</td>\n",
       "      <td>WALLER ST / E 2ND ST</td>\n",
       "      <td>WALLER ST</td>\n",
       "      <td>E 2ND ST</td>\n",
       "    </tr>\n",
       "  </tbody>\n",
       "</table>\n",
       "</div>"
      ],
      "text/plain": [
       "           Clearance Date Clearance Status Council District  \\\n",
       "0  04/28/2014 12:00:00 AM                N                1   \n",
       "1  05/20/2014 12:00:00 AM                N                1   \n",
       "2  05/13/2014 12:00:00 AM                N                3   \n",
       "3  03/24/2015 12:00:00 AM                C                1   \n",
       "4  10/02/2014 12:00:00 AM                N                3   \n",
       "\n",
       "         Census Tract District    Detailed Offense Description  \\\n",
       "0  18.350000000000001        E  AGG ROBBERY/DEADLY WEAPON        \n",
       "1               21.13        I  ROBBERY BY ASSAULT               \n",
       "2                9.02        C  ROBBERY BY THREAT                \n",
       "3               21.04        I  AGG ROBBERY/DEADLY WEAPON        \n",
       "4                9.02        G  AGG ROBBERY/DEADLY WEAPON        \n",
       "\n",
       "                                            Location Zipcode  Primary Key  \\\n",
       "0  12151 N IH 35 SVRD NB                         ...   78753  20141061920   \n",
       "1  3300 BLOCK ROCKHURST LN                       ...   78723  20141150937   \n",
       "2  E 7TH ST / CHICON ST                          ...   78702  20141310316   \n",
       "3  WHELESS LN / BERKMAN DR                       ...   78723  20141670098   \n",
       "4  WALLER ST / E 2ND ST                          ...   78702  20142070292   \n",
       "\n",
       "              Report Date X Coordinate Y Coordinate  \\\n",
       "0  04/17/2014 12:00:00 AM      3135985     10117220   \n",
       "1  04/25/2014 12:00:00 AM      3137985     10087946   \n",
       "2  05/11/2014 12:00:00 AM      3120890     10068910   \n",
       "3  06/16/2014 12:00:00 AM      3130566     10089446   \n",
       "4  07/26/2014 12:00:00 AM      3117732     10068195   \n",
       "\n",
       "  General Offense Description       Date Month  Year               Streetname  \\\n",
       "0                     Robbery 2014-04-17   Apr  2014                    IH 35   \n",
       "1                     Robbery 2014-04-25   Apr  2014             ROCKHURST LN   \n",
       "2                     Robbery 2014-05-11   May  2014       7TH ST / CHICON ST   \n",
       "3                     Robbery 2014-06-16   Jun  2014  WHELESS LN / BERKMAN DR   \n",
       "4                     Robbery 2014-07-26   Jul  2014     WALLER ST / E 2ND ST   \n",
       "\n",
       "  PrimaryStreet SecondaryStreet  \n",
       "0         IH 35             NaN  \n",
       "1  ROCKHURST LN             NaN  \n",
       "2        7TH ST       CHICON ST  \n",
       "3    WHELESS LN      BERKMAN DR  \n",
       "4     WALLER ST        E 2ND ST  "
      ]
     },
     "execution_count": 6,
     "metadata": {},
     "output_type": "execute_result"
    }
   ],
   "source": [
    "crime.head()"
   ]
  },
  {
   "cell_type": "code",
   "execution_count": 10,
   "metadata": {},
   "outputs": [
    {
     "data": {
      "text/html": [
       "<div>\n",
       "<style>\n",
       "    .dataframe thead tr:only-child th {\n",
       "        text-align: right;\n",
       "    }\n",
       "\n",
       "    .dataframe thead th {\n",
       "        text-align: left;\n",
       "    }\n",
       "\n",
       "    .dataframe tbody tr th {\n",
       "        vertical-align: top;\n",
       "    }\n",
       "</style>\n",
       "<table border=\"1\" class=\"dataframe\">\n",
       "  <thead>\n",
       "    <tr style=\"text-align: right;\">\n",
       "      <th></th>\n",
       "      <th>Clearance Date</th>\n",
       "      <th>Clearance Status</th>\n",
       "      <th>Council District</th>\n",
       "      <th>Census Tract</th>\n",
       "      <th>District</th>\n",
       "      <th>Detailed Offense Description</th>\n",
       "      <th>Zipcode</th>\n",
       "      <th>Primary Key</th>\n",
       "      <th>Report Date</th>\n",
       "      <th>X Coordinate</th>\n",
       "      <th>Y Coordinate</th>\n",
       "      <th>General Offense Description</th>\n",
       "      <th>Date</th>\n",
       "      <th>Month</th>\n",
       "      <th>Year</th>\n",
       "      <th>Streetname</th>\n",
       "      <th>PrimaryStreet</th>\n",
       "    </tr>\n",
       "  </thead>\n",
       "  <tbody>\n",
       "    <tr>\n",
       "      <th>0</th>\n",
       "      <td>04/28/2014 12:00:00 AM</td>\n",
       "      <td>N</td>\n",
       "      <td>1</td>\n",
       "      <td>18.350000000000001</td>\n",
       "      <td>E</td>\n",
       "      <td>AGG ROBBERY/DEADLY WEAPON</td>\n",
       "      <td>78753</td>\n",
       "      <td>20141061920</td>\n",
       "      <td>04/17/2014 12:00:00 AM</td>\n",
       "      <td>3135985</td>\n",
       "      <td>10117220</td>\n",
       "      <td>Robbery</td>\n",
       "      <td>2014-04-17</td>\n",
       "      <td>Apr</td>\n",
       "      <td>2014</td>\n",
       "      <td>IH 35</td>\n",
       "      <td>IH 35</td>\n",
       "    </tr>\n",
       "    <tr>\n",
       "      <th>1</th>\n",
       "      <td>05/20/2014 12:00:00 AM</td>\n",
       "      <td>N</td>\n",
       "      <td>1</td>\n",
       "      <td>21.13</td>\n",
       "      <td>I</td>\n",
       "      <td>ROBBERY BY ASSAULT</td>\n",
       "      <td>78723</td>\n",
       "      <td>20141150937</td>\n",
       "      <td>04/25/2014 12:00:00 AM</td>\n",
       "      <td>3137985</td>\n",
       "      <td>10087946</td>\n",
       "      <td>Robbery</td>\n",
       "      <td>2014-04-25</td>\n",
       "      <td>Apr</td>\n",
       "      <td>2014</td>\n",
       "      <td>ROCKHURST LN</td>\n",
       "      <td>ROCKHURST LN</td>\n",
       "    </tr>\n",
       "    <tr>\n",
       "      <th>2</th>\n",
       "      <td>05/13/2014 12:00:00 AM</td>\n",
       "      <td>N</td>\n",
       "      <td>3</td>\n",
       "      <td>9.02</td>\n",
       "      <td>C</td>\n",
       "      <td>ROBBERY BY THREAT</td>\n",
       "      <td>78702</td>\n",
       "      <td>20141310316</td>\n",
       "      <td>05/11/2014 12:00:00 AM</td>\n",
       "      <td>3120890</td>\n",
       "      <td>10068910</td>\n",
       "      <td>Robbery</td>\n",
       "      <td>2014-05-11</td>\n",
       "      <td>May</td>\n",
       "      <td>2014</td>\n",
       "      <td>7TH ST / CHICON ST</td>\n",
       "      <td>7TH ST</td>\n",
       "    </tr>\n",
       "    <tr>\n",
       "      <th>3</th>\n",
       "      <td>03/24/2015 12:00:00 AM</td>\n",
       "      <td>C</td>\n",
       "      <td>1</td>\n",
       "      <td>21.04</td>\n",
       "      <td>I</td>\n",
       "      <td>AGG ROBBERY/DEADLY WEAPON</td>\n",
       "      <td>78723</td>\n",
       "      <td>20141670098</td>\n",
       "      <td>06/16/2014 12:00:00 AM</td>\n",
       "      <td>3130566</td>\n",
       "      <td>10089446</td>\n",
       "      <td>Robbery</td>\n",
       "      <td>2014-06-16</td>\n",
       "      <td>Jun</td>\n",
       "      <td>2014</td>\n",
       "      <td>WHELESS LN / BERKMAN DR</td>\n",
       "      <td>WHELESS LN</td>\n",
       "    </tr>\n",
       "    <tr>\n",
       "      <th>4</th>\n",
       "      <td>10/02/2014 12:00:00 AM</td>\n",
       "      <td>N</td>\n",
       "      <td>3</td>\n",
       "      <td>9.02</td>\n",
       "      <td>G</td>\n",
       "      <td>AGG ROBBERY/DEADLY WEAPON</td>\n",
       "      <td>78702</td>\n",
       "      <td>20142070292</td>\n",
       "      <td>07/26/2014 12:00:00 AM</td>\n",
       "      <td>3117732</td>\n",
       "      <td>10068195</td>\n",
       "      <td>Robbery</td>\n",
       "      <td>2014-07-26</td>\n",
       "      <td>Jul</td>\n",
       "      <td>2014</td>\n",
       "      <td>WALLER ST / E 2ND ST</td>\n",
       "      <td>WALLER ST</td>\n",
       "    </tr>\n",
       "  </tbody>\n",
       "</table>\n",
       "</div>"
      ],
      "text/plain": [
       "           Clearance Date Clearance Status Council District  \\\n",
       "0  04/28/2014 12:00:00 AM                N                1   \n",
       "1  05/20/2014 12:00:00 AM                N                1   \n",
       "2  05/13/2014 12:00:00 AM                N                3   \n",
       "3  03/24/2015 12:00:00 AM                C                1   \n",
       "4  10/02/2014 12:00:00 AM                N                3   \n",
       "\n",
       "         Census Tract District    Detailed Offense Description Zipcode  \\\n",
       "0  18.350000000000001        E  AGG ROBBERY/DEADLY WEAPON        78753   \n",
       "1               21.13        I  ROBBERY BY ASSAULT               78723   \n",
       "2                9.02        C  ROBBERY BY THREAT                78702   \n",
       "3               21.04        I  AGG ROBBERY/DEADLY WEAPON        78723   \n",
       "4                9.02        G  AGG ROBBERY/DEADLY WEAPON        78702   \n",
       "\n",
       "   Primary Key             Report Date X Coordinate Y Coordinate  \\\n",
       "0  20141061920  04/17/2014 12:00:00 AM      3135985     10117220   \n",
       "1  20141150937  04/25/2014 12:00:00 AM      3137985     10087946   \n",
       "2  20141310316  05/11/2014 12:00:00 AM      3120890     10068910   \n",
       "3  20141670098  06/16/2014 12:00:00 AM      3130566     10089446   \n",
       "4  20142070292  07/26/2014 12:00:00 AM      3117732     10068195   \n",
       "\n",
       "  General Offense Description       Date Month  Year               Streetname  \\\n",
       "0                     Robbery 2014-04-17   Apr  2014                    IH 35   \n",
       "1                     Robbery 2014-04-25   Apr  2014             ROCKHURST LN   \n",
       "2                     Robbery 2014-05-11   May  2014       7TH ST / CHICON ST   \n",
       "3                     Robbery 2014-06-16   Jun  2014  WHELESS LN / BERKMAN DR   \n",
       "4                     Robbery 2014-07-26   Jul  2014     WALLER ST / E 2ND ST   \n",
       "\n",
       "  PrimaryStreet  \n",
       "0         IH 35  \n",
       "1  ROCKHURST LN  \n",
       "2        7TH ST  \n",
       "3    WHELESS LN  \n",
       "4     WALLER ST  "
      ]
     },
     "execution_count": 10,
     "metadata": {},
     "output_type": "execute_result"
    }
   ],
   "source": [
    "#make copy of dataframe\n",
    "sliced = crime.loc[:, 'Clearance Date':'Detailed Offense Description'].merge(crime.loc[:, 'Zipcode':'PrimaryStreet'], right_index=True, left_index=True)\n",
    "sliced.head()"
   ]
  },
  {
   "cell_type": "code",
   "execution_count": 42,
   "metadata": {},
   "outputs": [
    {
     "data": {
      "text/plain": [
       "N    61897\n",
       "C    11003\n",
       "O     1759\n",
       "Name: Clearance Status, dtype: int64"
      ]
     },
     "execution_count": 42,
     "metadata": {},
     "output_type": "execute_result"
    }
   ],
   "source": [
    "#How many of each clearance type?\n",
    "sliced = sliced[sliced['X Coordinate']>0]\n",
    "sliced['Clearance Status'].value_counts()"
   ]
  },
  {
   "cell_type": "code",
   "execution_count": 44,
   "metadata": {},
   "outputs": [
    {
     "data": {
      "text/html": [
       "<div>\n",
       "<style>\n",
       "    .dataframe thead tr:only-child th {\n",
       "        text-align: right;\n",
       "    }\n",
       "\n",
       "    .dataframe thead th {\n",
       "        text-align: left;\n",
       "    }\n",
       "\n",
       "    .dataframe tbody tr th {\n",
       "        vertical-align: top;\n",
       "    }\n",
       "</style>\n",
       "<table border=\"1\" class=\"dataframe\">\n",
       "  <thead>\n",
       "    <tr style=\"text-align: right;\">\n",
       "      <th></th>\n",
       "      <th>Clearance Date</th>\n",
       "      <th>Clearance Status</th>\n",
       "      <th>Council District</th>\n",
       "      <th>Census Tract</th>\n",
       "      <th>District</th>\n",
       "      <th>Detailed Offense Description</th>\n",
       "      <th>Zipcode</th>\n",
       "      <th>Primary Key</th>\n",
       "      <th>Report Date</th>\n",
       "      <th>X Coordinate</th>\n",
       "      <th>Y Coordinate</th>\n",
       "      <th>General Offense Description</th>\n",
       "      <th>Date</th>\n",
       "      <th>Month</th>\n",
       "      <th>Year</th>\n",
       "      <th>Streetname</th>\n",
       "      <th>PrimaryStreet</th>\n",
       "      <th>Indicator</th>\n",
       "    </tr>\n",
       "  </thead>\n",
       "  <tbody>\n",
       "    <tr>\n",
       "      <th>0</th>\n",
       "      <td>04/28/2014 12:00:00 AM</td>\n",
       "      <td>N</td>\n",
       "      <td>1</td>\n",
       "      <td>18.350000000000001</td>\n",
       "      <td>E</td>\n",
       "      <td>AGG ROBBERY/DEADLY WEAPON</td>\n",
       "      <td>78753</td>\n",
       "      <td>20141061920</td>\n",
       "      <td>04/17/2014 12:00:00 AM</td>\n",
       "      <td>3135985</td>\n",
       "      <td>10117220</td>\n",
       "      <td>Robbery</td>\n",
       "      <td>2014-04-17</td>\n",
       "      <td>Apr</td>\n",
       "      <td>2014</td>\n",
       "      <td>IH 35</td>\n",
       "      <td>IH 35</td>\n",
       "      <td>2.0</td>\n",
       "    </tr>\n",
       "    <tr>\n",
       "      <th>1</th>\n",
       "      <td>05/20/2014 12:00:00 AM</td>\n",
       "      <td>N</td>\n",
       "      <td>1</td>\n",
       "      <td>21.13</td>\n",
       "      <td>I</td>\n",
       "      <td>ROBBERY BY ASSAULT</td>\n",
       "      <td>78723</td>\n",
       "      <td>20141150937</td>\n",
       "      <td>04/25/2014 12:00:00 AM</td>\n",
       "      <td>3137985</td>\n",
       "      <td>10087946</td>\n",
       "      <td>Robbery</td>\n",
       "      <td>2014-04-25</td>\n",
       "      <td>Apr</td>\n",
       "      <td>2014</td>\n",
       "      <td>ROCKHURST LN</td>\n",
       "      <td>ROCKHURST LN</td>\n",
       "      <td>2.0</td>\n",
       "    </tr>\n",
       "    <tr>\n",
       "      <th>2</th>\n",
       "      <td>05/13/2014 12:00:00 AM</td>\n",
       "      <td>N</td>\n",
       "      <td>3</td>\n",
       "      <td>9.02</td>\n",
       "      <td>C</td>\n",
       "      <td>ROBBERY BY THREAT</td>\n",
       "      <td>78702</td>\n",
       "      <td>20141310316</td>\n",
       "      <td>05/11/2014 12:00:00 AM</td>\n",
       "      <td>3120890</td>\n",
       "      <td>10068910</td>\n",
       "      <td>Robbery</td>\n",
       "      <td>2014-05-11</td>\n",
       "      <td>May</td>\n",
       "      <td>2014</td>\n",
       "      <td>7TH ST / CHICON ST</td>\n",
       "      <td>7TH ST</td>\n",
       "      <td>2.0</td>\n",
       "    </tr>\n",
       "    <tr>\n",
       "      <th>3</th>\n",
       "      <td>03/24/2015 12:00:00 AM</td>\n",
       "      <td>C</td>\n",
       "      <td>1</td>\n",
       "      <td>21.04</td>\n",
       "      <td>I</td>\n",
       "      <td>AGG ROBBERY/DEADLY WEAPON</td>\n",
       "      <td>78723</td>\n",
       "      <td>20141670098</td>\n",
       "      <td>06/16/2014 12:00:00 AM</td>\n",
       "      <td>3130566</td>\n",
       "      <td>10089446</td>\n",
       "      <td>Robbery</td>\n",
       "      <td>2014-06-16</td>\n",
       "      <td>Jun</td>\n",
       "      <td>2014</td>\n",
       "      <td>WHELESS LN / BERKMAN DR</td>\n",
       "      <td>WHELESS LN</td>\n",
       "      <td>1.0</td>\n",
       "    </tr>\n",
       "    <tr>\n",
       "      <th>4</th>\n",
       "      <td>10/02/2014 12:00:00 AM</td>\n",
       "      <td>N</td>\n",
       "      <td>3</td>\n",
       "      <td>9.02</td>\n",
       "      <td>G</td>\n",
       "      <td>AGG ROBBERY/DEADLY WEAPON</td>\n",
       "      <td>78702</td>\n",
       "      <td>20142070292</td>\n",
       "      <td>07/26/2014 12:00:00 AM</td>\n",
       "      <td>3117732</td>\n",
       "      <td>10068195</td>\n",
       "      <td>Robbery</td>\n",
       "      <td>2014-07-26</td>\n",
       "      <td>Jul</td>\n",
       "      <td>2014</td>\n",
       "      <td>WALLER ST / E 2ND ST</td>\n",
       "      <td>WALLER ST</td>\n",
       "      <td>2.0</td>\n",
       "    </tr>\n",
       "  </tbody>\n",
       "</table>\n",
       "</div>"
      ],
      "text/plain": [
       "           Clearance Date Clearance Status Council District  \\\n",
       "0  04/28/2014 12:00:00 AM                N                1   \n",
       "1  05/20/2014 12:00:00 AM                N                1   \n",
       "2  05/13/2014 12:00:00 AM                N                3   \n",
       "3  03/24/2015 12:00:00 AM                C                1   \n",
       "4  10/02/2014 12:00:00 AM                N                3   \n",
       "\n",
       "         Census Tract District    Detailed Offense Description Zipcode  \\\n",
       "0  18.350000000000001        E  AGG ROBBERY/DEADLY WEAPON        78753   \n",
       "1               21.13        I  ROBBERY BY ASSAULT               78723   \n",
       "2                9.02        C  ROBBERY BY THREAT                78702   \n",
       "3               21.04        I  AGG ROBBERY/DEADLY WEAPON        78723   \n",
       "4                9.02        G  AGG ROBBERY/DEADLY WEAPON        78702   \n",
       "\n",
       "   Primary Key             Report Date X Coordinate Y Coordinate  \\\n",
       "0  20141061920  04/17/2014 12:00:00 AM      3135985     10117220   \n",
       "1  20141150937  04/25/2014 12:00:00 AM      3137985     10087946   \n",
       "2  20141310316  05/11/2014 12:00:00 AM      3120890     10068910   \n",
       "3  20141670098  06/16/2014 12:00:00 AM      3130566     10089446   \n",
       "4  20142070292  07/26/2014 12:00:00 AM      3117732     10068195   \n",
       "\n",
       "  General Offense Description       Date Month  Year               Streetname  \\\n",
       "0                     Robbery 2014-04-17   Apr  2014                    IH 35   \n",
       "1                     Robbery 2014-04-25   Apr  2014             ROCKHURST LN   \n",
       "2                     Robbery 2014-05-11   May  2014       7TH ST / CHICON ST   \n",
       "3                     Robbery 2014-06-16   Jun  2014  WHELESS LN / BERKMAN DR   \n",
       "4                     Robbery 2014-07-26   Jul  2014     WALLER ST / E 2ND ST   \n",
       "\n",
       "  PrimaryStreet  Indicator  \n",
       "0         IH 35        2.0  \n",
       "1  ROCKHURST LN        2.0  \n",
       "2        7TH ST        2.0  \n",
       "3    WHELESS LN        1.0  \n",
       "4     WALLER ST        2.0  "
      ]
     },
     "execution_count": 44,
     "metadata": {},
     "output_type": "execute_result"
    }
   ],
   "source": [
    "sliced['Indicator'] = 0.0\n",
    "sliced.loc[sliced['Clearance Status']=='C', 'Indicator'] = 1.0\n",
    "sliced.loc[sliced['Clearance Status']=='N', 'Indicator'] = 2.0\n",
    "sliced.head()"
   ]
  },
  {
   "cell_type": "code",
   "execution_count": 45,
   "metadata": {},
   "outputs": [
    {
     "name": "stdout",
     "output_type": "stream",
     "text": [
      "Design matrix X\n",
      "  X Coordinate Y Coordinate\n",
      "0      3135985     10117220\n",
      "1      3137985     10087946\n",
      "2      3120890     10068910\n",
      "3      3130566     10089446\n",
      "4      3117732     10068195\n",
      "Outcomes Y\n",
      "   Indicator\n",
      "0        2.0\n",
      "1        2.0\n",
      "2        2.0\n",
      "3        1.0\n",
      "4        2.0\n"
     ]
    }
   ],
   "source": [
    "Y = pd.DataFrame(sliced['Indicator'])\n",
    "X = pd.DataFrame(sliced[['X Coordinate', 'Y Coordinate']])\n",
    "print 'Design matrix X'\n",
    "print X[:5]\n",
    "print 'Outcomes Y'\n",
    "print Y[:5]"
   ]
  },
  {
   "cell_type": "code",
   "execution_count": 46,
   "metadata": {},
   "outputs": [
    {
     "data": {
      "text/plain": [
       "<matplotlib.colorbar.Colorbar at 0x107d5438>"
      ]
     },
     "execution_count": 46,
     "metadata": {},
     "output_type": "execute_result"
    },
    {
     "data": {
      "image/png": "[encoded data removed]",
      "text/plain": [
       "<matplotlib.figure.Figure at 0x110178d0>"
      ]
     },
     "metadata": {},
     "output_type": "display_data"
    }
   ],
   "source": [
    "y = Y['Indicator'].values\n",
    "sc = scatter(sliced['X Coordinate'], sliced['Y Coordinate'], c=y, cmap='bwr')\n",
    "colorbar(sc)"
   ]
  },
  {
   "cell_type": "code",
   "execution_count": 47,
   "metadata": {
    "collapsed": true
   },
   "outputs": [],
   "source": [
    "from sklearn.model_selection import train_test_split\n",
    "X_train, X_test, y_train, y_test = train_test_split(X, y, test_size=0.3, random_state=1)"
   ]
  },
  {
   "cell_type": "code",
   "execution_count": 48,
   "metadata": {
    "collapsed": true
   },
   "outputs": [],
   "source": [
    "from sklearn import neighbors\n",
    "model = neighbors.KNeighborsClassifier(n_neighbors=15,\n",
    "                                       weights='uniform',\n",
    "                                       p=2)"
   ]
  },
  {
   "cell_type": "code",
   "execution_count": 49,
   "metadata": {},
   "outputs": [
    {
     "data": {
      "text/plain": [
       "KNeighborsClassifier(algorithm='auto', leaf_size=30, metric='minkowski',\n",
       "           metric_params=None, n_jobs=1, n_neighbors=15, p=2,\n",
       "           weights='uniform')"
      ]
     },
     "execution_count": 49,
     "metadata": {},
     "output_type": "execute_result"
    }
   ],
   "source": [
    "model.fit(X_train, y_train)"
   ]
  },
  {
   "cell_type": "code",
   "execution_count": 50,
   "metadata": {},
   "outputs": [
    {
     "name": "stdout",
     "output_type": "stream",
     "text": [
      "0.818671750408\n"
     ]
    }
   ],
   "source": [
    "from sklearn import metrics\n",
    "prediction_on_training = model.predict(X_train)\n",
    "print metrics.accuracy_score(y_train, prediction_on_training)"
   ]
  },
  {
   "cell_type": "code",
   "execution_count": 51,
   "metadata": {},
   "outputs": [
    {
     "data": {
      "text/plain": [
       "<matplotlib.colorbar.Colorbar at 0x12c57fd0>"
      ]
     },
     "execution_count": 51,
     "metadata": {},
     "output_type": "execute_result"
    },
    {
     "data": {
      "image/png": "[encoded data removed]",
      "text/plain": [
       "<matplotlib.figure.Figure at 0x10ab6d30>"
      ]
     },
     "metadata": {},
     "output_type": "display_data"
    }
   ],
   "source": [
    "sc = scatter(X_train['X Coordinate'], X_train['Y Coordinate'], c=y_train, cmap='bwr')\n",
    "colorbar(sc)"
   ]
  },
  {
   "cell_type": "code",
   "execution_count": 52,
   "metadata": {},
   "outputs": [
    {
     "data": {
      "text/plain": [
       "<matplotlib.collections.PathCollection at 0x14e6e828>"
      ]
     },
     "execution_count": 52,
     "metadata": {},
     "output_type": "execute_result"
    },
    {
     "data": {
      "image/png": "[encoded data removed]",
      "text/plain": [
       "<matplotlib.figure.Figure at 0x1314b978>"
      ]
     },
     "metadata": {},
     "output_type": "display_data"
    }
   ],
   "source": [
    "scatter(X_test['X Coordinate'], X_test['Y Coordinate'], c=y_test, cmap='bwr')"
   ]
  },
  {
   "cell_type": "code",
   "execution_count": 53,
   "metadata": {},
   "outputs": [
    {
     "name": "stdout",
     "output_type": "stream",
     "text": [
      "0.819383259912\n"
     ]
    }
   ],
   "source": [
    "predicted_classes = model.predict(X_test)\n",
    "print metrics.accuracy_score(y_test, predicted_classes)"
   ]
  },
  {
   "cell_type": "code",
   "execution_count": 54,
   "metadata": {
    "collapsed": true
   },
   "outputs": [],
   "source": [
    "#Cross validation\n",
    "from sklearn import model_selection\n",
    "\n",
    "def cv_accuracy_score(X, y, nn):\n",
    "    \"\"\"For each fold, fit the nearest neighbors model\n",
    "    with nn nearest neighbors on the train, and return accuracy\n",
    "    on the test.\"\"\"\n",
    "    \n",
    "    model = neighbors.KNeighborsClassifier(n_neighbors=nn,\n",
    "                                           weights='uniform')\n",
    "    accuracies = []\n",
    "    \n",
    "    kfold = model_selection.StratifiedKFold(n_splits=3, shuffle=True).split(X, y)\n",
    "    for train, holdout in kfold:\n",
    "        # Select the training and testing data using the indices\n",
    "        # provided by kfold\n",
    "        X_train = X.iloc[train]\n",
    "        X_holdout = X.iloc[holdout]\n",
    "        y_train = y[train]\n",
    "        y_holdout = y[holdout]\n",
    "        \n",
    "        # Fit the model\n",
    "        model.fit(X_train, y_train)\n",
    "        \n",
    "        # Compute test accuracy\n",
    "        accuracy = metrics.accuracy_score(y_holdout, model.predict(X_holdout))\n",
    "        accuracies.append(accuracy)\n",
    "    \n",
    "    average_accuracy = sum(accuracies) * 1.0 / len(accuracies)\n",
    "    return average_accuracy"
   ]
  },
  {
   "cell_type": "code",
   "execution_count": 55,
   "metadata": {},
   "outputs": [
    {
     "data": {
      "text/plain": [
       "0.71972414579535371"
      ]
     },
     "execution_count": 55,
     "metadata": {},
     "output_type": "execute_result"
    }
   ],
   "source": [
    "cv_accuracy_score(X, y, nn=1)"
   ]
  },
  {
   "cell_type": "code",
   "execution_count": 56,
   "metadata": {},
   "outputs": [
    {
     "data": {
      "text/plain": [
       "<matplotlib.text.Text at 0x153179e8>"
      ]
     },
     "execution_count": 56,
     "metadata": {},
     "output_type": "execute_result"
    },
    {
     "data": {
      "image/png": "[encoded data removed]",
      "text/plain": [
       "<matplotlib.figure.Figure at 0x10d43320>"
      ]
     },
     "metadata": {},
     "output_type": "display_data"
    }
   ],
   "source": [
    "nn = [1] + [(x + 1) * 5 for x in range(19)]\n",
    "\n",
    "scores = [cv_accuracy_score(X, y, num_nbrs) for num_nbrs in nn]\n",
    "\n",
    "plot(nn, scores)\n",
    "xlabel('Number of nearest neighbors')\n",
    "ylabel('Accuracy of classifier')"
   ]
  },
  {
   "cell_type": "code",
   "execution_count": null,
   "metadata": {
    "collapsed": true
   },
   "outputs": [],
   "source": []
  }
 ],
 "metadata": {
  "kernelspec": {
   "display_name": "Python 2",
   "language": "python",
   "name": "python2"
  },
  "language_info": {
   "codemirror_mode": {
    "name": "ipython",
    "version": 2
   },
   "file_extension": ".py",
   "mimetype": "text/x-python",
   "name": "python",
   "nbconvert_exporter": "python",
   "pygments_lexer": "ipython2",
   "version": "2.7.13"
  }
 },
 "nbformat": 4,
 "nbformat_minor": 2
}
