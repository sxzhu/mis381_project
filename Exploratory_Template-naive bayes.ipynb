{
 "cells": [
  {
   "cell_type": "code",
   "execution_count": 1,
   "metadata": {},
   "outputs": [
    {
     "name": "stdout",
     "output_type": "stream",
     "text": [
      "Populating the interactive namespace from numpy and matplotlib\n"
     ]
    }
   ],
   "source": [
    "from pandas import Series, DataFrame\n",
    "import pandas as pd\n",
    "from patsy import dmatrices\n",
    "import calendar\n",
    "%pylab inline\n",
    "\n",
    "import warnings\n",
    "warnings.filterwarnings('ignore')"
   ]
  },
  {
   "cell_type": "markdown",
   "metadata": {},
   "source": [
    "# Setup"
   ]
  },
  {
   "cell_type": "code",
   "execution_count": 2,
   "metadata": {
    "collapsed": true
   },
   "outputs": [],
   "source": [
    "#read data in, appended 2014/2015, removed GO from col names\n",
    "crime2014 = pd.read_csv(\"https://raw.githubusercontent.com/sxzhu/mis381_project/master/Austin_Crime_2014.csv\", dtype=unicode, encoding='utf-8')\n",
    "crime2014[:3]\n",
    "\n",
    "crime2015 = pd.read_csv(\"https://raw.githubusercontent.com/sxzhu/mis381_project/master/Austin_Crime_2015.csv\", dtype=unicode, encoding='utf-8')\n",
    "crime = crime2014.append(crime2015,ignore_index=True)\n",
    "\n",
    "crime = crime.rename(index=str, columns={\"Highest NIBRS/UCR Offense Description\": \"General Offense Description\",\\\n",
    "                                 \"GO Highest Offense Desc\":\"Detailed Offense Description\",\\\n",
    "                                 \"GO Location\":\"Location\",\"GO Report Date\":\"Report Date\",\\\n",
    "                                 \"GO Location Zip\":\"Zipcode\",\"GO District\":\"District\",\"GO Census Tract\":\"Census Tract\",\\\n",
    "                                 \"GO X Coordinate\":\"X Coordinate\",\"GO Y Coordinate\":\"Y Coordinate\",\\\n",
    "                                      \"GO Primary Key\":\"Primary Key\"})\n",
    "\n",
    "crime = crime.drop('Location_1', axis=1)\n",
    "crime['Date'] = pd.DatetimeIndex(crime['Report Date'])\n",
    "crime['Month'] = pd.DatetimeIndex(crime['Date']).month\n",
    "crime['Month'] = crime['Month'].apply(lambda x: calendar.month_abbr[x])\n",
    "crime['Year'] = pd.DatetimeIndex(crime['Report Date']).year"
   ]
  },
  {
   "cell_type": "markdown",
   "metadata": {},
   "source": [
    "## Merge Crimes"
   ]
  },
  {
   "cell_type": "code",
   "execution_count": 3,
   "metadata": {},
   "outputs": [
    {
     "data": {
      "text/plain": [
       "Theft                 61908\n",
       "Burglary              10597\n",
       "Aggravated Assault     3803\n",
       "Robbery                1809\n",
       "Rape                   1042\n",
       "Murder                   55\n",
       "Name: General Offense Description, dtype: int64"
      ]
     },
     "execution_count": 3,
     "metadata": {},
     "output_type": "execute_result"
    }
   ],
   "source": [
    "def merge_crimes(s):\n",
    "    \"\"\"Map some crimes together.\"\"\"\n",
    "    \n",
    "    # Create a map of misspellings to correct spelling\n",
    "    misspellings = {'Burglary / \\nBreaking & Entering':'Burglary',\n",
    "                    'Auto Theft':'Theft: Auto Parts',\n",
    "                    'Homicide: Murder & Nonnegligent Manslaughter':'Murder',\n",
    "                    'Agg Assault':'Aggravated Assault'}\n",
    "    \n",
    "    if s in misspellings:\n",
    "        return misspellings[s]\n",
    "    else:\n",
    "        return s\n",
    "    \n",
    "# Apply the function to the Series\n",
    "crime['General Offense Description'] = crime['General Offense Description'].map(merge_crimes)\n",
    "\n",
    "def merge_theft(s):\n",
    "    \"\"\"Map some crimes together.\"\"\"\n",
    "    \n",
    "    if (s[:5]=='Theft'):\n",
    "        return s[:5]\n",
    "    else:\n",
    "        return s\n",
    "    \n",
    "# Apply the function to the Series\n",
    "crime['General Offense Description'] = crime['General Offense Description'].map(merge_theft)\n",
    "\n",
    "# Check that it worked\n",
    "# mask = (crime['General Offense Description'] == 'Agg Assault')\n",
    "# crime['General Offense Description'][mask]  # should be empty\n",
    "\n",
    "crime['General Offense Description'].value_counts()"
   ]
  },
  {
   "cell_type": "markdown",
   "metadata": {},
   "source": [
    "# Final Dataframe"
   ]
  },
  {
   "cell_type": "code",
   "execution_count": 4,
   "metadata": {
    "collapsed": true
   },
   "outputs": [],
   "source": [
    "#Add the 'Streetname' column to both dataframes, keeping only the street name information\n",
    "# removes leading numbers, leading 'BLOCK', leading hyphenated or / numbers, trailing 'NB', 'SB', 'EB', 'WB', trailing 'SVRD', and leading 'N', 'S', 'E', 'W'\n",
    "\n",
    "crime['Streetname'] = crime['Location'].str.rsplit('\\n', -1).str[0].str.replace('^[/\\s\\d-]+/?\\d*\\s+', '').str.replace('^\\d+[A-Z]\\s+', '').str.replace('^BLOCK\\s+', '').str.replace('\\s[NSEW]B\\s*$', '').str.replace('\\sSVRD\\s*$', '').str.replace('^\\s*[NSEW]\\s+', '').str.replace(' HALF ST', ' ST').str.rstrip()\n",
    "crime['PrimaryStreet'] = crime['Streetname'].str.rsplit(' / ', -1).str[0]\n",
    "crime['SecondaryStreet'] = crime['Streetname'].str.rsplit(' / ', -1).str[1]"
   ]
  },
  {
   "cell_type": "code",
   "execution_count": 21,
   "metadata": {},
   "outputs": [
    {
     "data": {
      "text/plain": [
       "0.0    67939\n",
       "1.0    11275\n",
       "Name: target, dtype: int64"
      ]
     },
     "execution_count": 21,
     "metadata": {},
     "output_type": "execute_result"
    }
   ],
   "source": [
    "crime['target'] = 0.0\n",
    "mask = (crime['Clearance Status']=='C')\n",
    "crime['target'][mask] = 1.0\n",
    "\n",
    "crime['target'].value_counts()"
   ]
  },
  {
   "cell_type": "code",
   "execution_count": 22,
   "metadata": {
    "collapsed": true
   },
   "outputs": [],
   "source": [
    "df = crime[crime['Zipcode']!=1]"
   ]
  },
  {
   "cell_type": "code",
   "execution_count": 23,
   "metadata": {},
   "outputs": [
    {
     "data": {
      "text/plain": [
       "array([u'Council District_1', u'Council District_10',\n",
       "       u'Council District_2', u'Council District_3', u'Council District_4',\n",
       "       u'Council District_5', u'Council District_6', u'Council District_7',\n",
       "       u'Council District_8', u'Council District_9'], dtype=object)"
      ]
     },
     "execution_count": 23,
     "metadata": {},
     "output_type": "execute_result"
    }
   ],
   "source": [
    "categorical_columns = ['Council District', 'District', 'Detailed Offense Description', 'Zipcode', \n",
    "                       'General Offense Description', 'Month']\n",
    "df_dummies = pd.get_dummies(df[categorical_columns],\n",
    "                            prefix=categorical_columns,\n",
    "                            columns=categorical_columns)\n",
    "dummy_column_names = df_dummies.columns.values\n",
    "dummy_column_names[:10]"
   ]
  },
  {
   "cell_type": "code",
   "execution_count": 24,
   "metadata": {},
   "outputs": [
    {
     "data": {
      "text/html": [
       "<div>\n",
       "<style>\n",
       "    .dataframe thead tr:only-child th {\n",
       "        text-align: right;\n",
       "    }\n",
       "\n",
       "    .dataframe thead th {\n",
       "        text-align: left;\n",
       "    }\n",
       "\n",
       "    .dataframe tbody tr th {\n",
       "        vertical-align: top;\n",
       "    }\n",
       "</style>\n",
       "<table border=\"1\" class=\"dataframe\">\n",
       "  <thead>\n",
       "    <tr style=\"text-align: right;\">\n",
       "      <th></th>\n",
       "      <th>Clearance Date</th>\n",
       "      <th>Clearance Status</th>\n",
       "      <th>Council District</th>\n",
       "      <th>Census Tract</th>\n",
       "      <th>District</th>\n",
       "      <th>Detailed Offense Description</th>\n",
       "      <th>Location</th>\n",
       "      <th>Zipcode</th>\n",
       "      <th>Primary Key</th>\n",
       "      <th>Report Date</th>\n",
       "      <th>...</th>\n",
       "      <th>Month_Dec</th>\n",
       "      <th>Month_Feb</th>\n",
       "      <th>Month_Jan</th>\n",
       "      <th>Month_Jul</th>\n",
       "      <th>Month_Jun</th>\n",
       "      <th>Month_Mar</th>\n",
       "      <th>Month_May</th>\n",
       "      <th>Month_Nov</th>\n",
       "      <th>Month_Oct</th>\n",
       "      <th>Month_Sep</th>\n",
       "    </tr>\n",
       "  </thead>\n",
       "  <tbody>\n",
       "    <tr>\n",
       "      <th>0</th>\n",
       "      <td>04/28/2014 12:00:00 AM</td>\n",
       "      <td>N</td>\n",
       "      <td>1</td>\n",
       "      <td>18.350000000000001</td>\n",
       "      <td>E</td>\n",
       "      <td>AGG ROBBERY/DEADLY WEAPON</td>\n",
       "      <td>12151 N IH 35 SVRD NB                         ...</td>\n",
       "      <td>78753</td>\n",
       "      <td>20141061920</td>\n",
       "      <td>04/17/2014 12:00:00 AM</td>\n",
       "      <td>...</td>\n",
       "      <td>0</td>\n",
       "      <td>0</td>\n",
       "      <td>0</td>\n",
       "      <td>0</td>\n",
       "      <td>0</td>\n",
       "      <td>0</td>\n",
       "      <td>0</td>\n",
       "      <td>0</td>\n",
       "      <td>0</td>\n",
       "      <td>0</td>\n",
       "    </tr>\n",
       "    <tr>\n",
       "      <th>1</th>\n",
       "      <td>05/20/2014 12:00:00 AM</td>\n",
       "      <td>N</td>\n",
       "      <td>1</td>\n",
       "      <td>21.13</td>\n",
       "      <td>I</td>\n",
       "      <td>ROBBERY BY ASSAULT</td>\n",
       "      <td>3300 BLOCK ROCKHURST LN                       ...</td>\n",
       "      <td>78723</td>\n",
       "      <td>20141150937</td>\n",
       "      <td>04/25/2014 12:00:00 AM</td>\n",
       "      <td>...</td>\n",
       "      <td>0</td>\n",
       "      <td>0</td>\n",
       "      <td>0</td>\n",
       "      <td>0</td>\n",
       "      <td>0</td>\n",
       "      <td>0</td>\n",
       "      <td>0</td>\n",
       "      <td>0</td>\n",
       "      <td>0</td>\n",
       "      <td>0</td>\n",
       "    </tr>\n",
       "    <tr>\n",
       "      <th>2</th>\n",
       "      <td>05/13/2014 12:00:00 AM</td>\n",
       "      <td>N</td>\n",
       "      <td>3</td>\n",
       "      <td>9.02</td>\n",
       "      <td>C</td>\n",
       "      <td>ROBBERY BY THREAT</td>\n",
       "      <td>E 7TH ST / CHICON ST                          ...</td>\n",
       "      <td>78702</td>\n",
       "      <td>20141310316</td>\n",
       "      <td>05/11/2014 12:00:00 AM</td>\n",
       "      <td>...</td>\n",
       "      <td>0</td>\n",
       "      <td>0</td>\n",
       "      <td>0</td>\n",
       "      <td>0</td>\n",
       "      <td>0</td>\n",
       "      <td>0</td>\n",
       "      <td>1</td>\n",
       "      <td>0</td>\n",
       "      <td>0</td>\n",
       "      <td>0</td>\n",
       "    </tr>\n",
       "    <tr>\n",
       "      <th>3</th>\n",
       "      <td>03/24/2015 12:00:00 AM</td>\n",
       "      <td>C</td>\n",
       "      <td>1</td>\n",
       "      <td>21.04</td>\n",
       "      <td>I</td>\n",
       "      <td>AGG ROBBERY/DEADLY WEAPON</td>\n",
       "      <td>WHELESS LN / BERKMAN DR                       ...</td>\n",
       "      <td>78723</td>\n",
       "      <td>20141670098</td>\n",
       "      <td>06/16/2014 12:00:00 AM</td>\n",
       "      <td>...</td>\n",
       "      <td>0</td>\n",
       "      <td>0</td>\n",
       "      <td>0</td>\n",
       "      <td>0</td>\n",
       "      <td>1</td>\n",
       "      <td>0</td>\n",
       "      <td>0</td>\n",
       "      <td>0</td>\n",
       "      <td>0</td>\n",
       "      <td>0</td>\n",
       "    </tr>\n",
       "    <tr>\n",
       "      <th>4</th>\n",
       "      <td>10/02/2014 12:00:00 AM</td>\n",
       "      <td>N</td>\n",
       "      <td>3</td>\n",
       "      <td>9.02</td>\n",
       "      <td>G</td>\n",
       "      <td>AGG ROBBERY/DEADLY WEAPON</td>\n",
       "      <td>WALLER ST / E 2ND ST                          ...</td>\n",
       "      <td>78702</td>\n",
       "      <td>20142070292</td>\n",
       "      <td>07/26/2014 12:00:00 AM</td>\n",
       "      <td>...</td>\n",
       "      <td>0</td>\n",
       "      <td>0</td>\n",
       "      <td>0</td>\n",
       "      <td>1</td>\n",
       "      <td>0</td>\n",
       "      <td>0</td>\n",
       "      <td>0</td>\n",
       "      <td>0</td>\n",
       "      <td>0</td>\n",
       "      <td>0</td>\n",
       "    </tr>\n",
       "  </tbody>\n",
       "</table>\n",
       "<p>5 rows × 152 columns</p>\n",
       "</div>"
      ],
      "text/plain": [
       "           Clearance Date Clearance Status Council District  \\\n",
       "0  04/28/2014 12:00:00 AM                N                1   \n",
       "1  05/20/2014 12:00:00 AM                N                1   \n",
       "2  05/13/2014 12:00:00 AM                N                3   \n",
       "3  03/24/2015 12:00:00 AM                C                1   \n",
       "4  10/02/2014 12:00:00 AM                N                3   \n",
       "\n",
       "         Census Tract District    Detailed Offense Description  \\\n",
       "0  18.350000000000001        E  AGG ROBBERY/DEADLY WEAPON        \n",
       "1               21.13        I  ROBBERY BY ASSAULT               \n",
       "2                9.02        C  ROBBERY BY THREAT                \n",
       "3               21.04        I  AGG ROBBERY/DEADLY WEAPON        \n",
       "4                9.02        G  AGG ROBBERY/DEADLY WEAPON        \n",
       "\n",
       "                                            Location Zipcode  Primary Key  \\\n",
       "0  12151 N IH 35 SVRD NB                         ...   78753  20141061920   \n",
       "1  3300 BLOCK ROCKHURST LN                       ...   78723  20141150937   \n",
       "2  E 7TH ST / CHICON ST                          ...   78702  20141310316   \n",
       "3  WHELESS LN / BERKMAN DR                       ...   78723  20141670098   \n",
       "4  WALLER ST / E 2ND ST                          ...   78702  20142070292   \n",
       "\n",
       "              Report Date    ...     Month_Dec Month_Feb Month_Jan Month_Jul  \\\n",
       "0  04/17/2014 12:00:00 AM    ...             0         0         0         0   \n",
       "1  04/25/2014 12:00:00 AM    ...             0         0         0         0   \n",
       "2  05/11/2014 12:00:00 AM    ...             0         0         0         0   \n",
       "3  06/16/2014 12:00:00 AM    ...             0         0         0         0   \n",
       "4  07/26/2014 12:00:00 AM    ...             0         0         0         1   \n",
       "\n",
       "  Month_Jun  Month_Mar Month_May Month_Nov Month_Oct  Month_Sep  \n",
       "0         0          0         0         0         0          0  \n",
       "1         0          0         0         0         0          0  \n",
       "2         0          0         1         0         0          0  \n",
       "3         1          0         0         0         0          0  \n",
       "4         0          0         0         0         0          0  \n",
       "\n",
       "[5 rows x 152 columns]"
      ]
     },
     "execution_count": 24,
     "metadata": {},
     "output_type": "execute_result"
    }
   ],
   "source": [
    "df2 = pd.concat([df, df_dummies], axis=1)\n",
    "df2.head()"
   ]
  },
  {
   "cell_type": "code",
   "execution_count": 25,
   "metadata": {},
   "outputs": [
    {
     "name": "stdout",
     "output_type": "stream",
     "text": [
      "target ~ 0 + Q(\"Council District_1\") + Q(\"Council District_10\") + Q(\"Council District_2\") + Q(\"Council District_3\") + Q(\"Council District_4\") + Q(\"Council District_5\") + Q(\"Council District_6\") + Q(\"Council District_7\") + Q(\"Council District_8\") + Q(\"Council District_9\") + Q(\"District_A\") + Q(\"District_AP\") + Q(\"District_B\") + Q(\"District_C\") + Q(\"District_D\") + Q(\"District_E\") + Q(\"District_F\") + Q(\"District_G\") + Q(\"District_H\") + Q(\"District_I\") + Q(\"District_UK\") + Q(\"Detailed Offense Description_AGG ASLT ENHANC STRANGL/SUFFOC\") + Q(\"Detailed Offense Description_AGG ASLT STRANGLE/SUFFOCATE   \") + Q(\"Detailed Offense Description_AGG ASLT W/MOTOR VEH FAM/DAT V\") + Q(\"Detailed Offense Description_AGG ASSAULT                   \") + Q(\"Detailed Offense Description_AGG ASSAULT FAM/DATE VIOLENCE \") + Q(\"Detailed Offense Description_AGG ASSAULT ON PUBLIC SERVANT \") + Q(\"Detailed Offense Description_AGG ASSAULT WITH MOTOR VEH    \") + Q(\"Detailed Offense Description_AGG RAPE                      \") + Q(\"Detailed Offense Description_AGG RAPE OF A CHILD           \") + Q(\"Detailed Offense Description_AGG ROBBERY BY ASSAULT        \") + Q(\"Detailed Offense Description_AGG ROBBERY/DEADLY WEAPON     \") + Q(\"Detailed Offense Description_AIRPORT - BREACH OF SECURITY  \") + Q(\"Detailed Offense Description_AUTO THEFT                    \") + Q(\"Detailed Offense Description_BREACH OF COMPUTER SECURITY   \") + Q(\"Detailed Offense Description_BURG NON RESIDENCE SHEDS      \") + Q(\"Detailed Offense Description_BURG OF RES - SEXUAL NATURE   \") + Q(\"Detailed Offense Description_BURGLARY NON RESIDENCE        \") + Q(\"Detailed Offense Description_BURGLARY OF COIN-OP MACHINE   \") + Q(\"Detailed Offense Description_BURGLARY OF RESIDENCE         \") + Q(\"Detailed Offense Description_BURGLARY OF VEHICLE           \") + Q(\"Detailed Offense Description_CAPITAL MURDER                \") + Q(\"Detailed Offense Description_DEADLY CONDUCT                \") + Q(\"Detailed Offense Description_DEADLY CONDUCT FAM/DATE VIOL  \") + Q(\"Detailed Offense Description_MANSLAUGHTER                  \") + Q(\"Detailed Offense Description_MISAPPLY FIDUCIARY PROP       \") + Q(\"Detailed Offense Description_MURDER                        \") + Q(\"Detailed Offense Description_PURSE SNATCHING               \") + Q(\"Detailed Offense Description_RAPE                          \") + Q(\"Detailed Offense Description_RAPE OF A CHILD               \") + Q(\"Detailed Offense Description_ROBBERY BY ASSAULT            \") + Q(\"Detailed Offense Description_ROBBERY BY THREAT             \") + Q(\"Detailed Offense Description_TAKE WEAPON FRM POLICE OFFICER\") + Q(\"Detailed Offense Description_THEFT                         \") + Q(\"Detailed Offense Description_THEFT BY SHOPLIFTING          \") + Q(\"Detailed Offense Description_THEFT CATALYTIC CONVERTER     \") + Q(\"Detailed Offense Description_THEFT FROM AUTO               \") + Q(\"Detailed Offense Description_THEFT FROM BUILDING           \") + Q(\"Detailed Offense Description_THEFT FROM PERSON             \") + Q(\"Detailed Offense Description_THEFT OF AUTO PARTS           \") + Q(\"Detailed Offense Description_THEFT OF BICYCLE              \") + Q(\"Detailed Offense Description_THEFT OF HEAVY EQUIPMENT      \") + Q(\"Detailed Offense Description_THEFT OF LICENSE PLATE        \") + Q(\"Detailed Offense Description_THEFT OF METAL                \") + Q(\"Detailed Offense Description_THEFT OF VEHICLE/OTHER        \") + Q(\"Detailed Offense Description_THEFT/TILL TAPPING            \") + Q(\"Zipcode_78610\") + Q(\"Zipcode_78613\") + Q(\"Zipcode_78617\") + Q(\"Zipcode_78652\") + Q(\"Zipcode_78653\") + Q(\"Zipcode_78660\") + Q(\"Zipcode_78701\") + Q(\"Zipcode_78702\") + Q(\"Zipcode_78703\") + Q(\"Zipcode_78704\") + Q(\"Zipcode_78705\") + Q(\"Zipcode_78712\") + Q(\"Zipcode_78717\") + Q(\"Zipcode_78719\") + Q(\"Zipcode_78721\") + Q(\"Zipcode_78722\") + Q(\"Zipcode_78723\") + Q(\"Zipcode_78724\") + Q(\"Zipcode_78725\") + Q(\"Zipcode_78726\") + Q(\"Zipcode_78727\") + Q(\"Zipcode_78728\") + Q(\"Zipcode_78729\") + Q(\"Zipcode_78730\") + Q(\"Zipcode_78731\") + Q(\"Zipcode_78732\") + Q(\"Zipcode_78733\") + Q(\"Zipcode_78735\") + Q(\"Zipcode_78736\") + Q(\"Zipcode_78737\") + Q(\"Zipcode_78739\") + Q(\"Zipcode_78741\") + Q(\"Zipcode_78742\") + Q(\"Zipcode_78744\") + Q(\"Zipcode_78745\") + Q(\"Zipcode_78746\") + Q(\"Zipcode_78747\") + Q(\"Zipcode_78748\") + Q(\"Zipcode_78749\") + Q(\"Zipcode_78750\") + Q(\"Zipcode_78751\") + Q(\"Zipcode_78752\") + Q(\"Zipcode_78753\") + Q(\"Zipcode_78754\") + Q(\"Zipcode_78756\") + Q(\"Zipcode_78757\") + Q(\"Zipcode_78758\") + Q(\"Zipcode_78759\") + Q(\"General Offense Description_Aggravated Assault\") + Q(\"General Offense Description_Burglary\") + Q(\"General Offense Description_Murder\") + Q(\"General Offense Description_Rape\") + Q(\"General Offense Description_Robbery\") + Q(\"General Offense Description_Theft\") + Q(\"Month_Apr\") + Q(\"Month_Aug\") + Q(\"Month_Dec\") + Q(\"Month_Feb\") + Q(\"Month_Jan\") + Q(\"Month_Jul\") + Q(\"Month_Jun\") + Q(\"Month_Mar\") + Q(\"Month_May\") + Q(\"Month_Nov\") + Q(\"Month_Oct\") + Q(\"Month_Sep\")\n"
     ]
    }
   ],
   "source": [
    "formula = 'target ~ 0 + {}'.format(' + '.join(['Q(\"{}\")'.format(x) for x in dummy_column_names]))\n",
    "print formula"
   ]
  },
  {
   "cell_type": "code",
   "execution_count": 26,
   "metadata": {
    "collapsed": true
   },
   "outputs": [],
   "source": [
    "Y, X = dmatrices(formula, df2, return_type='dataframe')"
   ]
  },
  {
   "cell_type": "code",
   "execution_count": 27,
   "metadata": {},
   "outputs": [
    {
     "data": {
      "text/plain": [
       "array([ 0.,  0.,  0.,  1.,  0.,  1.,  0.,  1.,  0.,  0.])"
      ]
     },
     "execution_count": 27,
     "metadata": {},
     "output_type": "execute_result"
    }
   ],
   "source": [
    "y = Y['target'].values\n",
    "y[:10]"
   ]
  },
  {
   "cell_type": "code",
   "execution_count": 28,
   "metadata": {},
   "outputs": [
    {
     "data": {
      "text/plain": [
       "MultinomialNB(alpha=1.0, class_prior=None, fit_prior=True)"
      ]
     },
     "execution_count": 28,
     "metadata": {},
     "output_type": "execute_result"
    }
   ],
   "source": [
    "from sklearn import naive_bayes\n",
    "model = naive_bayes.MultinomialNB()\n",
    "\n",
    "model.fit(X, y)"
   ]
  },
  {
   "cell_type": "code",
   "execution_count": 29,
   "metadata": {},
   "outputs": [
    {
     "name": "stdout",
     "output_type": "stream",
     "text": [
      "0.865680309036\n"
     ]
    }
   ],
   "source": [
    "from sklearn import metrics\n",
    "\n",
    "prediction_train = model.predict(X)\n",
    "print metrics.accuracy_score(y, prediction_train)"
   ]
  },
  {
   "cell_type": "code",
   "execution_count": 30,
   "metadata": {
    "collapsed": true
   },
   "outputs": [],
   "source": [
    "from sklearn.model_selection import train_test_split\n",
    "X_train, X_test, y_train, y_test = train_test_split(X, y, test_size=0.3, random_state=1)"
   ]
  },
  {
   "cell_type": "code",
   "execution_count": 31,
   "metadata": {},
   "outputs": [
    {
     "data": {
      "text/plain": [
       "MultinomialNB(alpha=1.0, class_prior=None, fit_prior=True)"
      ]
     },
     "execution_count": 31,
     "metadata": {},
     "output_type": "execute_result"
    }
   ],
   "source": [
    "model.fit(X_train, y_train)"
   ]
  },
  {
   "cell_type": "code",
   "execution_count": 32,
   "metadata": {},
   "outputs": [
    {
     "name": "stdout",
     "output_type": "stream",
     "text": [
      "0.868041237113\n"
     ]
    }
   ],
   "source": [
    "prediction_test = model.predict(X_test)\n",
    "print metrics.accuracy_score(y_test, prediction_test)"
   ]
  },
  {
   "cell_type": "code",
   "execution_count": 33,
   "metadata": {},
   "outputs": [
    {
     "name": "stdout",
     "output_type": "stream",
     "text": [
      "Prior probability for the negative class is 0.856318418727\n",
      "Prior probability for the positive class is 0.143681581273\n"
     ]
    }
   ],
   "source": [
    "print 'Prior probability for the negative class is',\n",
    "print exp(model.class_log_prior_[0])\n",
    "print 'Prior probability for the positive class is',\n",
    "print exp(model.class_log_prior_[1])"
   ]
  },
  {
   "cell_type": "code",
   "execution_count": 35,
   "metadata": {},
   "outputs": [
    {
     "data": {
      "text/plain": [
       "0.0    0.857664\n",
       "1.0    0.142336\n",
       "Name: target, dtype: float64"
      ]
     },
     "execution_count": 35,
     "metadata": {},
     "output_type": "execute_result"
    }
   ],
   "source": [
    "df2['target'].value_counts() / len(df2)"
   ]
  },
  {
   "cell_type": "code",
   "execution_count": 36,
   "metadata": {},
   "outputs": [
    {
     "data": {
      "text/plain": [
       "array([  3.97619538e-01,   9.20195184e-01,   3.28277289e-01,\n",
       "         3.08383034e-01,   2.93077854e-01,   2.72844944e-02,\n",
       "         1.79349089e-01,   6.01920400e-02,   1.64406598e-01,\n",
       "         2.65410891e-01,   1.36655364e-01,   9.30608850e-01,\n",
       "         3.74581924e-01,   2.07141005e-01,   1.71007561e-01,\n",
       "         4.74289139e-02,   7.28887688e-04,   1.77364435e-01,\n",
       "         9.50937811e-02,   3.03976458e-01,   1.10007717e-01,\n",
       "         2.59759345e+00,   2.43167738e+00,   8.14972425e-01,\n",
       "         7.19035482e-01,   2.40627513e+00,   2.18802156e+00,\n",
       "         6.46203835e-01,   8.95253256e-01,   2.13395434e+00,\n",
       "         8.17475555e-01,   7.54830974e-01,   3.96262090e-01,\n",
       "         3.77936506e-02,   2.36848345e+00,   1.70008126e+00,\n",
       "         9.20301787e-03,   5.29587331e-01,   9.32138292e-01,\n",
       "         5.54876882e-01,   1.96326908e+00,   2.88116874e+00,\n",
       "         5.29793483e-01,   1.08940927e+00,   2.69884718e+00,\n",
       "         4.14668126e-01,   1.95440671e+00,   2.96885090e-01,\n",
       "         2.70599228e-01,   1.21201159e+00,   6.14767653e-01,\n",
       "         1.07698675e+00,   4.18045172e+00,   3.68091431e-01,\n",
       "         1.87728163e+00,   9.25493750e-01,   2.79985675e+00,\n",
       "         3.42965822e+00,   6.25773699e-01,   3.32338902e+00,\n",
       "         2.22729880e+00,   3.57509712e-01,   1.83153607e+00,\n",
       "         2.53082468e-01,   1.49248964e+00,   1.73118539e-01,\n",
       "         1.08940927e+00,   1.61704201e+00,   6.99568555e-01,\n",
       "         9.25493750e-01,   6.15338821e-01,   7.65772025e-01,\n",
       "         4.03226354e-01,   3.35643101e-01,   2.23820642e-01,\n",
       "         1.11380838e-01,   1.02897751e+00,   7.02350198e-01,\n",
       "         3.68577019e-01,   9.11105012e-01,   2.22983879e-01,\n",
       "         4.00382169e-01,   7.66129017e-02,   2.52875149e-01,\n",
       "         1.28549648e+00,   2.42111410e-01,   1.50988780e-01,\n",
       "         7.02350198e-01,   4.33017265e-01,   6.68448647e-01,\n",
       "         8.89561741e-01,   1.37709134e+00,   6.83944163e-01,\n",
       "         8.43185102e-01,   1.29705731e+00,   1.27173083e+00,\n",
       "         1.13521428e+00,   2.51491744e-01,   1.21681001e-01,\n",
       "         2.65826693e-01,   7.81958894e-02,   7.55613109e-01,\n",
       "         1.66388601e-01,   4.54199927e-01,   1.64338434e-01,\n",
       "         7.56417420e-01,   2.00147211e-01,   5.92977641e-01,\n",
       "         7.23721414e-01,   1.12673247e+00,   7.34715483e-01,\n",
       "         2.30566846e-02,   2.24205412e-01,   8.21445742e-01,\n",
       "         1.66979258e+00,   5.87833307e-01,   2.22438920e+00,\n",
       "         6.43348182e-01,   7.28013626e-01,   1.35140134e-01,\n",
       "         1.01995347e-01,   5.91116576e-02,   1.61616078e-01,\n",
       "         5.48322139e-02,   9.96910704e-02,   1.03131566e-02,\n",
       "         1.73864363e-02,   1.00174796e-01,   7.49340700e-03,\n",
       "         3.93879942e-02,   1.22287388e-02,   5.99753432e-02])"
      ]
     },
     "execution_count": 36,
     "metadata": {},
     "output_type": "execute_result"
    }
   ],
   "source": [
    "feature_importances = abs(model.feature_log_prob_[1] - model.feature_log_prob_[0])\n",
    "feature_importances"
   ]
  },
  {
   "cell_type": "code",
   "execution_count": 37,
   "metadata": {},
   "outputs": [
    {
     "data": {
      "text/plain": [
       "Q(\"Detailed Offense Description_TAKE WEAPON FRM POLICE OFFICER\")    4.180452\n",
       "Q(\"Detailed Offense Description_THEFT FROM BUILDING           \")    3.429658\n",
       "Q(\"Detailed Offense Description_THEFT OF AUTO PARTS           \")    3.323389\n",
       "Q(\"Detailed Offense Description_CAPITAL MURDER                \")    2.881169\n",
       "Q(\"Detailed Offense Description_THEFT FROM AUTO               \")    2.799857\n",
       "Q(\"Detailed Offense Description_MANSLAUGHTER                  \")    2.698847\n",
       "Q(\"Detailed Offense Description_AGG ASLT ENHANC STRANGL/SUFFOC\")    2.597593\n",
       "Q(\"Detailed Offense Description_AGG ASLT STRANGLE/SUFFOCATE   \")    2.431677\n",
       "Q(\"Detailed Offense Description_AGG ASSAULT FAM/DATE VIOLENCE \")    2.406275\n",
       "Q(\"Detailed Offense Description_BREACH OF COMPUTER SECURITY   \")    2.368483\n",
       "dtype: float64"
      ]
     },
     "execution_count": 37,
     "metadata": {},
     "output_type": "execute_result"
    }
   ],
   "source": [
    "feature_importance_series = Series(feature_importances, index=X.columns.values)\n",
    "feature_importance_series.sort_values(ascending=False)[:10]"
   ]
  },
  {
   "cell_type": "code",
   "execution_count": 38,
   "metadata": {},
   "outputs": [
    {
     "data": {
      "text/plain": [
       "Q(\"Detailed Offense Description_TAKE WEAPON FRM POLICE OFFICER\")    4.180452\n",
       "Q(\"Detailed Offense Description_THEFT FROM BUILDING           \")   -3.429658\n",
       "Q(\"Detailed Offense Description_THEFT OF AUTO PARTS           \")   -3.323389\n",
       "Q(\"Detailed Offense Description_CAPITAL MURDER                \")    2.881169\n",
       "Q(\"Detailed Offense Description_THEFT FROM AUTO               \")   -2.799857\n",
       "Q(\"Detailed Offense Description_MANSLAUGHTER                  \")    2.698847\n",
       "Q(\"Detailed Offense Description_AGG ASLT ENHANC STRANGL/SUFFOC\")    2.597593\n",
       "Q(\"Detailed Offense Description_AGG ASLT STRANGLE/SUFFOCATE   \")    2.431677\n",
       "Q(\"Detailed Offense Description_AGG ASSAULT FAM/DATE VIOLENCE \")    2.406275\n",
       "Q(\"Detailed Offense Description_BREACH OF COMPUTER SECURITY   \")   -2.368483\n",
       "dtype: float64"
      ]
     },
     "execution_count": 38,
     "metadata": {},
     "output_type": "execute_result"
    }
   ],
   "source": [
    "top_10_feature_indices = feature_importance_series.sort_values(ascending=False)[:10].index.values\n",
    "\n",
    "inter_class_differences = model.feature_log_prob_[1] - model.feature_log_prob_[0]\n",
    "new_feature_importance_series = Series(inter_class_differences, index=X.columns.values)\n",
    "\n",
    "new_feature_importance_series[top_10_feature_indices]"
   ]
  },
  {
   "cell_type": "code",
   "execution_count": null,
   "metadata": {
    "collapsed": true
   },
   "outputs": [],
   "source": []
  }
 ],
 "metadata": {
  "kernelspec": {
   "display_name": "Python 2",
   "language": "python",
   "name": "python2"
  },
  "language_info": {
   "codemirror_mode": {
    "name": "ipython",
    "version": 2
   },
   "file_extension": ".py",
   "mimetype": "text/x-python",
   "name": "python",
   "nbconvert_exporter": "python",
   "pygments_lexer": "ipython2",
   "version": "2.7.13"
  }
 },
 "nbformat": 4,
 "nbformat_minor": 2
}
